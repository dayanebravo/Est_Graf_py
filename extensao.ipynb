{
  "nbformat": 4,
  "nbformat_minor": 0,
  "metadata": {
    "colab": {
      "provenance": [],
      "toc_visible": true,
      "authorship_tag": "ABX9TyN3gfFtu43x6UZSiBuptbKO",
      "include_colab_link": true
    },
    "kernelspec": {
      "name": "python3",
      "display_name": "Python 3"
    },
    "language_info": {
      "name": "python"
    }
  },
  "cells": [
    {
      "cell_type": "markdown",
      "metadata": {
        "id": "view-in-github",
        "colab_type": "text"
      },
      "source": [
        "<a href=\"https://colab.research.google.com/github/dayanebravo/Est_Graf_py/blob/main/extensao.ipynb\" target=\"_parent\"><img src=\"https://colab.research.google.com/assets/colab-badge.svg\" alt=\"Open In Colab\"/></a>"
      ]
    },
    {
      "cell_type": "markdown",
      "source": [
        "###ESTATÍSTICA E GRÁFICOS COM PYTHON"
      ],
      "metadata": {
        "id": "8zWmaz9X2F3j"
      }
    },
    {
      "cell_type": "markdown",
      "source": [
        "# Conhecendo o conjunto de dados"
      ],
      "metadata": {
        "id": "9K6VzXOT2L5M"
      }
    },
    {
      "cell_type": "code",
      "source": [
        "import pandas as pd  # biblioteca com ferramentas para análise de dados/dataframes\n",
        "import numpy as np  # biblioteca com operações matemáticas"
      ],
      "metadata": {
        "id": "3OjdzheoDBPC"
      },
      "execution_count": 3,
      "outputs": []
    },
    {
      "cell_type": "code",
      "source": [
        "df = pd.read_csv(\"https://raw.githubusercontent.com/dayanebravo/Est_Graf_py/main/Employee.csv\")  # ler dados no formato CSV\n",
        "\n",
        "# Extraído do Kaggle:\n",
        "# https://www.kaggle.com/datasets/tawfikelmetwally/employee-dataset"
      ],
      "metadata": {
        "id": "qDSEy5N8waZe"
      },
      "execution_count": 80,
      "outputs": []
    },
    {
      "cell_type": "code",
      "source": [
        "df.head()  #  exibe as primeiras linhas da tabela"
      ],
      "metadata": {
        "colab": {
          "base_uri": "https://localhost:8080/",
          "height": 206
        },
        "id": "KGixGqNODGu-",
        "outputId": "33c47cf9-9180-4adb-8965-046ca7ff1fb5"
      },
      "execution_count": 81,
      "outputs": [
        {
          "output_type": "execute_result",
          "data": {
            "text/plain": [
              "   Education  JoiningYear       City  PaymentTier  Age  Gender EverBenched  \\\n",
              "0  Bachelors         2017  Bangalore            3   34    Male          No   \n",
              "1  Bachelors         2013       Pune            1   28  Female          No   \n",
              "2  Bachelors         2014  New Delhi            3   38  Female          No   \n",
              "3    Masters         2016  Bangalore            3   27    Male          No   \n",
              "4    Masters         2017       Pune            3   24    Male         Yes   \n",
              "\n",
              "   ExperienceInCurrentDomain  LeaveOrNot  \n",
              "0                          0           0  \n",
              "1                          3           1  \n",
              "2                          2           0  \n",
              "3                          5           1  \n",
              "4                          2           1  "
            ],
            "text/html": [
              "\n",
              "  <div id=\"df-26c907d3-67b4-434a-96d5-ea7124067edb\" class=\"colab-df-container\">\n",
              "    <div>\n",
              "<style scoped>\n",
              "    .dataframe tbody tr th:only-of-type {\n",
              "        vertical-align: middle;\n",
              "    }\n",
              "\n",
              "    .dataframe tbody tr th {\n",
              "        vertical-align: top;\n",
              "    }\n",
              "\n",
              "    .dataframe thead th {\n",
              "        text-align: right;\n",
              "    }\n",
              "</style>\n",
              "<table border=\"1\" class=\"dataframe\">\n",
              "  <thead>\n",
              "    <tr style=\"text-align: right;\">\n",
              "      <th></th>\n",
              "      <th>Education</th>\n",
              "      <th>JoiningYear</th>\n",
              "      <th>City</th>\n",
              "      <th>PaymentTier</th>\n",
              "      <th>Age</th>\n",
              "      <th>Gender</th>\n",
              "      <th>EverBenched</th>\n",
              "      <th>ExperienceInCurrentDomain</th>\n",
              "      <th>LeaveOrNot</th>\n",
              "    </tr>\n",
              "  </thead>\n",
              "  <tbody>\n",
              "    <tr>\n",
              "      <th>0</th>\n",
              "      <td>Bachelors</td>\n",
              "      <td>2017</td>\n",
              "      <td>Bangalore</td>\n",
              "      <td>3</td>\n",
              "      <td>34</td>\n",
              "      <td>Male</td>\n",
              "      <td>No</td>\n",
              "      <td>0</td>\n",
              "      <td>0</td>\n",
              "    </tr>\n",
              "    <tr>\n",
              "      <th>1</th>\n",
              "      <td>Bachelors</td>\n",
              "      <td>2013</td>\n",
              "      <td>Pune</td>\n",
              "      <td>1</td>\n",
              "      <td>28</td>\n",
              "      <td>Female</td>\n",
              "      <td>No</td>\n",
              "      <td>3</td>\n",
              "      <td>1</td>\n",
              "    </tr>\n",
              "    <tr>\n",
              "      <th>2</th>\n",
              "      <td>Bachelors</td>\n",
              "      <td>2014</td>\n",
              "      <td>New Delhi</td>\n",
              "      <td>3</td>\n",
              "      <td>38</td>\n",
              "      <td>Female</td>\n",
              "      <td>No</td>\n",
              "      <td>2</td>\n",
              "      <td>0</td>\n",
              "    </tr>\n",
              "    <tr>\n",
              "      <th>3</th>\n",
              "      <td>Masters</td>\n",
              "      <td>2016</td>\n",
              "      <td>Bangalore</td>\n",
              "      <td>3</td>\n",
              "      <td>27</td>\n",
              "      <td>Male</td>\n",
              "      <td>No</td>\n",
              "      <td>5</td>\n",
              "      <td>1</td>\n",
              "    </tr>\n",
              "    <tr>\n",
              "      <th>4</th>\n",
              "      <td>Masters</td>\n",
              "      <td>2017</td>\n",
              "      <td>Pune</td>\n",
              "      <td>3</td>\n",
              "      <td>24</td>\n",
              "      <td>Male</td>\n",
              "      <td>Yes</td>\n",
              "      <td>2</td>\n",
              "      <td>1</td>\n",
              "    </tr>\n",
              "  </tbody>\n",
              "</table>\n",
              "</div>\n",
              "    <div class=\"colab-df-buttons\">\n",
              "\n",
              "  <div class=\"colab-df-container\">\n",
              "    <button class=\"colab-df-convert\" onclick=\"convertToInteractive('df-26c907d3-67b4-434a-96d5-ea7124067edb')\"\n",
              "            title=\"Convert this dataframe to an interactive table.\"\n",
              "            style=\"display:none;\">\n",
              "\n",
              "  <svg xmlns=\"http://www.w3.org/2000/svg\" height=\"24px\" viewBox=\"0 -960 960 960\">\n",
              "    <path d=\"M120-120v-720h720v720H120Zm60-500h600v-160H180v160Zm220 220h160v-160H400v160Zm0 220h160v-160H400v160ZM180-400h160v-160H180v160Zm440 0h160v-160H620v160ZM180-180h160v-160H180v160Zm440 0h160v-160H620v160Z\"/>\n",
              "  </svg>\n",
              "    </button>\n",
              "\n",
              "  <style>\n",
              "    .colab-df-container {\n",
              "      display:flex;\n",
              "      gap: 12px;\n",
              "    }\n",
              "\n",
              "    .colab-df-convert {\n",
              "      background-color: #E8F0FE;\n",
              "      border: none;\n",
              "      border-radius: 50%;\n",
              "      cursor: pointer;\n",
              "      display: none;\n",
              "      fill: #1967D2;\n",
              "      height: 32px;\n",
              "      padding: 0 0 0 0;\n",
              "      width: 32px;\n",
              "    }\n",
              "\n",
              "    .colab-df-convert:hover {\n",
              "      background-color: #E2EBFA;\n",
              "      box-shadow: 0px 1px 2px rgba(60, 64, 67, 0.3), 0px 1px 3px 1px rgba(60, 64, 67, 0.15);\n",
              "      fill: #174EA6;\n",
              "    }\n",
              "\n",
              "    .colab-df-buttons div {\n",
              "      margin-bottom: 4px;\n",
              "    }\n",
              "\n",
              "    [theme=dark] .colab-df-convert {\n",
              "      background-color: #3B4455;\n",
              "      fill: #D2E3FC;\n",
              "    }\n",
              "\n",
              "    [theme=dark] .colab-df-convert:hover {\n",
              "      background-color: #434B5C;\n",
              "      box-shadow: 0px 1px 3px 1px rgba(0, 0, 0, 0.15);\n",
              "      filter: drop-shadow(0px 1px 2px rgba(0, 0, 0, 0.3));\n",
              "      fill: #FFFFFF;\n",
              "    }\n",
              "  </style>\n",
              "\n",
              "    <script>\n",
              "      const buttonEl =\n",
              "        document.querySelector('#df-26c907d3-67b4-434a-96d5-ea7124067edb button.colab-df-convert');\n",
              "      buttonEl.style.display =\n",
              "        google.colab.kernel.accessAllowed ? 'block' : 'none';\n",
              "\n",
              "      async function convertToInteractive(key) {\n",
              "        const element = document.querySelector('#df-26c907d3-67b4-434a-96d5-ea7124067edb');\n",
              "        const dataTable =\n",
              "          await google.colab.kernel.invokeFunction('convertToInteractive',\n",
              "                                                    [key], {});\n",
              "        if (!dataTable) return;\n",
              "\n",
              "        const docLinkHtml = 'Like what you see? Visit the ' +\n",
              "          '<a target=\"_blank\" href=https://colab.research.google.com/notebooks/data_table.ipynb>data table notebook</a>'\n",
              "          + ' to learn more about interactive tables.';\n",
              "        element.innerHTML = '';\n",
              "        dataTable['output_type'] = 'display_data';\n",
              "        await google.colab.output.renderOutput(dataTable, element);\n",
              "        const docLink = document.createElement('div');\n",
              "        docLink.innerHTML = docLinkHtml;\n",
              "        element.appendChild(docLink);\n",
              "      }\n",
              "    </script>\n",
              "  </div>\n",
              "\n",
              "\n",
              "<div id=\"df-2b04fb2a-8569-4bde-8713-359deed84299\">\n",
              "  <button class=\"colab-df-quickchart\" onclick=\"quickchart('df-2b04fb2a-8569-4bde-8713-359deed84299')\"\n",
              "            title=\"Suggest charts.\"\n",
              "            style=\"display:none;\">\n",
              "\n",
              "<svg xmlns=\"http://www.w3.org/2000/svg\" height=\"24px\"viewBox=\"0 0 24 24\"\n",
              "     width=\"24px\">\n",
              "    <g>\n",
              "        <path d=\"M19 3H5c-1.1 0-2 .9-2 2v14c0 1.1.9 2 2 2h14c1.1 0 2-.9 2-2V5c0-1.1-.9-2-2-2zM9 17H7v-7h2v7zm4 0h-2V7h2v10zm4 0h-2v-4h2v4z\"/>\n",
              "    </g>\n",
              "</svg>\n",
              "  </button>\n",
              "\n",
              "<style>\n",
              "  .colab-df-quickchart {\n",
              "      --bg-color: #E8F0FE;\n",
              "      --fill-color: #1967D2;\n",
              "      --hover-bg-color: #E2EBFA;\n",
              "      --hover-fill-color: #174EA6;\n",
              "      --disabled-fill-color: #AAA;\n",
              "      --disabled-bg-color: #DDD;\n",
              "  }\n",
              "\n",
              "  [theme=dark] .colab-df-quickchart {\n",
              "      --bg-color: #3B4455;\n",
              "      --fill-color: #D2E3FC;\n",
              "      --hover-bg-color: #434B5C;\n",
              "      --hover-fill-color: #FFFFFF;\n",
              "      --disabled-bg-color: #3B4455;\n",
              "      --disabled-fill-color: #666;\n",
              "  }\n",
              "\n",
              "  .colab-df-quickchart {\n",
              "    background-color: var(--bg-color);\n",
              "    border: none;\n",
              "    border-radius: 50%;\n",
              "    cursor: pointer;\n",
              "    display: none;\n",
              "    fill: var(--fill-color);\n",
              "    height: 32px;\n",
              "    padding: 0;\n",
              "    width: 32px;\n",
              "  }\n",
              "\n",
              "  .colab-df-quickchart:hover {\n",
              "    background-color: var(--hover-bg-color);\n",
              "    box-shadow: 0 1px 2px rgba(60, 64, 67, 0.3), 0 1px 3px 1px rgba(60, 64, 67, 0.15);\n",
              "    fill: var(--button-hover-fill-color);\n",
              "  }\n",
              "\n",
              "  .colab-df-quickchart-complete:disabled,\n",
              "  .colab-df-quickchart-complete:disabled:hover {\n",
              "    background-color: var(--disabled-bg-color);\n",
              "    fill: var(--disabled-fill-color);\n",
              "    box-shadow: none;\n",
              "  }\n",
              "\n",
              "  .colab-df-spinner {\n",
              "    border: 2px solid var(--fill-color);\n",
              "    border-color: transparent;\n",
              "    border-bottom-color: var(--fill-color);\n",
              "    animation:\n",
              "      spin 1s steps(1) infinite;\n",
              "  }\n",
              "\n",
              "  @keyframes spin {\n",
              "    0% {\n",
              "      border-color: transparent;\n",
              "      border-bottom-color: var(--fill-color);\n",
              "      border-left-color: var(--fill-color);\n",
              "    }\n",
              "    20% {\n",
              "      border-color: transparent;\n",
              "      border-left-color: var(--fill-color);\n",
              "      border-top-color: var(--fill-color);\n",
              "    }\n",
              "    30% {\n",
              "      border-color: transparent;\n",
              "      border-left-color: var(--fill-color);\n",
              "      border-top-color: var(--fill-color);\n",
              "      border-right-color: var(--fill-color);\n",
              "    }\n",
              "    40% {\n",
              "      border-color: transparent;\n",
              "      border-right-color: var(--fill-color);\n",
              "      border-top-color: var(--fill-color);\n",
              "    }\n",
              "    60% {\n",
              "      border-color: transparent;\n",
              "      border-right-color: var(--fill-color);\n",
              "    }\n",
              "    80% {\n",
              "      border-color: transparent;\n",
              "      border-right-color: var(--fill-color);\n",
              "      border-bottom-color: var(--fill-color);\n",
              "    }\n",
              "    90% {\n",
              "      border-color: transparent;\n",
              "      border-bottom-color: var(--fill-color);\n",
              "    }\n",
              "  }\n",
              "</style>\n",
              "\n",
              "  <script>\n",
              "    async function quickchart(key) {\n",
              "      const quickchartButtonEl =\n",
              "        document.querySelector('#' + key + ' button');\n",
              "      quickchartButtonEl.disabled = true;  // To prevent multiple clicks.\n",
              "      quickchartButtonEl.classList.add('colab-df-spinner');\n",
              "      try {\n",
              "        const charts = await google.colab.kernel.invokeFunction(\n",
              "            'suggestCharts', [key], {});\n",
              "      } catch (error) {\n",
              "        console.error('Error during call to suggestCharts:', error);\n",
              "      }\n",
              "      quickchartButtonEl.classList.remove('colab-df-spinner');\n",
              "      quickchartButtonEl.classList.add('colab-df-quickchart-complete');\n",
              "    }\n",
              "    (() => {\n",
              "      let quickchartButtonEl =\n",
              "        document.querySelector('#df-2b04fb2a-8569-4bde-8713-359deed84299 button');\n",
              "      quickchartButtonEl.style.display =\n",
              "        google.colab.kernel.accessAllowed ? 'block' : 'none';\n",
              "    })();\n",
              "  </script>\n",
              "</div>\n",
              "    </div>\n",
              "  </div>\n"
            ]
          },
          "metadata": {},
          "execution_count": 81
        }
      ]
    },
    {
      "cell_type": "code",
      "source": [
        "df.shape  # informa a dimensão da tabela (linhas, colunas)"
      ],
      "metadata": {
        "colab": {
          "base_uri": "https://localhost:8080/"
        },
        "id": "OU42e-cFNHAG",
        "outputId": "f1572f0a-214b-4da9-c1c8-fac43b47d127"
      },
      "execution_count": 82,
      "outputs": [
        {
          "output_type": "execute_result",
          "data": {
            "text/plain": [
              "(4653, 9)"
            ]
          },
          "metadata": {},
          "execution_count": 82
        }
      ]
    },
    {
      "cell_type": "code",
      "source": [
        "df.info()  # informações gerais dos dados"
      ],
      "metadata": {
        "colab": {
          "base_uri": "https://localhost:8080/"
        },
        "id": "yYn6DdswNpSC",
        "outputId": "d3998854-4722-45aa-cb5c-ebc201e6257f"
      },
      "execution_count": 83,
      "outputs": [
        {
          "output_type": "stream",
          "name": "stdout",
          "text": [
            "<class 'pandas.core.frame.DataFrame'>\n",
            "RangeIndex: 4653 entries, 0 to 4652\n",
            "Data columns (total 9 columns):\n",
            " #   Column                     Non-Null Count  Dtype \n",
            "---  ------                     --------------  ----- \n",
            " 0   Education                  4653 non-null   object\n",
            " 1   JoiningYear                4653 non-null   int64 \n",
            " 2   City                       4653 non-null   object\n",
            " 3   PaymentTier                4653 non-null   int64 \n",
            " 4   Age                        4653 non-null   int64 \n",
            " 5   Gender                     4653 non-null   object\n",
            " 6   EverBenched                4653 non-null   object\n",
            " 7   ExperienceInCurrentDomain  4653 non-null   int64 \n",
            " 8   LeaveOrNot                 4653 non-null   int64 \n",
            "dtypes: int64(5), object(4)\n",
            "memory usage: 327.3+ KB\n"
          ]
        }
      ]
    },
    {
      "cell_type": "code",
      "source": [
        "df.dtypes  # informa os tipos de dados de cada coluna"
      ],
      "metadata": {
        "colab": {
          "base_uri": "https://localhost:8080/"
        },
        "id": "VkKvnxjgNyQM",
        "outputId": "a5015209-61e5-45d9-92b5-4afd46c6844c"
      },
      "execution_count": 84,
      "outputs": [
        {
          "output_type": "execute_result",
          "data": {
            "text/plain": [
              "Education                    object\n",
              "JoiningYear                   int64\n",
              "City                         object\n",
              "PaymentTier                   int64\n",
              "Age                           int64\n",
              "Gender                       object\n",
              "EverBenched                  object\n",
              "ExperienceInCurrentDomain     int64\n",
              "LeaveOrNot                    int64\n",
              "dtype: object"
            ]
          },
          "metadata": {},
          "execution_count": 84
        }
      ]
    },
    {
      "cell_type": "code",
      "source": [
        "df.City              #  acessar dados da coluna"
      ],
      "metadata": {
        "colab": {
          "base_uri": "https://localhost:8080/"
        },
        "id": "8GsYlueZN-Qe",
        "outputId": "d4452ff0-678f-4aba-8445-b26e6d1c37c5"
      },
      "execution_count": 85,
      "outputs": [
        {
          "output_type": "execute_result",
          "data": {
            "text/plain": [
              "0       Bangalore\n",
              "1            Pune\n",
              "2       New Delhi\n",
              "3       Bangalore\n",
              "4            Pune\n",
              "          ...    \n",
              "4648    Bangalore\n",
              "4649         Pune\n",
              "4650    New Delhi\n",
              "4651    Bangalore\n",
              "4652    Bangalore\n",
              "Name: City, Length: 4653, dtype: object"
            ]
          },
          "metadata": {},
          "execution_count": 85
        }
      ]
    },
    {
      "cell_type": "code",
      "source": [
        "df[\"City\"]  #  outra forma de acessar os dados da coluna"
      ],
      "metadata": {
        "colab": {
          "base_uri": "https://localhost:8080/"
        },
        "id": "n4XcEzJZOhGr",
        "outputId": "0725f71c-e5ec-47d6-da96-c758fd2bb900"
      },
      "execution_count": 86,
      "outputs": [
        {
          "output_type": "execute_result",
          "data": {
            "text/plain": [
              "0       Bangalore\n",
              "1            Pune\n",
              "2       New Delhi\n",
              "3       Bangalore\n",
              "4            Pune\n",
              "          ...    \n",
              "4648    Bangalore\n",
              "4649         Pune\n",
              "4650    New Delhi\n",
              "4651    Bangalore\n",
              "4652    Bangalore\n",
              "Name: City, Length: 4653, dtype: object"
            ]
          },
          "metadata": {},
          "execution_count": 86
        }
      ]
    },
    {
      "cell_type": "code",
      "source": [
        "df[\"Age\"].sum()"
      ],
      "metadata": {
        "colab": {
          "base_uri": "https://localhost:8080/"
        },
        "id": "KRhzFqM8OrL_",
        "outputId": "3f803d8b-7122-4144-d970-125648a87d7c"
      },
      "execution_count": 88,
      "outputs": [
        {
          "output_type": "execute_result",
          "data": {
            "text/plain": [
              "136767"
            ]
          },
          "metadata": {},
          "execution_count": 88
        }
      ]
    },
    {
      "cell_type": "code",
      "source": [
        "df[\"Gender\"].sum()   # somar palavras"
      ],
      "metadata": {
        "colab": {
          "base_uri": "https://localhost:8080/",
          "height": 157
        },
        "id": "rgQxiMIpP3dc",
        "outputId": "f8f9d277-bfc4-40c8-f604-0010f9651cdd"
      },
      "execution_count": 94,
      "outputs": [
        {
          "output_type": "execute_result",
          "data": {
            "text/plain": [
              "'MaleFemaleFemaleMaleMaleMaleMaleFemaleMaleMaleMaleMaleMaleMaleMaleMaleFemaleMaleFemaleFemaleMaleMaleMaleMaleMaleFemaleMaleMaleFemaleFemaleMaleMaleMaleMaleFemaleFemaleMaleFemaleFemaleMaleMaleMaleMaleMaleMaleFemaleMaleMaleMaleFemaleMaleFemaleFemaleFemaleFemaleMaleMaleFemaleMaleMaleMaleMaleMaleFemaleMaleMaleMaleMaleFemaleFemaleFemaleMaleFemaleMaleFemaleMaleFemaleFemaleMaleMaleMaleFemaleMaleFemaleFemaleMaleFemaleFemaleMaleMaleMaleMaleFemaleMaleMaleMaleFemaleMaleFemaleFemaleMaleMaleFemaleFemaleMaleFemaleMaleMaleMaleFemaleFemaleFemaleMaleMaleMaleFemaleMaleMaleFemaleMaleFemaleMaleFemaleMaleFemaleMaleMaleMaleMaleMaleFemaleMaleMaleMaleMaleMaleFemaleMaleMaleMaleMaleFemaleFemaleMaleFemaleFemaleMaleMaleMaleMaleFemaleMaleFemaleMaleFemaleFemaleFemaleMaleMaleMaleFemaleFemaleFemaleMaleMaleMaleMaleMaleMaleMaleFemaleMaleFemaleFemaleMaleMaleMaleMaleFemaleMaleMaleMaleMaleMaleFemaleMaleFemaleFemaleMaleMaleMaleMaleMaleFemaleFemaleMaleMaleFemaleMaleMaleFemaleMaleMaleFemaleMaleFemaleMaleMaleMaleMaleMaleFemaleFemaleMaleFemaleFemaleMaleMaleFemaleMaleMaleMaleFemaleMaleFemaleMaleFemaleMaleFemaleMaleMaleFemaleMaleMaleFemaleMaleFemaleFemaleMaleFemaleMaleMaleFemaleFemaleMaleFemaleMaleMaleMaleFemaleFemaleMaleMaleMaleFemaleMaleFemaleFemaleFemaleFemaleMaleFemaleMaleMaleMaleMaleFemaleMaleMaleFemaleFemaleFemaleMaleMaleFemaleFemaleMaleMaleFemaleMaleMaleMaleFemaleMaleFemaleFemaleMaleMaleFemaleMaleMaleFemaleMaleFemaleMaleFemaleMaleFemaleMaleMaleMaleFemaleFemaleFemaleMaleFemaleMaleMaleFemaleMaleFemaleFemaleMaleMaleFemaleMaleMaleFemaleFemaleMaleFemaleMaleFemaleMaleFemaleMaleMaleMaleMaleMaleFemaleFemaleFemaleMaleFemaleFemaleFemaleMaleFemaleMaleFemaleFemaleFemaleMaleMaleMaleFemaleMaleMaleFemaleFemaleMaleMaleMaleMaleFemaleMaleMaleFemaleFemaleMaleMaleFemaleFemaleFemaleFemaleMaleFemaleFemaleMaleMaleMaleFemaleMaleFemaleFemaleFemaleMaleMaleMaleMaleFemaleMaleMaleMaleMaleMaleFemaleMaleFemaleMaleMaleMaleMaleMaleMaleMaleFemaleFemaleMaleMaleFemaleMaleMaleFemaleMaleMaleMaleMaleFemaleFemaleMaleMaleFemaleFemaleFemaleMaleMaleMaleMaleFemaleMaleMaleMaleMaleMaleMaleFemaleFemaleMaleMaleMaleMaleFemaleMaleFemaleMaleMaleMaleMaleMaleMaleMaleMaleMaleMaleMaleMaleMaleMaleMaleMaleFemaleMaleMaleMaleMaleMaleFemaleMaleMaleMaleMaleMaleMaleFemaleMaleMaleMaleFemaleMaleMaleMaleFemaleFemaleFemaleFemaleFemaleFemaleMaleMaleMaleFemaleFemaleMaleMaleFemaleFemaleMaleMaleFemaleMaleFemaleMaleFemaleMaleMaleFemaleMaleMaleMaleFemaleMaleFemaleFemaleMaleMaleMaleMaleMaleMaleMaleFemaleMaleMaleFemaleFemaleMaleMaleMaleFemaleFemaleFemaleMaleMaleMaleMaleMaleMaleMaleFemaleMaleMaleMaleFemaleMaleMaleMaleFemaleFemaleMaleMaleMaleMaleMaleFemaleFemaleFemaleMaleMaleFemaleMaleFemaleMaleMaleMaleMaleMaleFemaleMaleFemaleFemaleFemaleMaleMaleMaleMaleMaleMaleMaleFemaleFemaleMaleMaleMaleMaleFemaleFemaleMaleMaleFemaleMaleFemaleFemaleMaleMaleMaleMaleMaleMaleFemaleMaleMaleMaleMaleMaleMaleMaleMaleMaleMaleMaleMaleFemaleMaleFemaleFemaleMaleFemaleMaleFemaleMaleMaleFemaleMaleMaleMaleFemaleMaleMaleMaleFemaleFemaleMaleMaleMaleMaleMaleMaleMaleFemaleMaleMaleMaleMaleMaleFemaleFemaleMaleMaleMaleFemaleMaleFemaleFemaleMaleFemaleMaleMaleMaleMaleMaleFemaleFemaleMaleFemaleMaleFemaleFemaleMaleFemaleFemaleMaleFemaleMaleMaleFemaleMaleFemaleMaleFemaleFemaleMaleMaleFemaleFemaleFemaleFemaleMaleFemaleMaleFemaleMaleMaleMaleFemaleMaleMaleMaleFemaleMaleMaleMaleFemaleMaleFemaleMaleFemaleFemaleMaleFemaleMaleMaleMaleFemaleMaleMaleMaleFemaleMaleMaleFemaleFemaleFemaleFemaleMaleMaleMaleMaleMaleMaleFemaleFemaleFemaleMaleFemaleMaleMaleMaleFemaleFemaleMaleMaleMaleMaleFemaleMaleMaleMaleMaleMaleFemaleMaleFemaleMaleMaleFemaleFemaleMaleFemaleMaleFemaleMaleFemaleFemaleFemaleMaleFemaleMaleFemaleMaleMaleFemaleMaleFemaleFemaleMaleMaleMaleFemaleMaleFemaleMaleFemaleFemaleFemaleFemaleMaleMaleFemaleMaleMaleMaleFemaleMaleMaleMaleMaleFemaleMaleMaleFemaleFemaleMaleFemaleFemaleMaleMaleMaleMaleMaleMaleFemaleFemaleMaleFemaleFemaleFemaleMaleFemaleFemaleFemaleFemaleFemaleMaleFemaleFemaleFemaleMaleMaleMaleMaleMaleMaleFemaleFemaleFemaleMaleMaleFemaleFemaleFemaleFemaleFemaleFemaleFemaleMaleFemaleFemaleMaleFemaleFemaleMaleFemaleMaleMaleMaleFemaleFemaleMaleMaleMaleMaleFemaleFemaleMaleFemaleMaleMaleFemaleMaleMaleMaleMaleFemaleMaleMaleFemaleMaleMaleFemaleMaleMaleMaleFemaleMaleMaleMaleMaleMaleMaleMaleFemaleMaleMaleFemaleFemaleMaleFemaleMaleMaleMaleFemaleMaleFemaleMaleMaleFemaleMaleMaleMaleMaleMaleMaleMaleMaleMaleMaleMaleFemaleFemaleFemaleMaleFemaleMaleMaleMaleMaleFemaleMaleFemaleMaleMaleFemaleMaleMaleFemaleMaleMaleMaleMaleFemaleFemaleMaleFemaleMaleMaleMaleMaleMaleFemaleMaleFemaleMaleFemaleFemaleMaleFemaleMaleFemaleFemaleMaleMaleFemaleMaleMaleFemaleFemaleMaleMaleMaleMaleMaleMaleMaleMaleMaleFemaleFemaleMaleFemaleMaleFemaleFemaleMaleFemaleMaleFemaleFemaleFemaleMaleMaleFemaleMaleFemaleMaleMaleMaleFemaleFemaleFemaleFemaleMaleMaleMaleMaleFemaleFemaleMaleFemaleFemaleMaleFemaleFemaleMaleFemaleMaleMaleFemaleMaleFemaleMaleMaleMaleMaleMaleFemaleMaleFemaleFemaleFemaleMaleMaleFemaleFemaleMaleMaleFemaleFemaleMaleMaleFemaleFemaleMaleFemaleMaleMaleMaleMaleMaleMaleFemaleMaleMaleMaleFemaleMaleFemaleMaleFemaleMaleMaleMaleFemaleMaleFemaleMaleMaleMaleFemaleMaleMaleMaleFemaleFemaleMaleFemaleMaleFemaleFemaleMaleFemaleMaleMaleFemaleMaleMaleFemaleMaleFemaleMaleMaleMaleFemaleMaleMaleMaleMaleFemaleMaleFemaleFemaleFemaleFemaleFemaleFemaleFemaleFemaleMaleMaleFemaleFemaleMaleMaleFemaleFemaleMaleMaleMaleMaleFemaleMaleMaleMaleFemaleFemaleMaleMaleFemaleFemaleFemaleFemaleFemaleMaleFemaleMaleMaleMaleFemaleMaleFemaleMaleMaleMaleMaleFemaleFemaleMaleFemaleFemaleFemaleFemaleMaleMaleMaleFemaleMaleMaleFemaleMaleMaleMaleFemaleFemaleMaleFemaleMaleFemaleMaleFemaleMaleMaleMaleFemaleMaleFemaleMaleFemaleMaleFemaleMaleMaleMaleFemaleMaleFemaleFemaleMaleFemaleFemaleFemaleMaleFemaleFemaleMaleMaleMaleMaleFemaleMaleMaleMaleFemaleFemaleMaleMaleMaleMaleFemaleMaleFemaleMaleFemaleFemaleMaleFemaleMaleMaleMaleFemaleMaleFemaleFemaleMaleMaleFemaleMaleFemaleMaleMaleMaleFemaleFemaleMaleMaleMaleMaleMaleFemaleMaleMaleFemaleFemaleFemaleFemaleFemaleMaleMaleMaleMaleMaleMaleMaleFemaleMaleMaleMaleMaleMaleFemaleMaleMaleMaleMaleMaleFemaleMaleMaleFemaleMaleFemaleMaleFemaleFemaleFemaleFemaleMaleFemaleMaleMaleMaleMaleFemaleMaleMaleFemaleMaleFemaleFemaleFemaleFemaleMaleFemaleMaleMaleFemaleMaleFemaleMaleMaleFemaleMaleMaleMaleFemaleFemaleMaleMaleMaleFemaleMaleMaleFemaleMaleMaleMaleMaleFemaleFemaleMaleMaleFemaleFemaleFemaleFemaleMaleFemaleFemaleMaleFemaleMaleFemaleMaleFemaleMaleFemaleFemaleFemaleMaleMaleMaleMaleFemaleFemaleMaleFemaleMaleMaleFemaleFemaleFemaleMaleMaleFemaleFemaleMaleFemaleMaleFemaleFemaleFemaleMaleMaleFemaleMaleMaleMaleFemaleMaleMaleMaleFemaleMaleMaleFemaleMaleFemaleFemaleMaleMaleFemaleMaleMaleMaleFemaleMaleFemaleMaleFemaleMaleFemaleFemaleMaleFemaleMaleMaleFemaleFemaleFemaleMaleMaleFemaleFemaleMaleMaleMaleMaleMaleFemaleFemaleMaleMaleMaleFemaleMaleMaleFemaleFemaleMaleMaleFemaleMaleFemaleFemaleMaleFemaleMaleFemaleMaleMaleFemaleMaleMaleFemaleMaleFemaleMaleMaleFemaleMaleFemaleMaleFemaleMaleFemaleMaleFemaleMaleMaleMaleMaleMaleMaleFemaleMaleFemaleMaleMaleFemaleMaleMaleMaleFemaleMaleFemaleMaleMaleFemaleMaleMaleMaleMaleMaleMaleMaleMaleFemaleMaleMaleMaleFemaleFemaleFemaleFemaleMaleMaleMaleFemaleFemaleMaleFemaleMaleFemaleFemaleMaleMaleMaleFemaleFemaleFemaleMaleFemaleMaleFemaleFemaleFemaleFemaleMaleMaleFemaleMaleFemaleMaleFemaleMaleMaleMaleMaleFemaleMaleFemaleFemaleFemaleFemaleMaleMaleFemaleMaleMaleMaleFemaleFemaleFemaleFemaleFemaleMaleFemaleMaleFemaleFemaleMaleFemaleFemaleMaleFemaleFemaleMaleFemaleFemaleFemaleMaleMaleMaleFemaleFemaleMaleMaleFemaleMaleFemaleMaleMaleMaleFemaleFemaleMaleFemaleMaleMaleMaleFemaleMaleMaleFemaleMaleFemaleMaleFemaleFemaleMaleMaleMaleFemaleMaleMaleMaleFemaleMaleMaleMaleMaleFemaleMaleMaleMaleFemaleFemaleMaleMaleMaleMaleMaleFemaleMaleMaleMaleMaleFemaleFemaleFemaleFemaleFemaleMaleMaleMaleMaleFemaleMaleMaleMaleMaleMaleFemaleMaleFemaleMaleMaleMaleMaleMaleFemaleMaleFemaleMaleFemaleMaleFemaleMaleFemaleMaleFemaleFemaleMaleFemaleFemaleFemaleFemaleMaleMaleMaleMaleMaleMaleMaleFemaleMaleMaleFemaleMaleMaleMaleMaleMaleFemaleMaleMaleMaleFemaleMaleMaleFemaleFemaleFemaleFemaleMaleMaleMaleMaleMaleMaleFemaleFemaleFemaleMaleMaleFemaleMaleFemaleFemaleMaleMaleMaleMaleMaleMaleMaleFemaleMaleMaleMaleMaleFemaleMaleMaleMaleFemaleMaleFemaleFemaleMaleMaleFemaleFemaleMaleMaleMaleFemaleMaleFemaleMaleFemaleMaleFemaleMaleFemaleFemaleFemaleMaleFemaleMaleFemaleMaleMaleFemaleFemaleFemaleFemaleMaleFemaleFemaleFemaleFemaleMaleFemaleFemaleFemaleFemaleMaleFemaleFemaleMaleMaleFemaleMaleFemaleMaleFemaleMaleMaleMaleFemaleMaleMaleMaleFemaleMaleFemaleFemaleMaleMaleMaleFemaleMaleMaleFemaleMaleMaleFemaleMaleMaleFemaleFemaleFemaleMaleFemaleMaleMaleMaleFemaleMaleMaleMaleMaleMaleMaleFemaleFemaleFemaleFemaleMaleMaleMaleFemaleMaleFemaleFemaleMaleFemaleFemaleFemaleMaleMaleFemaleFemaleFemaleMaleMaleMaleFemaleMaleFemaleFemaleMaleMaleMaleMaleFemaleFemaleFemaleMaleMaleFemaleMaleFemaleFemaleMaleMaleMaleMaleFemaleMaleFemaleMaleMaleMaleMaleFemaleFemaleMaleFemaleMaleMaleFemaleFemaleMaleFemaleFemaleMaleMaleFemaleFemaleFemaleFemaleMaleMaleFemaleFemaleMaleMaleMaleMaleFemaleMaleMaleFemaleMaleFemaleMaleMaleMaleMaleFemaleMaleFemaleFemaleMaleMaleFemaleFemaleFemaleFemaleMaleMaleMaleMaleMaleFemaleMaleFemaleMaleFemaleFemaleMaleMaleMaleFemaleFemaleMaleFemaleMaleMaleMaleMaleFemaleMaleFemaleMaleFemaleMaleMaleFemaleMaleFemaleFemaleFemaleMaleMaleFemaleFemaleMaleFemaleFemaleFemaleFemaleFemaleFemaleMaleFemaleMaleMaleMaleMaleMaleMaleMaleMaleMaleMaleFemaleMaleMaleFemaleMaleMaleMaleMaleFemaleFemaleFemaleFemaleMaleMaleMaleMaleFemaleMaleMaleMaleMaleMaleMaleMaleMaleFemaleMaleMaleFemaleMaleFemaleMaleFemaleMaleMaleFemaleMaleMaleMaleMaleMaleFemaleMaleMaleMaleFemaleFemaleMaleMaleMaleMaleFemaleFemaleMaleMaleFemaleMaleFemaleMaleMaleMaleFemaleFemaleFemaleMaleMaleFemaleFemaleMaleMaleFemaleFemaleMaleMaleFemaleFemaleFemaleFemaleMaleMaleMaleFemaleMaleFemaleMaleFemaleMaleMaleFemaleFemaleFemaleFemaleMaleFemaleFemaleMaleFemaleMaleFemaleFemaleMaleFemaleFemaleFemaleFemaleMaleMaleFemaleMaleFemaleFemaleMaleMaleFemaleMaleFemaleFemaleFemaleFemaleMaleMaleMaleMaleFemaleFemaleMaleFemaleMaleMaleFemaleMaleFemaleFemaleMaleMaleFemaleFemaleFemaleMaleFemaleMaleMaleFemaleFemaleMaleMaleFemaleMaleMaleFemaleMaleMaleFemaleFemaleFemaleMaleMaleMaleMaleFemaleMaleMaleMaleMaleFemaleMaleMaleMaleMaleMaleMaleMaleMaleFemaleFemaleFemaleMaleFemaleMaleMaleMaleMaleMaleFemaleMaleMaleFemaleFemaleFemaleFemaleFemaleMaleMaleMaleMaleFemaleMaleFemaleFemaleFemaleFemaleMaleFemaleMaleMaleMaleMaleMaleMaleFemaleMaleFemaleMaleMaleMaleMaleFemaleFemaleFemaleFemaleFemaleFemaleMaleMaleFemaleMaleMaleMaleMaleMaleMaleMaleFemaleMaleMaleMaleMaleFemaleFemaleMaleFemaleMaleFemaleMaleMaleMaleFemaleMaleFemaleFemaleMaleFemaleMaleMaleMaleMaleMaleFemaleMaleMaleMaleMaleMaleFemaleFemaleMaleFemaleMaleFemaleMaleMaleMaleMaleFemaleFemaleMaleFemaleFemaleFemaleMaleFemaleFemaleFemaleMaleFemaleMaleMaleFemaleMaleFemaleMaleMaleFemaleMaleMaleFemaleMaleFemaleMaleMaleMaleMaleMaleMaleMaleFemaleMaleMaleMaleFemaleMaleMaleMaleFemaleFemaleMaleMaleFemaleMaleFemaleMaleMaleMaleMaleMaleFemaleMaleFemaleMaleMaleFemaleMaleFemaleMaleMaleFemaleMaleFemaleMaleFemaleMaleMaleFemaleMaleMaleMaleFemaleMaleMaleFemaleMaleFemaleFemaleMaleFemaleMaleFemaleFemaleMaleMaleFemaleMaleMaleMaleFemaleMaleMaleFemaleMaleMaleMaleMaleMaleMaleMaleFemaleFemaleMaleFemaleMaleMaleFemaleFemaleMaleMaleMaleFemaleMaleFemaleMaleFemaleMaleMaleMaleMaleMaleMaleMaleMaleMaleMaleFemaleFemaleMaleMaleFemaleFemaleMaleFemaleMaleFemaleMaleFemaleFemaleFemaleMaleFemaleFemaleFemaleMaleMaleFemaleMaleFemaleMaleMaleFemaleFemaleFemaleMaleFemaleFemaleMaleMaleFemaleMaleFemaleFemaleMaleMaleMaleFemaleMaleFemaleMaleMaleMaleMaleFemaleFemaleFemaleMaleMaleMaleMaleFemaleMaleFemaleFemaleMaleFemaleMaleMaleFemaleFemaleMaleFemaleMaleMaleFemaleMaleFemaleFemaleFemaleFemaleMaleMaleFemaleMaleFemaleMaleMaleMaleFemaleFemaleMaleMaleFemaleMaleFemaleMaleMaleMaleFemaleFemaleFemaleFemaleFemaleFemaleMaleFemaleFemaleMaleMaleMaleMaleFemaleFemaleMaleFemaleMaleFemaleFemaleMaleMaleMaleFemaleMaleMaleFemaleFemaleMaleMaleMaleMaleMaleMaleMaleMaleMaleMaleFemaleFemaleMaleMaleFemaleFemaleMaleMaleMaleMaleMaleMaleMaleFemaleFemaleMaleMaleMaleMaleFemaleMaleMaleMaleFemaleFemaleMaleMaleFemaleFemaleFemaleMaleFemaleMaleMaleMaleMaleMaleMaleFemaleFemaleFemaleMaleMaleMaleMaleMaleMaleMaleFemaleMaleFemaleMaleMaleMaleMaleFemaleMaleMaleFemaleMaleFemaleFemaleFemaleMaleFemaleMaleFemaleMaleMaleFemaleFemaleFemaleMaleMaleFemaleMaleMaleFemaleMaleMaleMaleMaleMaleMaleMaleMaleMaleFemaleMaleMaleFemaleFemaleMaleFemaleMaleMaleFemaleFemaleMaleFemaleMaleMaleMaleFemaleMaleMaleMaleFemaleFemaleFemaleMaleFemaleFemaleFemaleFemaleMaleMaleFemaleMaleMaleFemaleMaleFemaleMaleMaleMaleFemaleFemaleMaleFemaleMaleMaleMaleFemaleMaleMaleMaleMaleMaleMaleMaleMaleFemaleFemaleFemaleFemaleMaleMaleMaleFemaleMaleMaleFemaleFemaleMaleFemaleFemaleFemaleFemaleMaleMaleFemaleMaleMaleMaleMaleMaleMaleFemaleFemaleMaleFemaleMaleMaleFemaleMaleFemaleFemaleFemaleFemaleFemaleMaleMaleMaleFemaleMaleFemaleMaleFemaleFemaleMaleFemaleMaleMaleMaleFemaleMaleMaleFemaleMaleFemaleMaleFemaleMaleFemaleMaleFemaleMaleMaleMaleMaleMaleFemaleFemaleMaleFemaleFemaleFemaleMaleMaleFemaleMaleFemaleFemaleMaleMaleMaleMaleMaleMaleMaleMaleMaleMaleFemaleFemaleFemaleMaleMaleMaleMaleMaleMaleFemaleMaleFemaleMaleFemaleMaleFemaleMaleFemaleFemaleFemaleMaleMaleFemaleMaleMaleMaleFemaleMaleMaleFemaleMaleFemaleMaleMaleMaleMaleMaleMaleMaleMaleMaleMaleMaleFemaleFemaleFemaleFemaleMaleMaleMaleFemaleFemaleMaleFemaleMaleMaleFemaleMaleMaleMaleMaleFemaleMaleMaleFemaleMaleMaleMaleFemaleMaleMaleMaleMaleMaleFemaleMaleMaleFemaleMaleMaleMaleFemaleFemaleMaleMaleMaleFemaleFemaleMaleMaleFemaleMaleMaleFemaleMaleMaleMaleMaleFemaleFemaleMaleMaleMaleMaleMaleMaleMaleFemaleMaleFemaleMaleMaleMaleFemaleFemaleFemaleFemaleMaleFemaleFemaleMaleMaleMaleMaleFemaleFemaleMaleMaleFemaleFemaleMaleMaleFemaleMaleMaleFemaleMaleMaleMaleFemaleFemaleFemaleFemaleFemaleMaleMaleFemaleMaleFemaleMaleMaleMaleMaleMaleFemaleMaleMaleMaleFemaleMaleFemaleFemaleFemaleMaleFemaleFemaleMaleMaleMaleFemaleFemaleMaleMaleMaleMaleMaleMaleFemaleFemaleFemaleMaleMaleFemaleFemaleMaleMaleMaleMaleFemaleMaleMaleFemaleMaleFemaleFemaleFemaleMaleMaleMaleFemaleMaleFemaleMaleMaleFemaleMaleMaleMaleFemaleFemaleFemaleMaleMaleMaleFemaleMaleMaleFemaleFemaleMaleFemaleMaleFemaleMaleFemaleMaleFemaleMaleMaleMaleMaleMaleFemaleMaleMaleFemaleFemaleMaleMaleMaleFemaleFemaleFemaleFemaleMaleFemaleMaleMaleFemaleMaleMaleMaleMaleFemaleMaleFemaleFemaleMaleMaleMaleFemaleMaleMaleFemaleFemaleFemaleMaleFemaleFemaleMaleFemaleFemaleFemaleFemaleMaleMaleFemaleFemaleMaleMaleMaleMaleMaleMaleMaleMaleMaleMaleMaleFemaleFemaleFemaleMaleFemaleMaleMaleMaleMaleMaleFemaleMaleMaleFemaleMaleMaleFemaleMaleFemaleFemaleMaleMaleFemaleMaleMaleMaleMaleMaleMaleMaleMaleMaleFemaleMaleMaleMaleFemaleFemaleFemaleFemaleMaleFemaleMaleFemaleMaleFemaleMaleMaleMaleMaleFemaleMaleFemaleFemaleFemaleMaleMaleMaleMaleMaleMaleMaleFemaleMaleMaleFemaleMaleMaleMaleFemaleMaleFemaleFemaleMaleMaleMaleMaleMaleFemaleMaleMaleMaleFemaleFemaleMaleFemaleMaleFemaleMaleMaleFemaleMaleMaleFemaleMaleMaleFemaleMaleFemaleFemaleFemaleFemaleFemaleMaleMaleFemaleMaleMaleFemaleFemaleMaleMaleMaleMaleMaleMaleFemaleFemaleMaleFemaleMaleFemaleMaleFemaleFemaleMaleMaleFemaleFemaleFemaleFemaleFemaleMaleFemaleMaleFemaleMaleFemaleFemaleFemaleMaleMaleMaleFemaleMaleMaleMaleMaleFemaleMaleMaleMaleMaleMaleMaleFemaleMaleFemaleMaleFemaleFemaleMaleMaleMaleMaleMaleFemaleMaleFemaleMaleMaleMaleMaleMaleFemaleMaleFemaleMaleFemaleFemaleMaleMaleFemaleMaleMaleMaleFemaleMaleFemaleMaleFemaleFemaleMaleFemaleMaleMaleMaleFemaleMaleMaleMaleFemaleFemaleMaleMaleFemaleMaleMaleFemaleFemaleMaleFemaleMaleMaleFemaleMaleFemaleMaleFemaleMaleMaleFemaleMaleFemaleMaleMaleFemaleMaleFemaleFemaleMaleFemaleMaleFemaleFemaleFemaleMaleFemaleMaleMaleFemaleFemaleMaleFemaleFemaleFemaleFemaleMaleMaleMaleMaleFemaleMaleMaleMaleFemaleFemaleMaleFemaleFemaleFemaleMaleMaleFemaleFemaleMaleFemaleFemaleFemaleFemaleFemaleFemaleFemaleFemaleMaleFemaleFemaleMaleFemaleMaleFemaleMaleMaleFemaleFemaleFemaleFemaleMaleMaleMaleMaleFemaleMaleFemaleFemaleFemaleFemaleMaleFemaleMaleMaleMaleFemaleFemaleMaleMaleMaleFemaleFemaleMaleMaleMaleFemaleFemaleMaleMaleFemaleFemaleMaleMaleMaleMaleFemaleFemaleMaleFemaleMaleMaleFemaleMaleMaleMaleMaleMaleFemaleFemaleMaleMaleFemaleMaleMaleMaleMaleFemaleFemaleFemaleMaleMaleMaleMaleFemaleFemaleMaleMaleMaleFemaleMaleFemaleMaleMaleFemaleFemaleMaleMaleFemaleMaleMaleFemaleFemaleMaleMaleMaleMaleMaleMaleMaleFemaleMaleMaleMaleFemaleFemaleMaleFemaleMaleMaleMaleFemaleMaleFemaleFemaleMaleMaleFemaleMaleMaleFemaleMaleMaleMaleMaleMaleMaleMaleMaleMaleMaleMaleMaleMaleFemaleFemaleMaleMaleFemaleMaleMaleMaleMaleFemaleMaleMaleMaleMaleFemaleMaleMaleMaleFemaleMaleMaleMaleMaleMaleMaleMaleFemaleMaleFemaleMaleMaleMaleMaleMaleMaleMaleMaleMaleFemaleMaleFemaleMaleFemaleMaleMaleMaleFemaleMaleMaleMaleFemaleMaleFemaleFemaleMaleMaleFemaleMaleFemaleMaleFemaleMaleMaleFemaleMaleMaleMaleFemaleMaleMaleFemaleFemaleMaleFemaleMaleMaleFemaleMaleFemaleFemaleFemaleFemaleFemaleMaleMaleFemaleFemaleMaleMaleMaleMaleFemaleFemaleMaleMaleFemaleFemaleMaleMaleFemaleFemaleMaleFemaleMaleMaleFemaleFemaleFemaleFemaleMaleMaleFemaleMaleFemaleMaleMaleMaleFemaleFemaleMaleMaleMaleMaleMaleFemaleMaleFemaleFemaleMaleMaleMaleFemaleMaleMaleFemaleFemaleFemaleMaleMaleMaleMaleMaleMaleMaleMaleFemaleFemaleFemaleFemaleMaleMaleMaleFemaleFemaleFemaleMaleMaleMaleMaleMaleMaleFemaleFemaleMaleFemaleMaleFemaleMaleFemaleMaleMaleFemaleMaleMaleFemaleFemaleFemaleFemaleMaleMaleMaleMaleFemaleMaleMaleFemaleMaleFemaleMaleMaleMaleFemaleFemaleMaleMaleMaleFemaleFemaleMaleMaleMaleFemaleMaleMaleFemaleMaleFemaleMaleFemaleMaleMaleMaleFemaleMaleMaleMaleMaleMaleFemaleMaleMaleMaleMaleMaleMaleMaleMaleMaleMaleMaleMaleMaleMaleMaleMaleMaleMaleFemaleFemaleMaleFemaleMaleFemaleMaleMaleMaleFemaleFemaleMaleMaleFemaleMaleMaleMaleMaleMaleMaleFemaleFemaleMaleMaleFemaleFemaleFemaleMaleMaleFemaleFemaleFemaleMaleFemaleMaleMaleFemaleMaleFemaleFemaleMaleMaleMaleFemaleFemaleMaleMaleMaleMaleFemaleMaleFemaleMaleFemaleMaleMaleMaleMaleMaleMaleMaleMaleMaleFemaleMaleFemaleMaleMaleMaleMaleMaleMaleMaleFemaleFemaleMaleFemaleFemaleMaleMaleFemaleMaleFemaleFemaleFemaleFemaleFemaleFemaleFemaleFemaleFemaleMaleMaleMaleFemaleMaleFemaleMaleMaleMaleMaleMaleMaleMaleMaleMaleMaleMaleFemaleFemaleMaleMaleFemaleMaleMaleMaleMaleFemaleMaleFemaleFemaleFemaleFemaleMaleMaleMaleFemaleMaleFemaleMaleMaleFemaleFemaleMaleMaleFemaleMaleMaleFemaleMaleFemaleMaleMaleMaleMaleMaleMaleMaleMaleMaleMaleFemaleMaleFemaleMaleFemaleMaleFemaleMaleMaleMaleFemaleMaleMaleMaleMaleMaleMaleFemaleFemaleFemaleFemaleMaleFemaleMaleMaleFemaleMaleMaleMaleMaleMaleMaleFemaleFemaleMaleMaleMaleMaleMaleFemaleMaleFemaleMaleMaleFemaleFemaleMaleFemaleFemaleMaleFemaleMaleFemaleMaleFemaleMaleMaleMaleMaleFemaleMaleFemaleMaleMaleMaleFemaleMaleFemaleFemaleMaleMaleFemaleFemaleFemaleMaleMaleFemaleMaleMaleMaleFemaleMaleMaleMaleMaleMaleMaleFemaleMaleFemaleMaleMaleMaleFemaleFemaleMaleFemaleMaleMaleFemaleMaleFemaleMaleFemaleMaleMaleMaleMaleFemaleMaleFemaleMaleFemaleMaleFemaleMaleFemaleMaleFemaleFemaleFemaleMaleMaleFemaleMaleMaleMaleMaleMaleMaleMaleMaleFemaleFemaleFemaleMaleFemaleMaleFemaleMaleMaleMaleMaleMaleFemaleFemaleMaleMaleFemaleFemaleMaleMaleFemaleMaleMaleFemaleMaleFemaleFemaleFemaleMaleFemaleMaleMaleMaleMaleMaleFemaleFemaleMaleMaleMaleFemaleMaleMaleMaleMaleFemaleMaleFemaleFemaleFemaleMaleFemaleFemaleMaleFemaleFemaleMaleFemaleMaleMaleMaleMaleFemaleMaleMaleMaleFemaleFemaleMaleMaleFemaleMaleFemaleMaleFemaleFemaleFemaleFemaleFemaleMaleFemaleMaleMaleMaleMaleMaleMaleFemaleFemaleMaleMaleMaleFemaleMaleFemaleMaleFemaleMaleMaleFemaleFemaleFemaleFemaleMaleMaleMaleMaleMaleFemaleMaleMaleFemaleFemaleFemaleFemaleMaleMaleFemaleFemaleMaleMaleFemaleMaleMaleMaleFemaleMaleMaleMaleFemaleMaleFemaleMaleMaleMaleMaleFemaleFemaleFemaleMaleFemaleFemaleMaleMaleMaleMaleFemaleMaleFemaleFemaleMaleFemaleFemaleMaleMaleFemaleMaleMaleFemaleMaleFemaleFemaleMaleMaleMaleMaleFemaleMaleFemaleMaleFemaleMaleMaleFemaleMaleFemaleMaleMaleMaleMaleMaleFemaleMaleMaleMaleMaleMaleMaleMaleFemaleMaleMaleMaleFemaleMaleFemaleFemaleMaleMaleMaleFemaleMaleFemaleFemaleFemaleFemaleMaleFemaleFemaleMaleMaleMaleMaleFemaleFemaleMaleFemaleMaleFemaleFemaleFemaleFemaleMaleMaleFemaleMaleMaleFemaleMaleMaleFemaleMaleMaleFemaleFemaleFemaleFemaleMaleMaleMaleFemaleFemaleFemaleMaleMaleMaleFemaleMaleMaleMaleMaleFemaleMaleMaleFemaleFemaleMaleFemaleMaleFemaleMaleMaleMaleMaleFemaleFemaleMaleFemaleMaleMaleFemaleMaleMaleFemaleMaleFemaleMaleMaleMaleMaleFemaleMaleFemaleMaleMaleMaleMaleMaleFemaleMaleFemaleFemaleMaleMaleFemaleFemaleMaleFemaleFemaleMaleMaleFemaleFemaleMaleFemaleMaleFemaleMaleMaleMaleFemaleFemaleMaleMaleMaleFemaleFemaleMaleMaleFemaleMaleFemaleMaleFemaleMaleFemaleMaleFemaleMaleFemaleFemaleMaleMaleFemaleMaleMaleMaleMaleMaleMaleMaleMaleMaleFemaleMaleFemaleFemaleMaleFemaleMaleFemaleMaleMaleMaleFemaleMaleMaleMaleMaleFemaleMaleFemaleFemaleMaleMaleMaleMaleFemaleMaleMaleFemaleMaleFemaleFemaleMaleFemaleFemaleFemaleMaleMaleMaleMaleMaleMaleFemaleFemaleMaleMaleMaleMaleMaleFemaleMaleMaleMaleMaleMaleFemaleFemaleMaleFemaleFemaleFemaleMaleMaleMaleMaleFemaleFemaleMaleMaleFemaleMaleMaleMaleFemaleFemaleFemaleFemaleFemaleMaleMaleMaleFemaleFemaleMaleMaleMaleFemaleFemaleMaleMaleMaleFemaleFemaleMaleMaleFemaleFemaleMaleMaleMaleMaleMaleMaleFemaleMaleMaleMaleMaleMaleFemaleFemaleMaleFemaleMaleFemaleFemaleMaleMaleMaleFemaleMaleMaleMaleMaleMaleFemaleFemaleMaleMaleFemaleMaleFemaleFemaleFemaleMaleMaleFemaleFemaleMaleFemaleMaleFemaleMaleFemaleFemaleMaleMaleMaleFemaleMaleFemaleMaleFemaleFemaleMaleMaleFemaleMaleMaleMaleFemaleFemaleMaleFemaleFemaleFemaleMaleFemaleFemaleFemaleFemaleFemaleMaleMaleFemaleFemaleFemaleMaleMaleMaleMaleMaleFemaleMaleMaleMaleFemaleMaleMaleFemaleMaleMaleFemaleMaleFemaleMaleMaleMaleFemaleFemaleMaleMaleMaleMaleMaleMaleFemaleFemaleMaleFemaleMaleFemaleFemaleMaleMaleMaleMaleMaleMaleMaleFemaleMaleMaleMaleFemaleMaleFemaleMaleMaleMaleMaleFemaleFemaleFemaleMaleFemaleFemaleMaleMaleMaleMaleMaleFemaleMaleFemaleFemaleMaleMaleMaleMaleFemaleFemaleMaleFemaleMaleMaleMaleFemaleFemaleMaleMaleMaleFemaleFemaleMaleMaleMaleMaleMaleFemaleMaleFemaleMaleMaleFemaleFemaleMaleFemaleFemaleFemaleFemaleFemaleFemaleFemaleMaleFemaleMaleFemaleFemaleFemaleFemaleFemaleFemaleFemaleMaleMaleFemaleMaleMaleMaleFemaleMaleMaleMaleFemaleFemaleMaleFemaleFemaleFemaleMaleMaleMaleMaleMaleMaleMaleMaleMaleMaleMaleMaleFemaleFemaleMaleFemaleMaleMaleFemaleMaleFemaleMaleFemaleMaleMaleMaleMaleMaleMaleMaleMaleFemaleFemaleMaleMaleFemaleFemaleMaleFemaleMaleFemaleMaleFemaleFemaleFemaleMaleFemaleMaleMaleMaleMaleMaleMaleFemaleFemaleMaleFemaleMaleFemaleMaleFemaleFemaleFemaleMaleMaleMaleMaleFemaleFemaleFemaleFemaleFemaleFemaleMaleFemaleMaleMaleMaleMale'"
            ],
            "application/vnd.google.colaboratory.intrinsic+json": {
              "type": "string"
            }
          },
          "metadata": {},
          "execution_count": 94
        }
      ]
    },
    {
      "cell_type": "code",
      "source": [
        "df.dropna(axis=\"columns\")  # remove colunas com ao menos um valor inválido - mas não altera o dataframe original\n",
        "df.dropna()  # remove linhas com ao menos um valor inválido - mas não altera o dataframe original\n",
        "ndf = df.dropna()  # criando um NOVO dataframe com as linhas inválidas removidas\n",
        "ndf.info()  # informações gerais dos dados"
      ],
      "metadata": {
        "colab": {
          "base_uri": "https://localhost:8080/"
        },
        "id": "0U4Vkc9tPC_3",
        "outputId": "e1e9a4a8-6007-42bc-e67a-0d42b7ee6d90"
      },
      "execution_count": 93,
      "outputs": [
        {
          "output_type": "stream",
          "name": "stdout",
          "text": [
            "<class 'pandas.core.frame.DataFrame'>\n",
            "RangeIndex: 4653 entries, 0 to 4652\n",
            "Data columns (total 9 columns):\n",
            " #   Column                     Non-Null Count  Dtype \n",
            "---  ------                     --------------  ----- \n",
            " 0   Education                  4653 non-null   object\n",
            " 1   JoiningYear                4653 non-null   int64 \n",
            " 2   City                       4653 non-null   object\n",
            " 3   PaymentTier                4653 non-null   int64 \n",
            " 4   Age                        4653 non-null   int64 \n",
            " 5   Gender                     4653 non-null   object\n",
            " 6   EverBenched                4653 non-null   object\n",
            " 7   ExperienceInCurrentDomain  4653 non-null   int64 \n",
            " 8   LeaveOrNot                 4653 non-null   int64 \n",
            "dtypes: int64(5), object(4)\n",
            "memory usage: 327.3+ KB\n"
          ]
        }
      ]
    },
    {
      "cell_type": "markdown",
      "source": [
        "# Variáveis Qualitativas e Quantitativas\n"
      ],
      "metadata": {
        "id": "KpH-zCQ4XlCW"
      }
    },
    {
      "cell_type": "code",
      "source": [
        "df.select_dtypes(include=['object'])  # seleciona os valores qualitativos encontrados nos dados"
      ],
      "metadata": {
        "colab": {
          "base_uri": "https://localhost:8080/",
          "height": 424
        },
        "id": "ROnsa5I2XYFi",
        "outputId": "82fabbbe-1a61-4bcc-9479-28e8148ab42d"
      },
      "execution_count": 95,
      "outputs": [
        {
          "output_type": "execute_result",
          "data": {
            "text/plain": [
              "      Education       City  Gender EverBenched\n",
              "0     Bachelors  Bangalore    Male          No\n",
              "1     Bachelors       Pune  Female          No\n",
              "2     Bachelors  New Delhi  Female          No\n",
              "3       Masters  Bangalore    Male          No\n",
              "4       Masters       Pune    Male         Yes\n",
              "...         ...        ...     ...         ...\n",
              "4648  Bachelors  Bangalore  Female          No\n",
              "4649    Masters       Pune    Male          No\n",
              "4650    Masters  New Delhi    Male          No\n",
              "4651  Bachelors  Bangalore    Male         Yes\n",
              "4652  Bachelors  Bangalore    Male         Yes\n",
              "\n",
              "[4653 rows x 4 columns]"
            ],
            "text/html": [
              "\n",
              "  <div id=\"df-2ae05bb8-6d44-4f4a-99eb-bc2c215f375f\" class=\"colab-df-container\">\n",
              "    <div>\n",
              "<style scoped>\n",
              "    .dataframe tbody tr th:only-of-type {\n",
              "        vertical-align: middle;\n",
              "    }\n",
              "\n",
              "    .dataframe tbody tr th {\n",
              "        vertical-align: top;\n",
              "    }\n",
              "\n",
              "    .dataframe thead th {\n",
              "        text-align: right;\n",
              "    }\n",
              "</style>\n",
              "<table border=\"1\" class=\"dataframe\">\n",
              "  <thead>\n",
              "    <tr style=\"text-align: right;\">\n",
              "      <th></th>\n",
              "      <th>Education</th>\n",
              "      <th>City</th>\n",
              "      <th>Gender</th>\n",
              "      <th>EverBenched</th>\n",
              "    </tr>\n",
              "  </thead>\n",
              "  <tbody>\n",
              "    <tr>\n",
              "      <th>0</th>\n",
              "      <td>Bachelors</td>\n",
              "      <td>Bangalore</td>\n",
              "      <td>Male</td>\n",
              "      <td>No</td>\n",
              "    </tr>\n",
              "    <tr>\n",
              "      <th>1</th>\n",
              "      <td>Bachelors</td>\n",
              "      <td>Pune</td>\n",
              "      <td>Female</td>\n",
              "      <td>No</td>\n",
              "    </tr>\n",
              "    <tr>\n",
              "      <th>2</th>\n",
              "      <td>Bachelors</td>\n",
              "      <td>New Delhi</td>\n",
              "      <td>Female</td>\n",
              "      <td>No</td>\n",
              "    </tr>\n",
              "    <tr>\n",
              "      <th>3</th>\n",
              "      <td>Masters</td>\n",
              "      <td>Bangalore</td>\n",
              "      <td>Male</td>\n",
              "      <td>No</td>\n",
              "    </tr>\n",
              "    <tr>\n",
              "      <th>4</th>\n",
              "      <td>Masters</td>\n",
              "      <td>Pune</td>\n",
              "      <td>Male</td>\n",
              "      <td>Yes</td>\n",
              "    </tr>\n",
              "    <tr>\n",
              "      <th>...</th>\n",
              "      <td>...</td>\n",
              "      <td>...</td>\n",
              "      <td>...</td>\n",
              "      <td>...</td>\n",
              "    </tr>\n",
              "    <tr>\n",
              "      <th>4648</th>\n",
              "      <td>Bachelors</td>\n",
              "      <td>Bangalore</td>\n",
              "      <td>Female</td>\n",
              "      <td>No</td>\n",
              "    </tr>\n",
              "    <tr>\n",
              "      <th>4649</th>\n",
              "      <td>Masters</td>\n",
              "      <td>Pune</td>\n",
              "      <td>Male</td>\n",
              "      <td>No</td>\n",
              "    </tr>\n",
              "    <tr>\n",
              "      <th>4650</th>\n",
              "      <td>Masters</td>\n",
              "      <td>New Delhi</td>\n",
              "      <td>Male</td>\n",
              "      <td>No</td>\n",
              "    </tr>\n",
              "    <tr>\n",
              "      <th>4651</th>\n",
              "      <td>Bachelors</td>\n",
              "      <td>Bangalore</td>\n",
              "      <td>Male</td>\n",
              "      <td>Yes</td>\n",
              "    </tr>\n",
              "    <tr>\n",
              "      <th>4652</th>\n",
              "      <td>Bachelors</td>\n",
              "      <td>Bangalore</td>\n",
              "      <td>Male</td>\n",
              "      <td>Yes</td>\n",
              "    </tr>\n",
              "  </tbody>\n",
              "</table>\n",
              "<p>4653 rows × 4 columns</p>\n",
              "</div>\n",
              "    <div class=\"colab-df-buttons\">\n",
              "\n",
              "  <div class=\"colab-df-container\">\n",
              "    <button class=\"colab-df-convert\" onclick=\"convertToInteractive('df-2ae05bb8-6d44-4f4a-99eb-bc2c215f375f')\"\n",
              "            title=\"Convert this dataframe to an interactive table.\"\n",
              "            style=\"display:none;\">\n",
              "\n",
              "  <svg xmlns=\"http://www.w3.org/2000/svg\" height=\"24px\" viewBox=\"0 -960 960 960\">\n",
              "    <path d=\"M120-120v-720h720v720H120Zm60-500h600v-160H180v160Zm220 220h160v-160H400v160Zm0 220h160v-160H400v160ZM180-400h160v-160H180v160Zm440 0h160v-160H620v160ZM180-180h160v-160H180v160Zm440 0h160v-160H620v160Z\"/>\n",
              "  </svg>\n",
              "    </button>\n",
              "\n",
              "  <style>\n",
              "    .colab-df-container {\n",
              "      display:flex;\n",
              "      gap: 12px;\n",
              "    }\n",
              "\n",
              "    .colab-df-convert {\n",
              "      background-color: #E8F0FE;\n",
              "      border: none;\n",
              "      border-radius: 50%;\n",
              "      cursor: pointer;\n",
              "      display: none;\n",
              "      fill: #1967D2;\n",
              "      height: 32px;\n",
              "      padding: 0 0 0 0;\n",
              "      width: 32px;\n",
              "    }\n",
              "\n",
              "    .colab-df-convert:hover {\n",
              "      background-color: #E2EBFA;\n",
              "      box-shadow: 0px 1px 2px rgba(60, 64, 67, 0.3), 0px 1px 3px 1px rgba(60, 64, 67, 0.15);\n",
              "      fill: #174EA6;\n",
              "    }\n",
              "\n",
              "    .colab-df-buttons div {\n",
              "      margin-bottom: 4px;\n",
              "    }\n",
              "\n",
              "    [theme=dark] .colab-df-convert {\n",
              "      background-color: #3B4455;\n",
              "      fill: #D2E3FC;\n",
              "    }\n",
              "\n",
              "    [theme=dark] .colab-df-convert:hover {\n",
              "      background-color: #434B5C;\n",
              "      box-shadow: 0px 1px 3px 1px rgba(0, 0, 0, 0.15);\n",
              "      filter: drop-shadow(0px 1px 2px rgba(0, 0, 0, 0.3));\n",
              "      fill: #FFFFFF;\n",
              "    }\n",
              "  </style>\n",
              "\n",
              "    <script>\n",
              "      const buttonEl =\n",
              "        document.querySelector('#df-2ae05bb8-6d44-4f4a-99eb-bc2c215f375f button.colab-df-convert');\n",
              "      buttonEl.style.display =\n",
              "        google.colab.kernel.accessAllowed ? 'block' : 'none';\n",
              "\n",
              "      async function convertToInteractive(key) {\n",
              "        const element = document.querySelector('#df-2ae05bb8-6d44-4f4a-99eb-bc2c215f375f');\n",
              "        const dataTable =\n",
              "          await google.colab.kernel.invokeFunction('convertToInteractive',\n",
              "                                                    [key], {});\n",
              "        if (!dataTable) return;\n",
              "\n",
              "        const docLinkHtml = 'Like what you see? Visit the ' +\n",
              "          '<a target=\"_blank\" href=https://colab.research.google.com/notebooks/data_table.ipynb>data table notebook</a>'\n",
              "          + ' to learn more about interactive tables.';\n",
              "        element.innerHTML = '';\n",
              "        dataTable['output_type'] = 'display_data';\n",
              "        await google.colab.output.renderOutput(dataTable, element);\n",
              "        const docLink = document.createElement('div');\n",
              "        docLink.innerHTML = docLinkHtml;\n",
              "        element.appendChild(docLink);\n",
              "      }\n",
              "    </script>\n",
              "  </div>\n",
              "\n",
              "\n",
              "<div id=\"df-a44260ae-480e-4e04-b1b9-17e810ab3e04\">\n",
              "  <button class=\"colab-df-quickchart\" onclick=\"quickchart('df-a44260ae-480e-4e04-b1b9-17e810ab3e04')\"\n",
              "            title=\"Suggest charts.\"\n",
              "            style=\"display:none;\">\n",
              "\n",
              "<svg xmlns=\"http://www.w3.org/2000/svg\" height=\"24px\"viewBox=\"0 0 24 24\"\n",
              "     width=\"24px\">\n",
              "    <g>\n",
              "        <path d=\"M19 3H5c-1.1 0-2 .9-2 2v14c0 1.1.9 2 2 2h14c1.1 0 2-.9 2-2V5c0-1.1-.9-2-2-2zM9 17H7v-7h2v7zm4 0h-2V7h2v10zm4 0h-2v-4h2v4z\"/>\n",
              "    </g>\n",
              "</svg>\n",
              "  </button>\n",
              "\n",
              "<style>\n",
              "  .colab-df-quickchart {\n",
              "      --bg-color: #E8F0FE;\n",
              "      --fill-color: #1967D2;\n",
              "      --hover-bg-color: #E2EBFA;\n",
              "      --hover-fill-color: #174EA6;\n",
              "      --disabled-fill-color: #AAA;\n",
              "      --disabled-bg-color: #DDD;\n",
              "  }\n",
              "\n",
              "  [theme=dark] .colab-df-quickchart {\n",
              "      --bg-color: #3B4455;\n",
              "      --fill-color: #D2E3FC;\n",
              "      --hover-bg-color: #434B5C;\n",
              "      --hover-fill-color: #FFFFFF;\n",
              "      --disabled-bg-color: #3B4455;\n",
              "      --disabled-fill-color: #666;\n",
              "  }\n",
              "\n",
              "  .colab-df-quickchart {\n",
              "    background-color: var(--bg-color);\n",
              "    border: none;\n",
              "    border-radius: 50%;\n",
              "    cursor: pointer;\n",
              "    display: none;\n",
              "    fill: var(--fill-color);\n",
              "    height: 32px;\n",
              "    padding: 0;\n",
              "    width: 32px;\n",
              "  }\n",
              "\n",
              "  .colab-df-quickchart:hover {\n",
              "    background-color: var(--hover-bg-color);\n",
              "    box-shadow: 0 1px 2px rgba(60, 64, 67, 0.3), 0 1px 3px 1px rgba(60, 64, 67, 0.15);\n",
              "    fill: var(--button-hover-fill-color);\n",
              "  }\n",
              "\n",
              "  .colab-df-quickchart-complete:disabled,\n",
              "  .colab-df-quickchart-complete:disabled:hover {\n",
              "    background-color: var(--disabled-bg-color);\n",
              "    fill: var(--disabled-fill-color);\n",
              "    box-shadow: none;\n",
              "  }\n",
              "\n",
              "  .colab-df-spinner {\n",
              "    border: 2px solid var(--fill-color);\n",
              "    border-color: transparent;\n",
              "    border-bottom-color: var(--fill-color);\n",
              "    animation:\n",
              "      spin 1s steps(1) infinite;\n",
              "  }\n",
              "\n",
              "  @keyframes spin {\n",
              "    0% {\n",
              "      border-color: transparent;\n",
              "      border-bottom-color: var(--fill-color);\n",
              "      border-left-color: var(--fill-color);\n",
              "    }\n",
              "    20% {\n",
              "      border-color: transparent;\n",
              "      border-left-color: var(--fill-color);\n",
              "      border-top-color: var(--fill-color);\n",
              "    }\n",
              "    30% {\n",
              "      border-color: transparent;\n",
              "      border-left-color: var(--fill-color);\n",
              "      border-top-color: var(--fill-color);\n",
              "      border-right-color: var(--fill-color);\n",
              "    }\n",
              "    40% {\n",
              "      border-color: transparent;\n",
              "      border-right-color: var(--fill-color);\n",
              "      border-top-color: var(--fill-color);\n",
              "    }\n",
              "    60% {\n",
              "      border-color: transparent;\n",
              "      border-right-color: var(--fill-color);\n",
              "    }\n",
              "    80% {\n",
              "      border-color: transparent;\n",
              "      border-right-color: var(--fill-color);\n",
              "      border-bottom-color: var(--fill-color);\n",
              "    }\n",
              "    90% {\n",
              "      border-color: transparent;\n",
              "      border-bottom-color: var(--fill-color);\n",
              "    }\n",
              "  }\n",
              "</style>\n",
              "\n",
              "  <script>\n",
              "    async function quickchart(key) {\n",
              "      const quickchartButtonEl =\n",
              "        document.querySelector('#' + key + ' button');\n",
              "      quickchartButtonEl.disabled = true;  // To prevent multiple clicks.\n",
              "      quickchartButtonEl.classList.add('colab-df-spinner');\n",
              "      try {\n",
              "        const charts = await google.colab.kernel.invokeFunction(\n",
              "            'suggestCharts', [key], {});\n",
              "      } catch (error) {\n",
              "        console.error('Error during call to suggestCharts:', error);\n",
              "      }\n",
              "      quickchartButtonEl.classList.remove('colab-df-spinner');\n",
              "      quickchartButtonEl.classList.add('colab-df-quickchart-complete');\n",
              "    }\n",
              "    (() => {\n",
              "      let quickchartButtonEl =\n",
              "        document.querySelector('#df-a44260ae-480e-4e04-b1b9-17e810ab3e04 button');\n",
              "      quickchartButtonEl.style.display =\n",
              "        google.colab.kernel.accessAllowed ? 'block' : 'none';\n",
              "    })();\n",
              "  </script>\n",
              "</div>\n",
              "    </div>\n",
              "  </div>\n"
            ]
          },
          "metadata": {},
          "execution_count": 95
        }
      ]
    },
    {
      "cell_type": "code",
      "source": [
        "df.select_dtypes(include=['number'])  # seleciona os valores quantitativos encontrados nos dados\n",
        "\n",
        "# CUIDADO COM OS VALORES BINÁRIOS/CODIFICADOS"
      ],
      "metadata": {
        "colab": {
          "base_uri": "https://localhost:8080/",
          "height": 424
        },
        "id": "HLxyilm8Xo9O",
        "outputId": "efb7106f-cae0-4b99-cae8-27b46ce8d305"
      },
      "execution_count": 96,
      "outputs": [
        {
          "output_type": "execute_result",
          "data": {
            "text/plain": [
              "      JoiningYear  PaymentTier  Age  ExperienceInCurrentDomain  LeaveOrNot\n",
              "0            2017            3   34                          0           0\n",
              "1            2013            1   28                          3           1\n",
              "2            2014            3   38                          2           0\n",
              "3            2016            3   27                          5           1\n",
              "4            2017            3   24                          2           1\n",
              "...           ...          ...  ...                        ...         ...\n",
              "4648         2013            3   26                          4           0\n",
              "4649         2013            2   37                          2           1\n",
              "4650         2018            3   27                          5           1\n",
              "4651         2012            3   30                          2           0\n",
              "4652         2015            3   33                          4           0\n",
              "\n",
              "[4653 rows x 5 columns]"
            ],
            "text/html": [
              "\n",
              "  <div id=\"df-9b0cbee6-94bf-467f-8c5f-056b905ddbfc\" class=\"colab-df-container\">\n",
              "    <div>\n",
              "<style scoped>\n",
              "    .dataframe tbody tr th:only-of-type {\n",
              "        vertical-align: middle;\n",
              "    }\n",
              "\n",
              "    .dataframe tbody tr th {\n",
              "        vertical-align: top;\n",
              "    }\n",
              "\n",
              "    .dataframe thead th {\n",
              "        text-align: right;\n",
              "    }\n",
              "</style>\n",
              "<table border=\"1\" class=\"dataframe\">\n",
              "  <thead>\n",
              "    <tr style=\"text-align: right;\">\n",
              "      <th></th>\n",
              "      <th>JoiningYear</th>\n",
              "      <th>PaymentTier</th>\n",
              "      <th>Age</th>\n",
              "      <th>ExperienceInCurrentDomain</th>\n",
              "      <th>LeaveOrNot</th>\n",
              "    </tr>\n",
              "  </thead>\n",
              "  <tbody>\n",
              "    <tr>\n",
              "      <th>0</th>\n",
              "      <td>2017</td>\n",
              "      <td>3</td>\n",
              "      <td>34</td>\n",
              "      <td>0</td>\n",
              "      <td>0</td>\n",
              "    </tr>\n",
              "    <tr>\n",
              "      <th>1</th>\n",
              "      <td>2013</td>\n",
              "      <td>1</td>\n",
              "      <td>28</td>\n",
              "      <td>3</td>\n",
              "      <td>1</td>\n",
              "    </tr>\n",
              "    <tr>\n",
              "      <th>2</th>\n",
              "      <td>2014</td>\n",
              "      <td>3</td>\n",
              "      <td>38</td>\n",
              "      <td>2</td>\n",
              "      <td>0</td>\n",
              "    </tr>\n",
              "    <tr>\n",
              "      <th>3</th>\n",
              "      <td>2016</td>\n",
              "      <td>3</td>\n",
              "      <td>27</td>\n",
              "      <td>5</td>\n",
              "      <td>1</td>\n",
              "    </tr>\n",
              "    <tr>\n",
              "      <th>4</th>\n",
              "      <td>2017</td>\n",
              "      <td>3</td>\n",
              "      <td>24</td>\n",
              "      <td>2</td>\n",
              "      <td>1</td>\n",
              "    </tr>\n",
              "    <tr>\n",
              "      <th>...</th>\n",
              "      <td>...</td>\n",
              "      <td>...</td>\n",
              "      <td>...</td>\n",
              "      <td>...</td>\n",
              "      <td>...</td>\n",
              "    </tr>\n",
              "    <tr>\n",
              "      <th>4648</th>\n",
              "      <td>2013</td>\n",
              "      <td>3</td>\n",
              "      <td>26</td>\n",
              "      <td>4</td>\n",
              "      <td>0</td>\n",
              "    </tr>\n",
              "    <tr>\n",
              "      <th>4649</th>\n",
              "      <td>2013</td>\n",
              "      <td>2</td>\n",
              "      <td>37</td>\n",
              "      <td>2</td>\n",
              "      <td>1</td>\n",
              "    </tr>\n",
              "    <tr>\n",
              "      <th>4650</th>\n",
              "      <td>2018</td>\n",
              "      <td>3</td>\n",
              "      <td>27</td>\n",
              "      <td>5</td>\n",
              "      <td>1</td>\n",
              "    </tr>\n",
              "    <tr>\n",
              "      <th>4651</th>\n",
              "      <td>2012</td>\n",
              "      <td>3</td>\n",
              "      <td>30</td>\n",
              "      <td>2</td>\n",
              "      <td>0</td>\n",
              "    </tr>\n",
              "    <tr>\n",
              "      <th>4652</th>\n",
              "      <td>2015</td>\n",
              "      <td>3</td>\n",
              "      <td>33</td>\n",
              "      <td>4</td>\n",
              "      <td>0</td>\n",
              "    </tr>\n",
              "  </tbody>\n",
              "</table>\n",
              "<p>4653 rows × 5 columns</p>\n",
              "</div>\n",
              "    <div class=\"colab-df-buttons\">\n",
              "\n",
              "  <div class=\"colab-df-container\">\n",
              "    <button class=\"colab-df-convert\" onclick=\"convertToInteractive('df-9b0cbee6-94bf-467f-8c5f-056b905ddbfc')\"\n",
              "            title=\"Convert this dataframe to an interactive table.\"\n",
              "            style=\"display:none;\">\n",
              "\n",
              "  <svg xmlns=\"http://www.w3.org/2000/svg\" height=\"24px\" viewBox=\"0 -960 960 960\">\n",
              "    <path d=\"M120-120v-720h720v720H120Zm60-500h600v-160H180v160Zm220 220h160v-160H400v160Zm0 220h160v-160H400v160ZM180-400h160v-160H180v160Zm440 0h160v-160H620v160ZM180-180h160v-160H180v160Zm440 0h160v-160H620v160Z\"/>\n",
              "  </svg>\n",
              "    </button>\n",
              "\n",
              "  <style>\n",
              "    .colab-df-container {\n",
              "      display:flex;\n",
              "      gap: 12px;\n",
              "    }\n",
              "\n",
              "    .colab-df-convert {\n",
              "      background-color: #E8F0FE;\n",
              "      border: none;\n",
              "      border-radius: 50%;\n",
              "      cursor: pointer;\n",
              "      display: none;\n",
              "      fill: #1967D2;\n",
              "      height: 32px;\n",
              "      padding: 0 0 0 0;\n",
              "      width: 32px;\n",
              "    }\n",
              "\n",
              "    .colab-df-convert:hover {\n",
              "      background-color: #E2EBFA;\n",
              "      box-shadow: 0px 1px 2px rgba(60, 64, 67, 0.3), 0px 1px 3px 1px rgba(60, 64, 67, 0.15);\n",
              "      fill: #174EA6;\n",
              "    }\n",
              "\n",
              "    .colab-df-buttons div {\n",
              "      margin-bottom: 4px;\n",
              "    }\n",
              "\n",
              "    [theme=dark] .colab-df-convert {\n",
              "      background-color: #3B4455;\n",
              "      fill: #D2E3FC;\n",
              "    }\n",
              "\n",
              "    [theme=dark] .colab-df-convert:hover {\n",
              "      background-color: #434B5C;\n",
              "      box-shadow: 0px 1px 3px 1px rgba(0, 0, 0, 0.15);\n",
              "      filter: drop-shadow(0px 1px 2px rgba(0, 0, 0, 0.3));\n",
              "      fill: #FFFFFF;\n",
              "    }\n",
              "  </style>\n",
              "\n",
              "    <script>\n",
              "      const buttonEl =\n",
              "        document.querySelector('#df-9b0cbee6-94bf-467f-8c5f-056b905ddbfc button.colab-df-convert');\n",
              "      buttonEl.style.display =\n",
              "        google.colab.kernel.accessAllowed ? 'block' : 'none';\n",
              "\n",
              "      async function convertToInteractive(key) {\n",
              "        const element = document.querySelector('#df-9b0cbee6-94bf-467f-8c5f-056b905ddbfc');\n",
              "        const dataTable =\n",
              "          await google.colab.kernel.invokeFunction('convertToInteractive',\n",
              "                                                    [key], {});\n",
              "        if (!dataTable) return;\n",
              "\n",
              "        const docLinkHtml = 'Like what you see? Visit the ' +\n",
              "          '<a target=\"_blank\" href=https://colab.research.google.com/notebooks/data_table.ipynb>data table notebook</a>'\n",
              "          + ' to learn more about interactive tables.';\n",
              "        element.innerHTML = '';\n",
              "        dataTable['output_type'] = 'display_data';\n",
              "        await google.colab.output.renderOutput(dataTable, element);\n",
              "        const docLink = document.createElement('div');\n",
              "        docLink.innerHTML = docLinkHtml;\n",
              "        element.appendChild(docLink);\n",
              "      }\n",
              "    </script>\n",
              "  </div>\n",
              "\n",
              "\n",
              "<div id=\"df-f4ddbe54-aa39-49de-b861-300cc81ebfce\">\n",
              "  <button class=\"colab-df-quickchart\" onclick=\"quickchart('df-f4ddbe54-aa39-49de-b861-300cc81ebfce')\"\n",
              "            title=\"Suggest charts.\"\n",
              "            style=\"display:none;\">\n",
              "\n",
              "<svg xmlns=\"http://www.w3.org/2000/svg\" height=\"24px\"viewBox=\"0 0 24 24\"\n",
              "     width=\"24px\">\n",
              "    <g>\n",
              "        <path d=\"M19 3H5c-1.1 0-2 .9-2 2v14c0 1.1.9 2 2 2h14c1.1 0 2-.9 2-2V5c0-1.1-.9-2-2-2zM9 17H7v-7h2v7zm4 0h-2V7h2v10zm4 0h-2v-4h2v4z\"/>\n",
              "    </g>\n",
              "</svg>\n",
              "  </button>\n",
              "\n",
              "<style>\n",
              "  .colab-df-quickchart {\n",
              "      --bg-color: #E8F0FE;\n",
              "      --fill-color: #1967D2;\n",
              "      --hover-bg-color: #E2EBFA;\n",
              "      --hover-fill-color: #174EA6;\n",
              "      --disabled-fill-color: #AAA;\n",
              "      --disabled-bg-color: #DDD;\n",
              "  }\n",
              "\n",
              "  [theme=dark] .colab-df-quickchart {\n",
              "      --bg-color: #3B4455;\n",
              "      --fill-color: #D2E3FC;\n",
              "      --hover-bg-color: #434B5C;\n",
              "      --hover-fill-color: #FFFFFF;\n",
              "      --disabled-bg-color: #3B4455;\n",
              "      --disabled-fill-color: #666;\n",
              "  }\n",
              "\n",
              "  .colab-df-quickchart {\n",
              "    background-color: var(--bg-color);\n",
              "    border: none;\n",
              "    border-radius: 50%;\n",
              "    cursor: pointer;\n",
              "    display: none;\n",
              "    fill: var(--fill-color);\n",
              "    height: 32px;\n",
              "    padding: 0;\n",
              "    width: 32px;\n",
              "  }\n",
              "\n",
              "  .colab-df-quickchart:hover {\n",
              "    background-color: var(--hover-bg-color);\n",
              "    box-shadow: 0 1px 2px rgba(60, 64, 67, 0.3), 0 1px 3px 1px rgba(60, 64, 67, 0.15);\n",
              "    fill: var(--button-hover-fill-color);\n",
              "  }\n",
              "\n",
              "  .colab-df-quickchart-complete:disabled,\n",
              "  .colab-df-quickchart-complete:disabled:hover {\n",
              "    background-color: var(--disabled-bg-color);\n",
              "    fill: var(--disabled-fill-color);\n",
              "    box-shadow: none;\n",
              "  }\n",
              "\n",
              "  .colab-df-spinner {\n",
              "    border: 2px solid var(--fill-color);\n",
              "    border-color: transparent;\n",
              "    border-bottom-color: var(--fill-color);\n",
              "    animation:\n",
              "      spin 1s steps(1) infinite;\n",
              "  }\n",
              "\n",
              "  @keyframes spin {\n",
              "    0% {\n",
              "      border-color: transparent;\n",
              "      border-bottom-color: var(--fill-color);\n",
              "      border-left-color: var(--fill-color);\n",
              "    }\n",
              "    20% {\n",
              "      border-color: transparent;\n",
              "      border-left-color: var(--fill-color);\n",
              "      border-top-color: var(--fill-color);\n",
              "    }\n",
              "    30% {\n",
              "      border-color: transparent;\n",
              "      border-left-color: var(--fill-color);\n",
              "      border-top-color: var(--fill-color);\n",
              "      border-right-color: var(--fill-color);\n",
              "    }\n",
              "    40% {\n",
              "      border-color: transparent;\n",
              "      border-right-color: var(--fill-color);\n",
              "      border-top-color: var(--fill-color);\n",
              "    }\n",
              "    60% {\n",
              "      border-color: transparent;\n",
              "      border-right-color: var(--fill-color);\n",
              "    }\n",
              "    80% {\n",
              "      border-color: transparent;\n",
              "      border-right-color: var(--fill-color);\n",
              "      border-bottom-color: var(--fill-color);\n",
              "    }\n",
              "    90% {\n",
              "      border-color: transparent;\n",
              "      border-bottom-color: var(--fill-color);\n",
              "    }\n",
              "  }\n",
              "</style>\n",
              "\n",
              "  <script>\n",
              "    async function quickchart(key) {\n",
              "      const quickchartButtonEl =\n",
              "        document.querySelector('#' + key + ' button');\n",
              "      quickchartButtonEl.disabled = true;  // To prevent multiple clicks.\n",
              "      quickchartButtonEl.classList.add('colab-df-spinner');\n",
              "      try {\n",
              "        const charts = await google.colab.kernel.invokeFunction(\n",
              "            'suggestCharts', [key], {});\n",
              "      } catch (error) {\n",
              "        console.error('Error during call to suggestCharts:', error);\n",
              "      }\n",
              "      quickchartButtonEl.classList.remove('colab-df-spinner');\n",
              "      quickchartButtonEl.classList.add('colab-df-quickchart-complete');\n",
              "    }\n",
              "    (() => {\n",
              "      let quickchartButtonEl =\n",
              "        document.querySelector('#df-f4ddbe54-aa39-49de-b861-300cc81ebfce button');\n",
              "      quickchartButtonEl.style.display =\n",
              "        google.colab.kernel.accessAllowed ? 'block' : 'none';\n",
              "    })();\n",
              "  </script>\n",
              "</div>\n",
              "    </div>\n",
              "  </div>\n"
            ]
          },
          "metadata": {},
          "execution_count": 96
        }
      ]
    },
    {
      "cell_type": "code",
      "source": [
        "print(type(df.ExperienceInCurrentDomain[1]))  # valor quantitativo discreto (finito) da coluna e posição indicada\n"
      ],
      "metadata": {
        "colab": {
          "base_uri": "https://localhost:8080/"
        },
        "id": "7Z3CEjphXsu7",
        "outputId": "f2131f2a-ba89-4309-9140-4ef684e1e5c6"
      },
      "execution_count": 97,
      "outputs": [
        {
          "output_type": "stream",
          "name": "stdout",
          "text": [
            "<class 'numpy.int64'>\n"
          ]
        }
      ]
    },
    {
      "cell_type": "markdown",
      "source": [
        "# Representação numérica"
      ],
      "metadata": {
        "id": "1ThKc9ydZldm"
      }
    },
    {
      "cell_type": "code",
      "source": [
        "print(\"%.2f\" % pdmedia)   # arredondamento 2 casas decimais\n",
        "print(\"%.5f\" % pdmedia)   # arredondamento 5 casas decimais\n",
        "print('{:e}'.format(pdmedia))   # notação científica\n",
        "print('{:.2e}'.format(pdmedia))   # notação científica com 2 casas decimais\n"
      ],
      "metadata": {
        "colab": {
          "base_uri": "https://localhost:8080/"
        },
        "id": "zdXLo4NGZXmz",
        "outputId": "398c5bdd-06cd-4b07-9560-5e6b74400c9c"
      },
      "execution_count": 100,
      "outputs": [
        {
          "output_type": "stream",
          "name": "stdout",
          "text": [
            "2.91\n",
            "2.90565\n",
            "2.905652e+00\n",
            "2.91e+00\n"
          ]
        }
      ]
    },
    {
      "cell_type": "markdown",
      "source": [
        "# Frequência de dados"
      ],
      "metadata": {
        "id": "YzKu4FdFaVIU"
      }
    },
    {
      "cell_type": "markdown",
      "source": [
        ">frequência absoluta"
      ],
      "metadata": {
        "id": "AzEDQzO81D8o"
      }
    },
    {
      "cell_type": "code",
      "source": [
        "ndf.Education.value_counts()   #  frequência absoluta qualitativa"
      ],
      "metadata": {
        "colab": {
          "base_uri": "https://localhost:8080/"
        },
        "id": "PKhEdnXEZsYL",
        "outputId": "749fb5c7-45ea-4451-d9c4-689d6bb214ed"
      },
      "execution_count": 103,
      "outputs": [
        {
          "output_type": "execute_result",
          "data": {
            "text/plain": [
              "Bachelors    3601\n",
              "Masters       873\n",
              "PHD           179\n",
              "Name: Education, dtype: int64"
            ]
          },
          "metadata": {},
          "execution_count": 103
        }
      ]
    },
    {
      "cell_type": "code",
      "source": [
        "ndf.ExperienceInCurrentDomain.value_counts()    # frequência absoluta quantitativa"
      ],
      "metadata": {
        "colab": {
          "base_uri": "https://localhost:8080/"
        },
        "id": "SfNiGxTMaaTA",
        "outputId": "8f561311-101a-49a7-d7ba-02034a849dba"
      },
      "execution_count": 104,
      "outputs": [
        {
          "output_type": "execute_result",
          "data": {
            "text/plain": [
              "2    1087\n",
              "4     931\n",
              "5     919\n",
              "3     786\n",
              "1     558\n",
              "0     355\n",
              "7       9\n",
              "6       8\n",
              "Name: ExperienceInCurrentDomain, dtype: int64"
            ]
          },
          "metadata": {},
          "execution_count": 104
        }
      ]
    },
    {
      "cell_type": "markdown",
      "source": [
        ">frequência relativa"
      ],
      "metadata": {
        "id": "jYtKMqMQ1JOw"
      }
    },
    {
      "cell_type": "code",
      "source": [
        "print(\"número total de observações: \", len(ndf.Education) )   #  número total de observações - linhas\n",
        "\n",
        "np.divide(ndf.Education.value_counts(), len(ndf.Education))  #  frequência relativa da coluna indicada"
      ],
      "metadata": {
        "colab": {
          "base_uri": "https://localhost:8080/"
        },
        "id": "SNtan-SRbBwU",
        "outputId": "9ab9a28c-48c4-4c8c-f1d7-fdda1559b224"
      },
      "execution_count": 105,
      "outputs": [
        {
          "output_type": "stream",
          "name": "stdout",
          "text": [
            "número total de observações:  4653\n"
          ]
        },
        {
          "output_type": "execute_result",
          "data": {
            "text/plain": [
              "Bachelors    0.773909\n",
              "Masters      0.187621\n",
              "PHD          0.038470\n",
              "Name: Education, dtype: float64"
            ]
          },
          "metadata": {},
          "execution_count": 105
        }
      ]
    },
    {
      "cell_type": "code",
      "source": [
        "print(\"número total de observações: \", len(ndf.ExperienceInCurrentDomain) )   #  número total de observações - linhas\n",
        "\n",
        "np.divide(ndf.ExperienceInCurrentDomain.value_counts(), len(ndf.ExperienceInCurrentDomain))  #  frequência relativa da coluna indicada"
      ],
      "metadata": {
        "colab": {
          "base_uri": "https://localhost:8080/"
        },
        "id": "D6BiMf90cDwU",
        "outputId": "14b002c0-cfe7-40b8-a6c2-b744e760b110"
      },
      "execution_count": 106,
      "outputs": [
        {
          "output_type": "stream",
          "name": "stdout",
          "text": [
            "número total de observações:  4653\n"
          ]
        },
        {
          "output_type": "execute_result",
          "data": {
            "text/plain": [
              "2    0.233613\n",
              "4    0.200086\n",
              "5    0.197507\n",
              "3    0.168923\n",
              "1    0.119923\n",
              "0    0.076295\n",
              "7    0.001934\n",
              "6    0.001719\n",
              "Name: ExperienceInCurrentDomain, dtype: float64"
            ]
          },
          "metadata": {},
          "execution_count": 106
        }
      ]
    },
    {
      "cell_type": "markdown",
      "source": [
        "# Alguns Gráficos"
      ],
      "metadata": {
        "id": "cs1J0DbyeMVh"
      }
    },
    {
      "cell_type": "code",
      "source": [
        "import matplotlib.pyplot as plt  # biblioteca básica para gráficos\n",
        "import seaborn as sn  # biblioteca auxiliar para gráficos"
      ],
      "metadata": {
        "id": "RvOcCLgfeKDb"
      },
      "execution_count": 29,
      "outputs": []
    },
    {
      "cell_type": "code",
      "source": [
        "sn.set(style=\"whitegrid\")  # definir estilo de gráfico\n",
        "# https://seaborn.pydata.org/tutorial/color_palettes.html"
      ],
      "metadata": {
        "id": "VJlaEGG8eSY4"
      },
      "execution_count": 30,
      "outputs": []
    },
    {
      "cell_type": "markdown",
      "source": [
        ">Gráfico de barras"
      ],
      "metadata": {
        "id": "fP7EbrXhfDi7"
      }
    },
    {
      "cell_type": "code",
      "source": [
        "sn.countplot(y=df.Education)  # gráfico barra - frequência da coluna indicada no eixo y\n",
        "plt.title(\"Education\")  # título do gráfico\n",
        "\n",
        "#plt.ylabel('')  # nome do eixo y\n",
        "#plt.xlabel('')  # nome do eixo x\n",
        "\n",
        "plt.show()  # exibir gráfico\n",
        ""
      ],
      "metadata": {
        "colab": {
          "base_uri": "https://localhost:8080/",
          "height": 480
        },
        "id": "uf0odqULfGjn",
        "outputId": "9baf530c-762b-4ff0-9c41-b368e655bd90"
      },
      "execution_count": 107,
      "outputs": [
        {
          "output_type": "display_data",
          "data": {
            "text/plain": [
              "<Figure size 640x480 with 1 Axes>"
            ],
            "image/png": "[encoded data removed]"
          },
          "metadata": {}
        }
      ]
    },
    {
      "cell_type": "markdown",
      "source": [
        ">gráfico colunas"
      ],
      "metadata": {
        "id": "AsV8mqtW1VVh"
      }
    },
    {
      "cell_type": "code",
      "source": [
        "sn.countplot(x=df.Education, hue=df.Education)  # gráfico coluna agrupada - frequência da coluna indicada no eixo x - com legenda\n",
        "plt.title(\"Education\")  # título do gráfico\n",
        "plt.ylabel('')  # nome do eixo y\n",
        "plt.xlabel('')  # nome do eixo x\n",
        "plt.legend(loc=\"best\")   # posição da legenda\n",
        "\n",
        "#plt.legend(bbox_to_anchor=(1.3,0.8))  # posição específica da legenda\n",
        "\n",
        "plt.show()  # exibir gráfico"
      ],
      "metadata": {
        "colab": {
          "base_uri": "https://localhost:8080/",
          "height": 457
        },
        "id": "yw5yFBZXgib7",
        "outputId": "f8e41e5b-3fe2-48eb-e6f9-004bfa4017a1"
      },
      "execution_count": 112,
      "outputs": [
        {
          "output_type": "display_data",
          "data": {
            "text/plain": [
              "<Figure size 640x480 with 1 Axes>"
            ],
            "image/png": "[encoded data removed]"
          },
          "metadata": {}
        }
      ]
    },
    {
      "cell_type": "code",
      "source": [
        "sn.countplot(x=df.Education, hue=df.JoiningYear)  # gráfico coluna - frequência da coluna indicada no eixo x - com legenda\n",
        "plt.title(\"Education X JoiningYear\")  # título do gráfico\n",
        "plt.ylabel('')  # nome do eixo y\n",
        "plt.xlabel('')  # nome do eixo x\n",
        "\n",
        "#plt.legend(loc=\"center\")   # posição da legenda\n",
        "\n",
        "plt.show()  # exibir gráfico"
      ],
      "metadata": {
        "colab": {
          "base_uri": "https://localhost:8080/",
          "height": 457
        },
        "id": "84DlI4VtfSMK",
        "outputId": "6289b82a-ebe8-46ec-a58f-811999b53392"
      },
      "execution_count": 110,
      "outputs": [
        {
          "output_type": "display_data",
          "data": {
            "text/plain": [
              "<Figure size 640x480 with 1 Axes>"
            ],
            "image/png": "[encoded data removed]"
          },
          "metadata": {}
        }
      ]
    },
    {
      "cell_type": "code",
      "source": [
        "sn.countplot(x=df.JoiningYear, hue=df.Education)  # gráfico coluna agrupada - frequência da coluna indicada no eixo x - com legenda\n",
        "plt.title(\"JoiningYear x Education\")  # título do gráfico\n",
        "plt.ylabel('')  # nome do eixo y\n",
        "plt.xlabel('')  # nome do eixo x\n",
        "plt.legend(loc=\"best\")   # posição da legenda\n",
        "plt.show()  # exibir gráfico"
      ],
      "metadata": {
        "colab": {
          "base_uri": "https://localhost:8080/",
          "height": 457
        },
        "id": "zPvTXVS6fnbd",
        "outputId": "df4121ba-22f3-4c7f-8e72-93c816926b11"
      },
      "execution_count": 111,
      "outputs": [
        {
          "output_type": "display_data",
          "data": {
            "text/plain": [
              "<Figure size 640x480 with 1 Axes>"
            ],
            "image/png": "[encoded data removed]"
          },
          "metadata": {}
        }
      ]
    },
    {
      "cell_type": "markdown",
      "source": [
        ">Gráfico de setores"
      ],
      "metadata": {
        "id": "1akDZOEkjZBK"
      }
    },
    {
      "cell_type": "code",
      "source": [
        "sizes = df.Education.value_counts()  # tamanho das fatias\n",
        "labels = df['Education'].value_counts().index   # rótulos das fatias\n",
        "plt.figure(figsize=(8,8))  # tamanho do gráfico\n",
        "\n",
        "plt.pie(sizes, labels=labels, explode=(0,0.1,0.2),\n",
        "        autopct='%1.3f%%', labeldistance=1, startangle=90)\n",
        "# gráfico setores - fatias destacadas na ordem - percentual automático 3 casas decimais\n",
        "\n",
        "plt.legend(bbox_to_anchor=(1.3,0.8))  # posição específica da legenda\n",
        "plt.show()  # exibir gráfico"
      ],
      "metadata": {
        "colab": {
          "base_uri": "https://localhost:8080/",
          "height": 653
        },
        "id": "WSMeo72tilii",
        "outputId": "e47b2c98-85b2-4e0e-f7a8-4360050452df"
      },
      "execution_count": 114,
      "outputs": [
        {
          "output_type": "display_data",
          "data": {
            "text/plain": [
              "<Figure size 800x800 with 1 Axes>"
            ],
            "image/png": "[encoded data removed]"
          },
          "metadata": {}
        }
      ]
    },
    {
      "cell_type": "code",
      "source": [
        "\n",
        "sizes = df['Education'].value_counts() # tamanho das fatias\n",
        "\n",
        "sizes.plot(kind='pie', figsize=(8,8), fontsize=12, explode=(0,0.1,0.2), autopct='%1.2f%%', labeldistance=1, startangle=15)\n",
        "# gráfico setores/ tamanho gráfico e fonte/ fatias destacadas na ordem/ percentual automático 2 casas decimais\n",
        "\n",
        "plt.axis(\"equal\")  # escala dos eixos igual\n",
        "plt.ylabel('') # nome do eixo y\n",
        "plt.legend(bbox_to_anchor=(1.5,0.9)) # posição específica da legenda\n",
        "plt.show() # exibir gráfico"
      ],
      "metadata": {
        "colab": {
          "base_uri": "https://localhost:8080/",
          "height": 653
        },
        "id": "o7EefpTNjazy",
        "outputId": "9d9984cd-7759-44c5-f2a6-320b4e9f7747"
      },
      "execution_count": 115,
      "outputs": [
        {
          "output_type": "display_data",
          "data": {
            "text/plain": [
              "<Figure size 800x800 with 1 Axes>"
            ],
            "image/png": "[encoded data removed]"
          },
          "metadata": {}
        }
      ]
    },
    {
      "cell_type": "markdown",
      "source": [
        ">Gráfico de Frequência Absoluta"
      ],
      "metadata": {
        "id": "mEUVf-g31dS4"
      }
    },
    {
      "cell_type": "code",
      "source": [
        "sizes = df.Education  # coluna analisada\n",
        "plt.figure(figsize=(5,5))   # tamanho do gráfico\n",
        "\n",
        "sn.histplot(sizes, bins=5)  # bins: quantidade de intervalos\n",
        "\n",
        "plt.ylabel('frequência pessoas')  # nome do eixo y\n",
        "plt.xlabel('')  # nome do eixo x\n",
        "plt.show()  # exibir gráfico"
      ],
      "metadata": {
        "colab": {
          "base_uri": "https://localhost:8080/",
          "height": 450
        },
        "id": "6Pcda4ewkCu3",
        "outputId": "407658a9-5629-422d-eabc-99f620d74e52"
      },
      "execution_count": 120,
      "outputs": [
        {
          "output_type": "display_data",
          "data": {
            "text/plain": [
              "<Figure size 500x500 with 1 Axes>"
            ],
            "image/png": "[encoded data removed]"
          },
          "metadata": {}
        }
      ]
    },
    {
      "cell_type": "markdown",
      "source": [
        ">Gráfico de Frequência Acumulada"
      ],
      "metadata": {
        "id": "rDOfkjap1zoF"
      }
    },
    {
      "cell_type": "code",
      "source": [
        "sizes = df.Education  # coluna analisada\n",
        "plt.figure(figsize=(5,5))   # tamanho do gráfico\n",
        "\n",
        "sn.histplot(sizes, cumulative=True)  # quantidade de intervalos/ acumulativo\n",
        "\n",
        "plt.ylabel('frequência pessoas - acumulada')  # nome do eixo y\n",
        "plt.xlabel('')  # nome do eixo x\n",
        "plt.show()  # exibir gráfico\n",
        ""
      ],
      "metadata": {
        "colab": {
          "base_uri": "https://localhost:8080/",
          "height": 450
        },
        "id": "DzH0I55EkYQK",
        "outputId": "d8fd733e-66e0-403a-ad0b-83b697af1669"
      },
      "execution_count": 121,
      "outputs": [
        {
          "output_type": "display_data",
          "data": {
            "text/plain": [
              "<Figure size 500x500 with 1 Axes>"
            ],
            "image/png": "[encoded data removed]"
          },
          "metadata": {}
        }
      ]
    },
    {
      "cell_type": "code",
      "source": [
        "\n",
        "sizes = df.Education.sort_values(ascending=False)  # coluna analisada ordenada\n",
        "plt.figure(figsize=(5,5))   # tamanho do gráfico\n",
        "\n",
        "sn.histplot(sizes, cumulative=True)  # quantidade de intervalos/ acumulativo\n",
        "\n",
        "plt.ylabel('frequência pessoas - acumulada')  # nome do eixo y\n",
        "plt.xlabel('')  # nome do eixo x\n",
        "plt.show()  # exibir gráfico\n",
        ""
      ],
      "metadata": {
        "colab": {
          "base_uri": "https://localhost:8080/",
          "height": 450
        },
        "id": "5WPGnBBIk2JP",
        "outputId": "936c6d34-be92-4f00-f447-6254b67f306a"
      },
      "execution_count": 122,
      "outputs": [
        {
          "output_type": "display_data",
          "data": {
            "text/plain": [
              "<Figure size 500x500 with 1 Axes>"
            ],
            "image/png": "[encoded data removed]"
          },
          "metadata": {}
        }
      ]
    },
    {
      "cell_type": "markdown",
      "source": [
        ">Gráfico de Frequência Relativa"
      ],
      "metadata": {
        "id": "C0FJzAhX2ETs"
      }
    },
    {
      "cell_type": "code",
      "source": [
        "sizes = np.divide(df.Education.value_counts(), len(df.Education))  # coluna analisada dividida pelo seu tamanho\n",
        "plt.figure(figsize=(5,5))  # tamanho do gráfico\n",
        "\n",
        "plt.plot(sizes) # plotar dados\n",
        "\n",
        "plt.ylabel('Freq Relativa')  # nome do eixo y\n",
        "plt.xlabel('Education')  # nome do eixo x\n",
        "plt.show()  # exibir gráfico"
      ],
      "metadata": {
        "colab": {
          "base_uri": "https://localhost:8080/",
          "height": 474
        },
        "id": "qPk1JC4zlIO6",
        "outputId": "e2628b7f-cd99-4c46-e8a6-0c481775f633"
      },
      "execution_count": 124,
      "outputs": [
        {
          "output_type": "display_data",
          "data": {
            "text/plain": [
              "<Figure size 500x500 with 1 Axes>"
            ],
            "image/png": "[encoded data removed]"
          },
          "metadata": {}
        }
      ]
    },
    {
      "cell_type": "code",
      "source": [
        "sn.set(style=\"ticks\",palette='crest')  # definir estilo de gráfico e cor\n"
      ],
      "metadata": {
        "id": "1mvI1ITPlO6z"
      },
      "execution_count": 125,
      "outputs": []
    },
    {
      "cell_type": "markdown",
      "source": [
        "#Somatórios"
      ],
      "metadata": {
        "id": "sfRyrWB_kkIh"
      }
    },
    {
      "cell_type": "markdown",
      "source": [
        "![image.png](data:image/png;base64,iVBORw0KGgoAAAANSUhEUgAAADcAAABLCAIAAABbWYirAAADrUlEQVRoBe2a4W30IAyGWYEZWIEdGIEZsgIbZAM2YIJMkAVYgA3YwZ/UV7KiK0kMyaVfq8uPyuLAfmKIbaCKfsOjfgMkfSjvm6aPLz++vM8D92n6o+syxrgsCxGVUuZ5hnyf19qaOnxZa3XOTdOklFqWxX89SnVoaCMIWvtslFLWdVVKhRCICLLAytUufZREFGPUWtdaIRtjriIIxndTYqKh2Xs/TZPAytUu3ZTGmBgjzGqtU0rw61WQw/F9lKUUpdS6rtCplJqmyXv/btBuynme+bWXZYkxvhuR6FO5scuvC30zft3emIZfSxljVJefMZ/tjWr70jkHTu/93sjv7bVWZPnbk3ubspSitQYox/DvWM0WY8xDlES0LAsotdallCZQs3Ge5+coiSiEAFBrbROo2fiOQqk94zBfa7XWAnSbcppwb208oiSinDMot+n7rUBN5SeUKCIBaox5IGUPUhKR9x6gXYGpaW+s8dyXRFRr5cCUUhqzdGWUiJK3OEqp3sB0BY7HSimJCIFQKdUVmNjSFaGDkoh+KjD1UW4zJ+8rrjhJOLaPkohSSs8Hpm5KIuLCpzcw5ZxRbXEFg7V+GjdGKGutKHxwFCOcNbweqjutNaYFZySnGkYot5mTvXJqiTug2kopyadikBKf0VhIqrUqpbry7SCltfZKeNdaN49uQgjNg6cRStSdwyeXKSWtddc8dFOiyG16glfegZBz9t4jnL1UWAhwzTDcR4myw1r7YuAAa/sTzmlrrShbY4w5Z66v8VVt+7PcR+mc01rnnHm8XLDWGmN4LKrBaZr4hVNKe8uggxIReCD0CN9kmqa98CmlxBzJI5yQbNvNGLOXhESUSDZdEW5rXihjaxVC4DXAA0WUWEO8pHjwvQJicNOd55Q4NuIv8V4yobYTypyz1to5J1T3pm5HlDg14HsTOYHW+l7fH1GijmwmgwNi3BA8RIkkthfADiixjoezfFNz25fDhdm6rti5985AE44b25S8V0QFMPD37ZR8IDgAx0PuDa4NX/JxNZscEHiybhEalLfovVfJn6BMX4/cMbjml/cX9jzxZYxR+LWWUpAF7o3neI1dSvzziNBkrdV7v66rtVY4ROjFc0rsAVjd3HpeCi3n3KOUOLDcFuctyPnnKZ1zvbucH/Dly+3J/+hLvgLj6z0J5dNfDyhDCMJjjHmeEYlQAgvjF3+ax8JuJMJ91MvHcaDrxdPPUR4wPfzTkS8fRjkw96E8cE7nT7/Dl/8AzcW/DF2MZGAAAAAASUVORK5CYII=)"
      ],
      "metadata": {
        "id": "VIn6DGR_keVX"
      }
    },
    {
      "cell_type": "code",
      "source": [
        "def somatorio(x): # criar uma função que precisa de uma entrada x\n",
        "    if x==1:\n",
        "      return 1  # para x=1 retorna a saída e encerra a função\n",
        "    else:  # caso x diferente de 1\n",
        "      return x + somatorio(x-1)  # retorna a soma do termo e seu antecessor\n",
        "\n",
        "x = int(input(\"Calcular o somatório de 1 até: \"))  # construir a entrada x\n",
        "print(\"Resultado do somatório: \", somatorio(x) )  # print que chama a função definida calculada em x"
      ],
      "metadata": {
        "colab": {
          "base_uri": "https://localhost:8080/"
        },
        "id": "o4D_PHjbjCZL",
        "outputId": "97192f74-b452-4fca-a0ab-067b57d0d26d"
      },
      "execution_count": 126,
      "outputs": [
        {
          "output_type": "stream",
          "name": "stdout",
          "text": [
            "Calcular o somatório de 1 até: 5\n",
            "Resultado do somatório:  15\n"
          ]
        }
      ]
    },
    {
      "cell_type": "markdown",
      "source": [
        ">Soma dos quadrados\n",
        "\n",
        "![image.png](data:image/png;base64,iVBORw0KGgoAAAANSUhEUgAAAD8AAABFCAIAAAByhKkvAAAECklEQVRoBe2a0XHkIAyGaUE10IJ7oATXQAvugA7owBVQgRugATrg4R7zktHN7D+n4Zx1DJh1krnjYaN1MPoksJDwKv6u7e3t7ddZU98Vnn82/fv7+9tZG+N7730IgZlTSs45yDfM6lX6nLMxxlqrlAohzI+m1NVhKy0foCaltG2bUmpZFmaGXKn+YrcB9MzsvSeinDNkrfVFrMrbx9BjwUDlPM/W2kr1F7uNoddae++BQkTrumIeLsKd3j6APqWklNq2DcqUUtbaeZ5vMGAMvXNO/BRC8N7fgM7MA+iF+37hP/39Pv+j8d/wvfdeXW5/XDbsb4PvjTHgn+e5Xn/OGVnQK5KfBvqUEhHBANmbKs3QWn8xPTOHEEBPRCmlSnRmds59PT0zL8sCA6Zpqqd/UeLZsHLAmnOepgkGlFtsvSUDezbTM3OMEfRlejOQqX6oHnok8TBAa31DShNCsNaiiCuft056Zp7nGQY0BdB6v0pP7/00TeHRiMgYI//qp885SwBd11VGHC6klGR6d7Grn15KWKVUawDtthCVg9x+iV4CuVKqKYCK+iYhxrhz01V6Zr4ngMYYtdYxxtLgAfRlBiH1YanjuvwUfVhtta7r6wJozllrLX4pt8gBvodrJZFsDaCShMqNIQQikmMVay0CpXm0Ml8aRg8PYQaazjG999u2Yfbio+3OI2KM299NluIw+jKDaM2fmTnnrJRyzhljJLoL5ZEwkh6Pb3fonKaJiGR9HxGX10fSQ32Zh5SaTuV5np8egOJU/emww+iR9zet+NIexESl1MdlE2Ms40x51xh6FB8SJUoFNTJeAiDx3tm/rqtz7mg5DaBHujZN00e31aAzs7UWfESEgCOOwFnGURY4gN4YQ0S7PbySe1kWnDmjP1iNMeVoSqnyaznyVXqkrB0hsoT4RN62jYiOOlyix0qVPfJIx5Xr2AGORuinx+b66srQGOOcy4/20YZ+elSGRyvyo6a+K8htdk+CDNVJj8frKAzL6NcFBPunW1Vnhowap6yOr1P2jdDse5xGyfvNeq1ENHyumumRxx9tfkfG4M3cF9MjC8c78SPQp9fxnOyygKc9my42+L47AcaO84pjwwZ6OTtAAdXx2breTuehll4Ovjug5Zbhm0Mtvbz2EZQO4dSXrR1q6VvHvaf/v0e/bVtT5M45D4+VmNse34cQjoqd3YLJOTvndofuuz5XvjbTu0c7Spt2KNZaee2x+9eQr830SIyFHlUzTCo/S7jPK4yyZ6vcTL8r1X4YvXOutRT8Rr5HqSZT/MN8j2Srad0vy/KiUqZ53eNHc5Unveu64sQGvzWtjLMysadCM33Tj+Z26+rr6U/9cWeHZt/fCXeq6z/9qYte1uFn+/434SYWBGAzNZIAAAAASUVORK5CYII=)"
      ],
      "metadata": {
        "id": "e968nYYwk1zd"
      }
    },
    {
      "cell_type": "code",
      "source": [
        "def somatorio(x): # criar uma função que precisa de uma entrada x\n",
        "    if x==1:\n",
        "      return 1  # para x=1 retorna a saída e encerra a função\n",
        "    else:  # caso x diferente de 1\n",
        "      return x**2 + somatorio(x-1)  # retorna a soma do termo elevado ao quadrado e seu antecessor - soma dos quadrados\n",
        "\n",
        "x = int(input(\"Calcular o somatório de 1 até: \"))  # construir a entrada x\n",
        "print(\"Resultado da soma dos quadrados: \",somatorio(x) ) # print que chama a função definida calculada em x"
      ],
      "metadata": {
        "colab": {
          "base_uri": "https://localhost:8080/",
          "height": 373
        },
        "id": "tPL4qybCjjvd",
        "outputId": "4b81fc18-138d-4247-d8b4-25f41a4abb4d"
      },
      "execution_count": 45,
      "outputs": [
        {
          "output_type": "error",
          "ename": "KeyboardInterrupt",
          "evalue": "ignored",
          "traceback": [
            "\u001b[0;31m---------------------------------------------------------------------------\u001b[0m",
            "\u001b[0;31mKeyboardInterrupt\u001b[0m                         Traceback (most recent call last)",
            "\u001b[0;32m<ipython-input-45-87f159636245>\u001b[0m in \u001b[0;36m<cell line: 7>\u001b[0;34m()\u001b[0m\n\u001b[1;32m      5\u001b[0m       \u001b[0;32mreturn\u001b[0m \u001b[0mx\u001b[0m\u001b[0;34m**\u001b[0m\u001b[0;36m2\u001b[0m \u001b[0;34m+\u001b[0m \u001b[0msomatorio\u001b[0m\u001b[0;34m(\u001b[0m\u001b[0mx\u001b[0m\u001b[0;34m-\u001b[0m\u001b[0;36m1\u001b[0m\u001b[0;34m)\u001b[0m  \u001b[0;31m# retorna a soma do termo elevado ao quadrado e seu antecessor - soma dos quadrados\u001b[0m\u001b[0;34m\u001b[0m\u001b[0;34m\u001b[0m\u001b[0m\n\u001b[1;32m      6\u001b[0m \u001b[0;34m\u001b[0m\u001b[0m\n\u001b[0;32m----> 7\u001b[0;31m \u001b[0mx\u001b[0m \u001b[0;34m=\u001b[0m \u001b[0mint\u001b[0m\u001b[0;34m(\u001b[0m\u001b[0minput\u001b[0m\u001b[0;34m(\u001b[0m\u001b[0;34m\"Calcular o somatório de 1 até: \"\u001b[0m\u001b[0;34m)\u001b[0m\u001b[0;34m)\u001b[0m  \u001b[0;31m# construir a entrada x\u001b[0m\u001b[0;34m\u001b[0m\u001b[0;34m\u001b[0m\u001b[0m\n\u001b[0m\u001b[1;32m      8\u001b[0m \u001b[0mprint\u001b[0m\u001b[0;34m(\u001b[0m\u001b[0;34m\"Resultado da soma dos quadrados: \"\u001b[0m\u001b[0;34m,\u001b[0m\u001b[0msomatorio\u001b[0m\u001b[0;34m(\u001b[0m\u001b[0mx\u001b[0m\u001b[0;34m)\u001b[0m \u001b[0;34m)\u001b[0m \u001b[0;31m# print que chama a função definida calculada em x\u001b[0m\u001b[0;34m\u001b[0m\u001b[0;34m\u001b[0m\u001b[0m\n",
            "\u001b[0;32m/usr/local/lib/python3.10/dist-packages/ipykernel/kernelbase.py\u001b[0m in \u001b[0;36mraw_input\u001b[0;34m(self, prompt)\u001b[0m\n\u001b[1;32m    849\u001b[0m                 \u001b[0;34m\"raw_input was called, but this frontend does not support input requests.\"\u001b[0m\u001b[0;34m\u001b[0m\u001b[0;34m\u001b[0m\u001b[0m\n\u001b[1;32m    850\u001b[0m             )\n\u001b[0;32m--> 851\u001b[0;31m         return self._input_request(str(prompt),\n\u001b[0m\u001b[1;32m    852\u001b[0m             \u001b[0mself\u001b[0m\u001b[0;34m.\u001b[0m\u001b[0m_parent_ident\u001b[0m\u001b[0;34m,\u001b[0m\u001b[0;34m\u001b[0m\u001b[0;34m\u001b[0m\u001b[0m\n\u001b[1;32m    853\u001b[0m             \u001b[0mself\u001b[0m\u001b[0;34m.\u001b[0m\u001b[0m_parent_header\u001b[0m\u001b[0;34m,\u001b[0m\u001b[0;34m\u001b[0m\u001b[0;34m\u001b[0m\u001b[0m\n",
            "\u001b[0;32m/usr/local/lib/python3.10/dist-packages/ipykernel/kernelbase.py\u001b[0m in \u001b[0;36m_input_request\u001b[0;34m(self, prompt, ident, parent, password)\u001b[0m\n\u001b[1;32m    893\u001b[0m             \u001b[0;32mexcept\u001b[0m \u001b[0mKeyboardInterrupt\u001b[0m\u001b[0;34m:\u001b[0m\u001b[0;34m\u001b[0m\u001b[0;34m\u001b[0m\u001b[0m\n\u001b[1;32m    894\u001b[0m                 \u001b[0;31m# re-raise KeyboardInterrupt, to truncate traceback\u001b[0m\u001b[0;34m\u001b[0m\u001b[0;34m\u001b[0m\u001b[0m\n\u001b[0;32m--> 895\u001b[0;31m                 \u001b[0;32mraise\u001b[0m \u001b[0mKeyboardInterrupt\u001b[0m\u001b[0;34m(\u001b[0m\u001b[0;34m\"Interrupted by user\"\u001b[0m\u001b[0;34m)\u001b[0m \u001b[0;32mfrom\u001b[0m \u001b[0;32mNone\u001b[0m\u001b[0;34m\u001b[0m\u001b[0;34m\u001b[0m\u001b[0m\n\u001b[0m\u001b[1;32m    896\u001b[0m             \u001b[0;32mexcept\u001b[0m \u001b[0mException\u001b[0m \u001b[0;32mas\u001b[0m \u001b[0me\u001b[0m\u001b[0;34m:\u001b[0m\u001b[0;34m\u001b[0m\u001b[0;34m\u001b[0m\u001b[0m\n\u001b[1;32m    897\u001b[0m                 \u001b[0mself\u001b[0m\u001b[0;34m.\u001b[0m\u001b[0mlog\u001b[0m\u001b[0;34m.\u001b[0m\u001b[0mwarning\u001b[0m\u001b[0;34m(\u001b[0m\u001b[0;34m\"Invalid Message:\"\u001b[0m\u001b[0;34m,\u001b[0m \u001b[0mexc_info\u001b[0m\u001b[0;34m=\u001b[0m\u001b[0;32mTrue\u001b[0m\u001b[0;34m)\u001b[0m\u001b[0;34m\u001b[0m\u001b[0;34m\u001b[0m\u001b[0m\n",
            "\u001b[0;31mKeyboardInterrupt\u001b[0m: Interrupted by user"
          ]
        }
      ]
    },
    {
      "cell_type": "markdown",
      "source": [
        "Soma do desvio\n",
        "\n",
        "![image.png](data:image/png;base64,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)"
      ],
      "metadata": {
        "id": "BFpJUvETk_21"
      }
    },
    {
      "cell_type": "code",
      "source": [
        "def somatorio(x): # criar uma função que precisa de uma entrada x\n",
        "  if x==1:\n",
        "    return 1  # para x=1 retorna a saída e encerra a função\n",
        "  else:  # caso x diferente de 1\n",
        "    return (x-k)**2 + somatorio(x-1)\n",
        "# retorna o termo subtraído da média elevado ao quadrado e o resultado é somado ao seu antecessor\n",
        "\n",
        "x = int(input(\"Calcular o somatório de 1 até: \"))  # construir a entrada x\n",
        "k = int(input(\"O valor médio dos dados é: \"))  # informar a média\n",
        "print(\"Resultado da função: \",somatorio(x) )  # print que chama a função definida calculada em x"
      ],
      "metadata": {
        "colab": {
          "base_uri": "https://localhost:8080/",
          "height": 390
        },
        "id": "j6jHI11Ok8n7",
        "outputId": "9c352dae-3503-4eaf-9600-3b9a8ac43fc4"
      },
      "execution_count": 46,
      "outputs": [
        {
          "output_type": "error",
          "ename": "KeyboardInterrupt",
          "evalue": "ignored",
          "traceback": [
            "\u001b[0;31m---------------------------------------------------------------------------\u001b[0m",
            "\u001b[0;31mKeyboardInterrupt\u001b[0m                         Traceback (most recent call last)",
            "\u001b[0;32m<ipython-input-46-0edb24779299>\u001b[0m in \u001b[0;36m<cell line: 8>\u001b[0;34m()\u001b[0m\n\u001b[1;32m      6\u001b[0m \u001b[0;31m# retorna o termo subtraído da média elevado ao quadrado e o resultado é somado ao seu antecessor\u001b[0m\u001b[0;34m\u001b[0m\u001b[0;34m\u001b[0m\u001b[0m\n\u001b[1;32m      7\u001b[0m \u001b[0;34m\u001b[0m\u001b[0m\n\u001b[0;32m----> 8\u001b[0;31m \u001b[0mx\u001b[0m \u001b[0;34m=\u001b[0m \u001b[0mint\u001b[0m\u001b[0;34m(\u001b[0m\u001b[0minput\u001b[0m\u001b[0;34m(\u001b[0m\u001b[0;34m\"Calcular o somatório de 1 até: \"\u001b[0m\u001b[0;34m)\u001b[0m\u001b[0;34m)\u001b[0m  \u001b[0;31m# construir a entrada x\u001b[0m\u001b[0;34m\u001b[0m\u001b[0;34m\u001b[0m\u001b[0m\n\u001b[0m\u001b[1;32m      9\u001b[0m \u001b[0mk\u001b[0m \u001b[0;34m=\u001b[0m \u001b[0mint\u001b[0m\u001b[0;34m(\u001b[0m\u001b[0minput\u001b[0m\u001b[0;34m(\u001b[0m\u001b[0;34m\"O valor médio dos dados é: \"\u001b[0m\u001b[0;34m)\u001b[0m\u001b[0;34m)\u001b[0m  \u001b[0;31m# informar a média\u001b[0m\u001b[0;34m\u001b[0m\u001b[0;34m\u001b[0m\u001b[0m\n\u001b[1;32m     10\u001b[0m \u001b[0mprint\u001b[0m\u001b[0;34m(\u001b[0m\u001b[0;34m\"Resultado da função: \"\u001b[0m\u001b[0;34m,\u001b[0m\u001b[0msomatorio\u001b[0m\u001b[0;34m(\u001b[0m\u001b[0mx\u001b[0m\u001b[0;34m)\u001b[0m \u001b[0;34m)\u001b[0m  \u001b[0;31m# print que chama a função definida calculada em x\u001b[0m\u001b[0;34m\u001b[0m\u001b[0;34m\u001b[0m\u001b[0m\n",
            "\u001b[0;32m/usr/local/lib/python3.10/dist-packages/ipykernel/kernelbase.py\u001b[0m in \u001b[0;36mraw_input\u001b[0;34m(self, prompt)\u001b[0m\n\u001b[1;32m    849\u001b[0m                 \u001b[0;34m\"raw_input was called, but this frontend does not support input requests.\"\u001b[0m\u001b[0;34m\u001b[0m\u001b[0;34m\u001b[0m\u001b[0m\n\u001b[1;32m    850\u001b[0m             )\n\u001b[0;32m--> 851\u001b[0;31m         return self._input_request(str(prompt),\n\u001b[0m\u001b[1;32m    852\u001b[0m             \u001b[0mself\u001b[0m\u001b[0;34m.\u001b[0m\u001b[0m_parent_ident\u001b[0m\u001b[0;34m,\u001b[0m\u001b[0;34m\u001b[0m\u001b[0;34m\u001b[0m\u001b[0m\n\u001b[1;32m    853\u001b[0m             \u001b[0mself\u001b[0m\u001b[0;34m.\u001b[0m\u001b[0m_parent_header\u001b[0m\u001b[0;34m,\u001b[0m\u001b[0;34m\u001b[0m\u001b[0;34m\u001b[0m\u001b[0m\n",
            "\u001b[0;32m/usr/local/lib/python3.10/dist-packages/ipykernel/kernelbase.py\u001b[0m in \u001b[0;36m_input_request\u001b[0;34m(self, prompt, ident, parent, password)\u001b[0m\n\u001b[1;32m    893\u001b[0m             \u001b[0;32mexcept\u001b[0m \u001b[0mKeyboardInterrupt\u001b[0m\u001b[0;34m:\u001b[0m\u001b[0;34m\u001b[0m\u001b[0;34m\u001b[0m\u001b[0m\n\u001b[1;32m    894\u001b[0m                 \u001b[0;31m# re-raise KeyboardInterrupt, to truncate traceback\u001b[0m\u001b[0;34m\u001b[0m\u001b[0;34m\u001b[0m\u001b[0m\n\u001b[0;32m--> 895\u001b[0;31m                 \u001b[0;32mraise\u001b[0m \u001b[0mKeyboardInterrupt\u001b[0m\u001b[0;34m(\u001b[0m\u001b[0;34m\"Interrupted by user\"\u001b[0m\u001b[0;34m)\u001b[0m \u001b[0;32mfrom\u001b[0m \u001b[0;32mNone\u001b[0m\u001b[0;34m\u001b[0m\u001b[0;34m\u001b[0m\u001b[0m\n\u001b[0m\u001b[1;32m    896\u001b[0m             \u001b[0;32mexcept\u001b[0m \u001b[0mException\u001b[0m \u001b[0;32mas\u001b[0m \u001b[0me\u001b[0m\u001b[0;34m:\u001b[0m\u001b[0;34m\u001b[0m\u001b[0;34m\u001b[0m\u001b[0m\n\u001b[1;32m    897\u001b[0m                 \u001b[0mself\u001b[0m\u001b[0;34m.\u001b[0m\u001b[0mlog\u001b[0m\u001b[0;34m.\u001b[0m\u001b[0mwarning\u001b[0m\u001b[0;34m(\u001b[0m\u001b[0;34m\"Invalid Message:\"\u001b[0m\u001b[0;34m,\u001b[0m \u001b[0mexc_info\u001b[0m\u001b[0;34m=\u001b[0m\u001b[0;32mTrue\u001b[0m\u001b[0;34m)\u001b[0m\u001b[0;34m\u001b[0m\u001b[0;34m\u001b[0m\u001b[0m\n",
            "\u001b[0;31mKeyboardInterrupt\u001b[0m: Interrupted by user"
          ]
        }
      ]
    },
    {
      "cell_type": "code",
      "source": [
        "x = df.Age  # construir a entrada x\n",
        "k = df.Age.mean()  # calcular a média\n",
        "\n",
        "def dm(x): # criar uma função que precisa de uma entrada x\n",
        "  aux = np.array((x-k)**2)  # auxiliar que monta um vetor com a entrada subtraída da média e esse resultado é elevado ao quadrado\n",
        "  return aux.sum()  # saída da função: soma dos termos do vetor aux\n",
        "\n",
        "print(\"Resultado da função: \", dm(x) )  # print que chama a função definida calculada em x"
      ],
      "metadata": {
        "colab": {
          "base_uri": "https://localhost:8080/"
        },
        "id": "zrkdWQj4lB0a",
        "outputId": "805dc912-de08-4f55-976f-66c504cbe747"
      },
      "execution_count": 128,
      "outputs": [
        {
          "output_type": "stream",
          "name": "stdout",
          "text": [
            "Resultado da função:  23.286110206971145\n"
          ]
        }
      ]
    },
    {
      "cell_type": "markdown",
      "source": [
        "# Medidas de Tendência Central: Mediana, Moda e Média\n"
      ],
      "metadata": {
        "id": "Hs28xCLNlUWh"
      }
    },
    {
      "cell_type": "markdown",
      "source": [
        ">Mediana"
      ],
      "metadata": {
        "id": "2UHeoyRoliMf"
      }
    },
    {
      "cell_type": "code",
      "source": [
        "np.median(df.Age)  # usando numpy"
      ],
      "metadata": {
        "colab": {
          "base_uri": "https://localhost:8080/"
        },
        "id": "pLiUhhPnlMhK",
        "outputId": "d6c83d15-022c-4553-9529-4e12a97fbea3"
      },
      "execution_count": 130,
      "outputs": [
        {
          "output_type": "execute_result",
          "data": {
            "text/plain": [
              "28.0"
            ]
          },
          "metadata": {},
          "execution_count": 130
        }
      ]
    },
    {
      "cell_type": "code",
      "source": [
        "df.Age.median()  # usando pandas"
      ],
      "metadata": {
        "colab": {
          "base_uri": "https://localhost:8080/"
        },
        "id": "Qa6XdzjBlg3W",
        "outputId": "9bcb212a-e04d-47e1-ff66-13c85ec07566"
      },
      "execution_count": 129,
      "outputs": [
        {
          "output_type": "execute_result",
          "data": {
            "text/plain": [
              "28.0"
            ]
          },
          "metadata": {},
          "execution_count": 129
        }
      ]
    },
    {
      "cell_type": "markdown",
      "source": [
        ">Moda"
      ],
      "metadata": {
        "id": "lDxfiHThl6MA"
      }
    },
    {
      "cell_type": "code",
      "source": [
        "df.Age.mode()  # moda quantitativas"
      ],
      "metadata": {
        "colab": {
          "base_uri": "https://localhost:8080/"
        },
        "id": "6mUpF2ERlony",
        "outputId": "4b3c2256-ac79-4e11-b890-d30a2d241414"
      },
      "execution_count": 131,
      "outputs": [
        {
          "output_type": "execute_result",
          "data": {
            "text/plain": [
              "0    26\n",
              "Name: Age, dtype: int64"
            ]
          },
          "metadata": {},
          "execution_count": 131
        }
      ]
    },
    {
      "cell_type": "code",
      "source": [
        "df.City.mode()  #  moda qualitativas"
      ],
      "metadata": {
        "colab": {
          "base_uri": "https://localhost:8080/"
        },
        "id": "25FcqFIel8ky",
        "outputId": "3e0210b0-cf8a-4bbf-ac94-3f4107e6bb5d"
      },
      "execution_count": 132,
      "outputs": [
        {
          "output_type": "execute_result",
          "data": {
            "text/plain": [
              "0    Bangalore\n",
              "Name: City, dtype: object"
            ]
          },
          "metadata": {},
          "execution_count": 132
        }
      ]
    },
    {
      "cell_type": "markdown",
      "source": [
        ">Média aritmética"
      ],
      "metadata": {
        "id": "uaS5Ghu2mGSh"
      }
    },
    {
      "cell_type": "markdown",
      "source": [
        "![image.png](data:image/png;base64,iVBORw0KGgoAAAANSUhEUgAAAGYAAAA8CAIAAAAbqFikAAAEEElEQVR4Ae2aUbHrIBCGsYAGLOABCWjAAg5wgAMURAEGMBAH64E7c/47DENIGtqeNu0hT4SwhP2y7MISluc1SIANtp/N80Q2bAQT2UQ2TGBYYFrZRDZMYFhgWtn3IkspresK/WKMpTys8cMC77SyEAK7dcUYc87WWikl5zylpJQSQnDOH9b9zg7eiSznrJRijBljmuHHGDnnjLEYIxEtyxJjREsiQrkRedntm5Gt6wo0y7I0OjvngAz1MEnMxxDC37WynLP3njHGOSeimtq6rjUyY4xSCg2MMVrruvEry2+2MqiqtWaMFSJd/aWUzjk8EkJ477vNXlB5CWREhOm5B4KIaotjjHnvjTGNYQ7xijE650rkJSLnHKLNcT+XQJZzXpYFwTOltB0xAmUBZK3VWndbbmW7Nc45a60QAqZNRLDiQrArhcqrIMs5Y3q+xkkh2sCNEtHQB7gQMvh7a+3BF37uo5QSfGgI4XzPF0KmlJJSnh/6U1oyxrp2DU/XfcVVkDnnOOfHrkRKuV30drXKOcOdd3EUEYSdbqRelmXP9C6BDKv57Wq26DZa8N5jX9XFUXrTP9d2Vex+rr3v935kRCSE6LowKSWiPpgydna0kHLOHSBzzoUQ0DOCb1lhIBBdF5nWuuvCmtW/tbbWv7udrxvknPeQhRCstZjjmJtSSq11MXPscIsxNoWz360Re9at937PhRlj6uWrMaZriQcj2UPmva/9VLOmBesDJ/hOZIjxXXsplWWyCCGKFRxgqh/tIavbdMtKqbI52zZ4JzJkfgqdbgEOBZO0di7dxicn5pZCUwPrrl9XN9hFVjxuPbhmTHVHv1rGYIjo/NwkIgTNss06P0Ik5pRSXdldZOdf8IKWSKsJIU7uKxv7Hf3Sy7J477u8cp6n5eMfvG9lWIsLIUA6pSSlFEKM9/+FEh1kKSUkkpCWglPY84VfiOSWSh1kRQQLPGNMifTlUV1Akr6OEtty3f7Ty0fIrLWc84MVyoPKb8les6ZR8wgZMnBzSp5FBhfGGLu55p4T8z9TuLC9HEMD/k/d9idmCAEuTGuNpcaDxznfxLRFhpOesi9BGuSOLfE3MWp0aZE1j+ftlsBEtmVyo2YiuwFo+/gbkKWfq+j22z/sfTYyIjLGSCmRFCw/7NUZ8ILyWYXPRlZOG5EURKDHPy+/uM97Fvs39oM0t5QSqSrc7v1E9Pg4P9vKoD9+cCwbOywtT+Zv7yD4DchwfFeURwKm3D698A3IpJR1dl8IcXAK+TjBj0e2dfaMMfj+vfOOB6l9PDJ4ruLI4PuNMfhP8UE6XfGPRxZCaA4c8fdG/QtBV/O7Kz8e2d2a3y04kQ2jm8gmsmECwwLTyiayYQLDAtPKJrJhAsMC08qGkf0DG/u3zDkXgH4AAAAASUVORK5CYII=)"
      ],
      "metadata": {
        "id": "H5-8shoSmMEZ"
      }
    },
    {
      "cell_type": "code",
      "source": [
        "pdmedia = df.ExperienceInCurrentDomain.mean()   # valor quantitativo contínuo - média pela Pandas\n",
        "print(\"A média é: \", pdmedia)\n",
        "type(pdmedia)  # tipo da variável calculada"
      ],
      "metadata": {
        "colab": {
          "base_uri": "https://localhost:8080/"
        },
        "id": "GLcbYX4dYQ3O",
        "outputId": "661f0aee-d301-4fd1-db7d-969efdf31582"
      },
      "execution_count": 98,
      "outputs": [
        {
          "output_type": "stream",
          "name": "stdout",
          "text": [
            "A média é:  2.905652267354395\n"
          ]
        },
        {
          "output_type": "execute_result",
          "data": {
            "text/plain": [
              "numpy.float64"
            ]
          },
          "metadata": {},
          "execution_count": 98
        }
      ]
    },
    {
      "cell_type": "code",
      "source": [
        "npmedia = np.mean(df.ExperienceInCurrentDomain)   # valor quantitativo contínuo - média pela NUMPY\n",
        "print(\"A média é: \", npmedia)"
      ],
      "metadata": {
        "colab": {
          "base_uri": "https://localhost:8080/"
        },
        "id": "5gv7M4VkYpe9",
        "outputId": "d1f314bf-1b00-41fe-b7f1-2306394ec5eb"
      },
      "execution_count": 99,
      "outputs": [
        {
          "output_type": "stream",
          "name": "stdout",
          "text": [
            "A média é:  2.905652267354395\n"
          ]
        }
      ]
    },
    {
      "cell_type": "markdown",
      "source": [
        ">Média Ponderada"
      ],
      "metadata": {
        "id": "DOpSuDWQmUfp"
      }
    },
    {
      "cell_type": "markdown",
      "source": [
        "![image.png](data:image/png;base64,iVBORw0KGgoAAAANSUhEUgAAAKwAAABHCAIAAAAV0DvOAAAH6klEQVR4Ae1d27GsIBAkBWMgBXIgBGMgBTIgAzMggo2ABEzADMiBW3e7aorytQio61n8OIUuj5mmHYYBPCy06+cRYD+PQAMgNBI0EjQSNA6ERoJGgiokmN5XCMF775zz3ocQpmlyzjWEH4FAqU9greWcd103jqMQgnPe9/0wDEIIxtgwDI9A4ceFLCWBc26aJsaY1jqEYIzpus5aG0KQUhpjfhzfR6hfSoIQAowBRgGttVIKmnPOx3F8BAo/LmQFEqj3BRyFEK/XK4QwjmPXdT8O7lPUr0ACzjnsP8aFaZowLgghhmFoI8L3U6GUBN57KSU63jnX9z10Hsex+QQ73e+cg0MNp0pKyRiTUmKGxTknN2unklo/lZKglhw/Vc80TUop7z16Gm/RMAyMMWMMftJaM3ZR71zUzE/1cbqyjDHOOXxq5xxjTAiB4saYRoJ0JJ+acxxHxhjcKUyyGGMUYVNKESHO1rBZgrMR3qwf9h9mIISgteacU27OOUIv9OS8xDESQG6We0kpz9Pk7JoRDqmIgFIq7nUhBLnVmGdhsn22XiFj7QDxYLgwifJ575VS8H4Ti3xhNiEEpru1EIh7/X9PvL1CKG6tZYxhznUBFMcsAVaGuq6DLUgPCHrvu657riWIQyDTNJUjgKkBra3AKySHAF4hXp4LqHCYBCGE1+sFEpBnm8JWpdRzSWCMid20cgRmvT7zDxBv5ZxfMyLkkABeDHhAw9hHHgzD8FwSUFSU1MQ8njH2BxDIJEEIgYZGsmkE0B9LYC5Hbjxp92cQyCdB3tBICD4ooZRafd3/DAL5JMh2Dh7U/RCVdkgsJc9zDpb13PukiASxc0DbCO7Vp3rrr9drf02cnIPnIlBKgtg5oAho9Z64scK+7z/2LjkHD0WgAgloaMROwxs7rHrTmM3T9H2r/qcjUIEEsXMghFh60VvYff9zhIpT5CTn4IkI1CFB7BxctuyR0jeFeYQQ6eqQc5BepFC8WsWrkSB2DirGuYAszdCstTu+Os4+xEWQf7/IFpRxqHgrz+w5OQcVEZg1Mbv13pfrW5ME8dBYJeL9er2stbC04zg65z76aFpr5xxi78P7wub3fQ9/hixuZ6Hi1Tyzh9URmNW/vK2ib00SxM5B3f2lOMdC9mCJxewJjj+QDHm7dDjnGcFQcg6o9ZlsZ9wW6luZBCGEvu/jDTNVdJZSLqce5n2t1t/3fbxUH5Ngp1Rc1VaoOM6zlT4Dga228LxQ38okwPLXR6O9r9Ly1+VeK+993/dbRp5zHr+ISink3C8Vt7sVKo7zrKZPQmC1LXpYqG9NEnjvxfuqO0ucpgkOF+mMxDAMqwMEHLp4ct91HfFyq9Ss8jxf8iQEZrLNbsv1rUkCvHDpO01mymzd9n0P4xz3awhBKYXX3VprjKFfMSrTLXbp0O1Wqbh1hIozqHwSArFsy3S5vtVIgG0R1eOmSilMt7qu01qP40h2nnOOrsUciZ7T1CCE4JxDQcJuqxRlAL3IcsTP99MnIbDfKA570QHwPH3rkABvat0gCQhOrELX4owOdrlhU56UUikVz0illH3f40zPzMOH5TTGLEsR1ggVH53on4EAibSfKNQ3Z6PpUiDvPec83n21zFP9CSy21rrrupndptdi2ehOKcqcHiqmIrcgQK0X6luHBJi/xe8iyXdeQmsNr5A2foEKq94DibFVijIgsnTUpN2CAGQu17cCCWClye2K0Tw1LaVEJAezR6UUHFK4gTPbQJJslaIMGC8O+bZ3IQCZC/VFJUU+AbbMkkdGUF6QMMbA9njvjTHUbXEgfSnGVinKiQ/t0O3HxI0IQLZCfVFJPgmefpRgtYNnjuRqHnr4ZxDIJwE+U7VleAkpSiRu0KD81ycwvqY7N4UIILyR3tx5gGSSAFaIjHCKfLOYRkqRi/OQ25jSbjkCcCYOYQjB3PtKETIxTw4J0J1HV9gyUEvUoVa29FBxFQQyPuuEr1vEpxar6H6YBHkLJIhkXfbVhQxo0K8po1stBKy1OJKFDRAIiyGNpc74LzTCR0zoaGyGmqtFjpEACyS5J9P/l1sV4hsext9g25GnIgK0igH+xYSIu3+59l39Y1DHegUm/e+RID1UXBEBzjkWrPu+PxRouZkECMhnkyDe6LHztl3/E7YiprRbCwHQDmHvmAH7wwEkvIgEGK6klBm+awqULQ8dbKJhCO7IF5FgmibskUpxlAp71L6vwkoeV9wYg7UPGCGtNa2X7uhircV4BN+wVoxh0ycwxpxtvZ1zsK63BJ53sL7gJ2stjQLDMCSuXCO+RG7j6STAivt5cOCrjbfH3s9T8EE1b1oCWqXGB2pp/a2WbjTQVA991JLwd+pZJwGi6OQVnrF9lCBuJCAo7kqskwDb5SCTtXbnkCXNI+TG9dHfaSS4q++p3XUS0JfGMHJT7mUC/+sISxqrfz86L40ES1QvfrJOAnyFHR9cp8H7JMkaCU4CNr3aFRJQMAuDwv7spQ0H6Vh/bc4VEmA9A7PY+OzOqg5tOFiF5VkPV0iAmBTUoI8wW2s/ju55mjPGMk565LXVSq0isEICuPnIjWDO7LzjakVHHyJITl91oHXVo/W0/OUIrJAA/5WHqh7H8QwbsDqOUKMtcSUCKyS4svnW1jcg0EjwDb1wswyNBDd3wDc030jwDb1wswyNBDd3wDc030jwDb1wswyNBDd3wDc0/w/zVLcw8fioOgAAAABJRU5ErkJggg==)"
      ],
      "metadata": {
        "id": "T119FIPRmX_p"
      }
    },
    {
      "cell_type": "code",
      "source": [
        "pesos_avaliacoes = [15,15,30,30,10]  # Lista com os pesos de cada avaliação\n",
        "soma_pesos_avaliacoes = 100  # soma dos pesos\n",
        "print(\"Índices das avaliações:\",\n",
        "      \"\\n 1 - APOL 1,\",\n",
        "      \"\\n 2 - APOL 2,\",\n",
        "      \"\\n 3 - Prova Objetiva,\",\n",
        "      \"\\n 4 - Atividade Prática,\",\n",
        "      \"\\n 5 - Prova Discursiva \\n\")\n",
        "# orientação para o usuário\n",
        "\n",
        "listar_notas = []  # Lista com as notas de cada avaliação\n",
        "pesoXavaliacao = []  # Lista com os produtos do peso e da avaliação associada ao índice i\n",
        "num_avaliacoes = 5  # Número de avaliações\n",
        "i = 0  # Índice i que vai percorrer todas as notas\n",
        "\n",
        "for i in range(num_avaliacoes): # cada nota i dentro do número de avaliações\n",
        "   print(\"\\n Avaliação índice: \", i+1) # mensagem para usuário\n",
        "   listar_notas.append(int(input(\"Insira a nota da avaliação de acordo com o índice acima: \")))  # entrada da nota em listar_notas\n",
        "   pesoXavaliacao.append(pesos_avaliacoes[i]*listar_notas[i])  # inserir em pesoXavaliacao o resultado da multiplicação do pesoXavaliacao pela nota\n",
        "\n",
        "# Calcular a soma dos produtos em pesoXavaliacao\n",
        "somar_produtos = 0\n",
        "for k in pesoXavaliacao:  # cada entrada k em pesoXavaliacao\n",
        "    somar_produtos = somar_produtos+k  # soma das entradas de pesoXavaliacao\n",
        "\n",
        "print(\"Esta é a média ponderada das suas notas: \", somar_produtos/soma_pesos_avaliacoes) # mostra o total do produto da nota pelo peso - média final"
      ],
      "metadata": {
        "colab": {
          "base_uri": "https://localhost:8080/"
        },
        "id": "6KTMmyxHmRgk",
        "outputId": "4f4d88cf-f368-46e0-d487-8818b2ae05e9"
      },
      "execution_count": 134,
      "outputs": [
        {
          "output_type": "stream",
          "name": "stdout",
          "text": [
            "Índices das avaliações: \n",
            " 1 - APOL 1, \n",
            " 2 - APOL 2, \n",
            " 3 - Prova Objetiva, \n",
            " 4 - Atividade Prática, \n",
            " 5 - Prova Discursiva \n",
            "\n",
            "\n",
            " Avaliação índice:  1\n",
            "Insira a nota da avaliação de acordo com o índice acima: 100\n",
            "\n",
            " Avaliação índice:  2\n",
            "Insira a nota da avaliação de acordo com o índice acima: 100\n",
            "\n",
            " Avaliação índice:  3\n",
            "Insira a nota da avaliação de acordo com o índice acima: 100\n",
            "\n",
            " Avaliação índice:  4\n",
            "Insira a nota da avaliação de acordo com o índice acima: 100\n",
            "\n",
            " Avaliação índice:  5\n",
            "Insira a nota da avaliação de acordo com o índice acima: 100\n",
            "Esta é a média ponderada das suas notas:  100.0\n"
          ]
        }
      ]
    },
    {
      "cell_type": "markdown",
      "source": [
        ">Média geométrica\n",
        "\n",
        "![image.png](data:image/png;base64,iVBORw0KGgoAAAANSUhEUgAAAKMAAAAwCAIAAADy/F06AAAERklEQVR4Ae1Zf5H0IAzFAhqwgAckoAELOIiDOkABCjCAARzggW9mM5dhWvpzu3fdD/rPcZSGvPcIJCwr4+mDAdYHzIGyDKV7WQRD6aF0Lwz0gnPE9FC6FwZ6wTlieijdCwO94PzumLbWsvH8MLC9Zr9baSFESmkb4XiLDHyx0iklIcQQ8iADD1U656yU4px77/nrWeJxzllrl/2jp8nAltI/+/+Jv0qp5jRnO1NKMUbGGGrJWMNPY4z3/qzlbsc3GHwIF7Q5p5SklEuvOOc552X/6Gky8FylnXPGmFLKNE0AMAvfGONd+0eTl/+vc0dp5xznXAiB0RNjFEKgAJ/mwhjjnCulOOcYY9imSVF++reUghWX1ho70fPZV/X4ZvsP8S79uQURmd1SOudsjMk5M8amacIs6SEbplIqhEAwvPfOOe89YyzGGEK4sBwfhfcWRMRPKcd+n1ZKmddzoXhVSm1ndLVgtWfbbc55cwAuSors5pjdznfw7ho/O+AWREeVBgDO+TRNZ7380Hjv/ZqWWJvFGN+Z+lF4b0F0VGk8KR+yb+ORvLbsjDHNRD2ldPzMXsPrvQcA59xvUrGG6OxS3jqnyZbWmjF2bZv9xO4tpWyeI1iPzYrvnDPG6PFcfYkXSz5jzFlTxOG1RhPRNVP7SgNACEEIAQCzOXLOmAPHGI9HzMzI9r8hBK11bTznvHYJqrXG+5Z6UQJAjNFae1DpJt56S8CI33b7rrdNREg7nlDOOQA4ssfsKE03jlprKSVmpwgjxsg5N8ZgMfCJi8lpmqy14vUQd1RnUw826MqMc26tjTHWSxMAZkozxmY9WNEhkCVemg4AKLEPITDG6olw2Ky/ngs3ObJWSgGA5pbZRJRz1q9HKWVfTzMIa/vYXlUai6sZJCEEJTt1jialrMNuOc07PbN6mvCTTSyuyAEkTilVr/RdpXfx4nR4Y0OWZ4qSS7P+s0pvI8KYxnqylKKUWstayJ+jGVn9Abbxhwdsp5QYY82Dc/nhtR4hBMUfXeOcMrVU+tTnOHgm8wULd32itaZNlHNO4bdhfzWmN77BDYeo11qvVbfbRo6/xbAOIcQYm6n1rqn3la5lrvOA3ak/MQB/5SulhBCQ/N1Iu6g0bi/WWq21MYZU/wSqUkrOmXOutV5egu7OGELAhJlzjtnW7ifLAeiAtRZez6dX9tKBugezTjxBpmkSQsyS1nowta8onXPGZBuvSLXWy5SEJrirgaevlPJsPKHSqNBlpTG/IyO/gHeDtxgjHcxYQx7h5IrS9QrC9XXknNhw/cgrjKq/DaYjfj52zEWlpZQAYK3FQut34AHA2iXo7zjw1bNcUTrnjAX75c3wqyn7UuevKP2lUDt3eyjdywIYSg+le2GgF5wjpofSvTDQC84R00PpXhjoBeeI6aF0Lwz0gnPE9FC6FwZ6wTlieijdCwO94BwxPZTuhYFecP4DagkX+M55M+cAAAAASUVORK5CYII=)"
      ],
      "metadata": {
        "id": "XjtCi_ZXmoJ5"
      }
    },
    {
      "cell_type": "code",
      "source": [
        "def geo_mean(k):  # criar uma função que precisa de uma entrada k\n",
        "  aux = np.array(k)  # auxiliar que monta um vetor com a entrada\n",
        "  return aux.prod()**(1.0/len(aux))  # saída da função: produto dos termos do vetor aux elevado à (1/n)\n",
        "\n",
        "x=[2,4,8,16,32]  # entrada como vetor\n",
        "print(geo_mean(x))  # print que chama a função definida calculada em x"
      ],
      "metadata": {
        "colab": {
          "base_uri": "https://localhost:8080/"
        },
        "id": "kz7pX_ChmqSc",
        "outputId": "0d49712d-a57c-4c3a-d5df-886ab2370fb2"
      },
      "execution_count": 138,
      "outputs": [
        {
          "output_type": "stream",
          "name": "stdout",
          "text": [
            "8.000000000000002\n"
          ]
        }
      ]
    },
    {
      "cell_type": "markdown",
      "source": [
        ">Média harmônica\n",
        "\n",
        "![image.png](data:image/png;base64,iVBORw0KGgoAAAANSUhEUgAAAGkAAABQCAIAAACVlcwIAAAE3UlEQVR4Ae2bcfHzIAyGsYAGLOABCWjAAg5wgAMUVEENYAAHeOC763vHrytd12brvm6DP3YtJbA8C00CjJVeqAQYVbDLlc6ObgSdXWdHJ0CX7HbX2dEJ0CW73XV2dAJ0yW53nR2dAF2y293Ps4sxppSAIaU0jiMdyW7Jj7e7nLPWWkrJGEsphRCklJxzpdRuCMSGH89uGIYY4ziOjDFrbQihlOKcY+x01U4fgPibHhQDO2MM5Dq7A/wAq77y1FQOyJOafondLWBxzp1zJCAHhL6EHefcWgu9Y4yMsTe42m9gl1JijMFLlFK893AUOecDVnS86TewCyEgQIH6ePcNw6CUqm/A42QeS3wJu3k0h4jPGHMquFL6fsVj87rb4s/u2PEy/7XvjvC9D/7Yfa+OZ2nW2dHJ3rCLMQohOOcIjnLOSikhBL37r5a8YWeMyTlLKbXWpRStdYzxq9V/SrkbdujJOSeE8N4Pw0Do+6HLIfR5TZEVdos1CXzvGKNzrsbur1XmIe7/1WBbzRV2SHEWRjeOoxACc3m7x995usLOWiuEaNchlFJtZUvqoY20Ih9as2Q3jqNzzhjTxr3wv2hwdrrzfpoEjW7YxRiBDEsROWd43lIKJrLW2lpbHfH7NTxjxJyztZawRv/HTk4F6zY5Zz6V6hywVoFbO5Uz1Hh/n957KaUQ4il229/bWlsdhRBi4Um2ZS/7NKXkvSfvDf3Z3baGUkoMg8mbp7It8kFPaXtDu9jlnBljyDHqbt4en/sp+E5kl1KakyKnHJdFeSK7y+r8qi/W2dFJdnY/yQ6h+EYyh7cttr7iVPRUXrWL+Nl2h4NMCIOq/SCxYYw555ALApkxBu7+JRvYKSWtNUapQ++52BWj7OnoyTbYzOecL/JKhEfVy8/PTsz3ZMmjo8P5Z02lHvZ5FXalFCSV7RqE1rqyq4clhmH475sBF2KXc0ZeuZi59ffHPMWttdYYg3dfbfDmiwuxK6WATjtzAcU5V63SGCOEUEq9yl0QuF+LXSnFGMMYq4zmKs0PFeecX+Io5v0fvb4cOyx/zc81HVVpu/1GJNQ+etDV9uP/8hTR1vW3Ny9qd/fcBd6J+99xp/4Al2M3j+Baq6+7Au2jRU2NeBf1L7y9FjvvPef8nlnhTyc1eMZfA8bbAkMLIVhraZnWfrgXYofUYmM1H3smdTpba+f5AK7rqeMa8exncbTlhdhJKesfJOZqgBFq6vL1vMG963ksvWgTQuCcCyFg4zjEtDr6QnB+exV22FBvZ2tKqR74jzFyzuu335izaHOPXd07ZYx573Hcqx26DnTv4hLsoGQbXtUa5LPe+7pXh/z3yTmrlDJTqe/Qe5hW6y/BTilVMa1egJ3WGqo+zCiQdSBFwR/OVpV3znHO6wt0tc1G5SXYbXy/+aMQglJqw5nUxghlqlXOHUhtU0qB82ln6zCVecvV609it6rAM5VY8mytOITQVrYD/S47rEW3J77cVFpSbc2PskPwjHPBUkp4XtDZf8T659hhEb+GcnDxQoia+eIIXWtlbc3PsWsRLGqUUju3LDq7BbqCLaQ9EV9nd8MOUxibITcP1m46uyUV732fs0soL7/vdkdH2tl1dnQCdMlud50dnQBdsttdZ0cnQJfsdtfZ0QnQJbvddXZ0AnTJfxaW0ewpvtLJAAAAAElFTkSuQmCC)"
      ],
      "metadata": {
        "id": "Mdq-pLMJnrNH"
      }
    },
    {
      "cell_type": "code",
      "source": [
        "x = [1,1/2,1/3,1/4,1/5]  # entrada como vetor\n",
        "n = 5  # quantidade de termos do vetor\n",
        "\n",
        "def soma_inv(k):  # criar uma função que precisa de uma entrada k\n",
        "  aux = 1/np.array(k)  # auxiliar que monta um vetor com o valor inverso da entrada\n",
        "  return aux.sum()  # saída da função: soma dos termos do vetor aux\n",
        "\n",
        "print(n/soma_inv(x))  # print que divide n pela função calculada em x"
      ],
      "metadata": {
        "colab": {
          "base_uri": "https://localhost:8080/"
        },
        "id": "AU_OtJbgnT2E",
        "outputId": "e73f2ee7-302c-4f63-f1e1-2a1dbb1404ff"
      },
      "execution_count": 62,
      "outputs": [
        {
          "output_type": "stream",
          "name": "stdout",
          "text": [
            "0.3333333333333333\n"
          ]
        }
      ]
    },
    {
      "cell_type": "code",
      "source": [
        "import statistics\n",
        "\n",
        "statistics.harmonic_mean(x)"
      ],
      "metadata": {
        "colab": {
          "base_uri": "https://localhost:8080/"
        },
        "id": "iPeC-JdRnv-L",
        "outputId": "7a553819-5dde-44c2-931b-73f056e7e43e"
      },
      "execution_count": 65,
      "outputs": [
        {
          "output_type": "execute_result",
          "data": {
            "text/plain": [
              "0.3333333333333333"
            ]
          },
          "metadata": {},
          "execution_count": 65
        }
      ]
    },
    {
      "cell_type": "markdown",
      "source": [
        "# Medidas de Tendência Central: Dados Descritivos"
      ],
      "metadata": {
        "id": "MN-rZv80oZSz"
      }
    },
    {
      "cell_type": "markdown",
      "source": [
        "> Mediana, média e moda"
      ],
      "metadata": {
        "id": "y9zkXZc-oWd8"
      }
    },
    {
      "cell_type": "code",
      "source": [
        "df.Education.mode()   # moda"
      ],
      "metadata": {
        "id": "Cct6haVPoQaz"
      },
      "execution_count": null,
      "outputs": []
    },
    {
      "cell_type": "code",
      "source": [
        "# np.mean(df.Education)  #  NÃO FUNCIONA!!!\n",
        "k=df.Education.value_counts()\n",
        "np.mean(k)  # essa média não existe!!!"
      ],
      "metadata": {
        "colab": {
          "base_uri": "https://localhost:8080/"
        },
        "id": "bYhSqf5Koch8",
        "outputId": "78a1f644-d078-4e48-8af4-db3eddd4be06"
      },
      "execution_count": 142,
      "outputs": [
        {
          "output_type": "execute_result",
          "data": {
            "text/plain": [
              "1551.0"
            ]
          },
          "metadata": {},
          "execution_count": 142
        }
      ]
    },
    {
      "cell_type": "code",
      "source": [
        "df.groupby('Education').agg({\"Age\": \"mean\"})  # agrupa dados por Education agregando pela Age média"
      ],
      "metadata": {
        "colab": {
          "base_uri": "https://localhost:8080/",
          "height": 175
        },
        "id": "Zy0bIo04oez_",
        "outputId": "1c98e31a-1a85-45b5-eb37-4a3dc063012c"
      },
      "execution_count": 143,
      "outputs": [
        {
          "output_type": "execute_result",
          "data": {
            "text/plain": [
              "                 Age\n",
              "Education           \n",
              "Bachelors  29.422938\n",
              "Masters    29.290951\n",
              "PHD        29.296089"
            ],
            "text/html": [
              "\n",
              "  <div id=\"df-89a1e8d2-e531-4f34-91f7-c7546a4c1f03\" class=\"colab-df-container\">\n",
              "    <div>\n",
              "<style scoped>\n",
              "    .dataframe tbody tr th:only-of-type {\n",
              "        vertical-align: middle;\n",
              "    }\n",
              "\n",
              "    .dataframe tbody tr th {\n",
              "        vertical-align: top;\n",
              "    }\n",
              "\n",
              "    .dataframe thead th {\n",
              "        text-align: right;\n",
              "    }\n",
              "</style>\n",
              "<table border=\"1\" class=\"dataframe\">\n",
              "  <thead>\n",
              "    <tr style=\"text-align: right;\">\n",
              "      <th></th>\n",
              "      <th>Age</th>\n",
              "    </tr>\n",
              "    <tr>\n",
              "      <th>Education</th>\n",
              "      <th></th>\n",
              "    </tr>\n",
              "  </thead>\n",
              "  <tbody>\n",
              "    <tr>\n",
              "      <th>Bachelors</th>\n",
              "      <td>29.422938</td>\n",
              "    </tr>\n",
              "    <tr>\n",
              "      <th>Masters</th>\n",
              "      <td>29.290951</td>\n",
              "    </tr>\n",
              "    <tr>\n",
              "      <th>PHD</th>\n",
              "      <td>29.296089</td>\n",
              "    </tr>\n",
              "  </tbody>\n",
              "</table>\n",
              "</div>\n",
              "    <div class=\"colab-df-buttons\">\n",
              "\n",
              "  <div class=\"colab-df-container\">\n",
              "    <button class=\"colab-df-convert\" onclick=\"convertToInteractive('df-89a1e8d2-e531-4f34-91f7-c7546a4c1f03')\"\n",
              "            title=\"Convert this dataframe to an interactive table.\"\n",
              "            style=\"display:none;\">\n",
              "\n",
              "  <svg xmlns=\"http://www.w3.org/2000/svg\" height=\"24px\" viewBox=\"0 -960 960 960\">\n",
              "    <path d=\"M120-120v-720h720v720H120Zm60-500h600v-160H180v160Zm220 220h160v-160H400v160Zm0 220h160v-160H400v160ZM180-400h160v-160H180v160Zm440 0h160v-160H620v160ZM180-180h160v-160H180v160Zm440 0h160v-160H620v160Z\"/>\n",
              "  </svg>\n",
              "    </button>\n",
              "\n",
              "  <style>\n",
              "    .colab-df-container {\n",
              "      display:flex;\n",
              "      gap: 12px;\n",
              "    }\n",
              "\n",
              "    .colab-df-convert {\n",
              "      background-color: #E8F0FE;\n",
              "      border: none;\n",
              "      border-radius: 50%;\n",
              "      cursor: pointer;\n",
              "      display: none;\n",
              "      fill: #1967D2;\n",
              "      height: 32px;\n",
              "      padding: 0 0 0 0;\n",
              "      width: 32px;\n",
              "    }\n",
              "\n",
              "    .colab-df-convert:hover {\n",
              "      background-color: #E2EBFA;\n",
              "      box-shadow: 0px 1px 2px rgba(60, 64, 67, 0.3), 0px 1px 3px 1px rgba(60, 64, 67, 0.15);\n",
              "      fill: #174EA6;\n",
              "    }\n",
              "\n",
              "    .colab-df-buttons div {\n",
              "      margin-bottom: 4px;\n",
              "    }\n",
              "\n",
              "    [theme=dark] .colab-df-convert {\n",
              "      background-color: #3B4455;\n",
              "      fill: #D2E3FC;\n",
              "    }\n",
              "\n",
              "    [theme=dark] .colab-df-convert:hover {\n",
              "      background-color: #434B5C;\n",
              "      box-shadow: 0px 1px 3px 1px rgba(0, 0, 0, 0.15);\n",
              "      filter: drop-shadow(0px 1px 2px rgba(0, 0, 0, 0.3));\n",
              "      fill: #FFFFFF;\n",
              "    }\n",
              "  </style>\n",
              "\n",
              "    <script>\n",
              "      const buttonEl =\n",
              "        document.querySelector('#df-89a1e8d2-e531-4f34-91f7-c7546a4c1f03 button.colab-df-convert');\n",
              "      buttonEl.style.display =\n",
              "        google.colab.kernel.accessAllowed ? 'block' : 'none';\n",
              "\n",
              "      async function convertToInteractive(key) {\n",
              "        const element = document.querySelector('#df-89a1e8d2-e531-4f34-91f7-c7546a4c1f03');\n",
              "        const dataTable =\n",
              "          await google.colab.kernel.invokeFunction('convertToInteractive',\n",
              "                                                    [key], {});\n",
              "        if (!dataTable) return;\n",
              "\n",
              "        const docLinkHtml = 'Like what you see? Visit the ' +\n",
              "          '<a target=\"_blank\" href=https://colab.research.google.com/notebooks/data_table.ipynb>data table notebook</a>'\n",
              "          + ' to learn more about interactive tables.';\n",
              "        element.innerHTML = '';\n",
              "        dataTable['output_type'] = 'display_data';\n",
              "        await google.colab.output.renderOutput(dataTable, element);\n",
              "        const docLink = document.createElement('div');\n",
              "        docLink.innerHTML = docLinkHtml;\n",
              "        element.appendChild(docLink);\n",
              "      }\n",
              "    </script>\n",
              "  </div>\n",
              "\n",
              "\n",
              "<div id=\"df-419adf25-ef50-4057-bf58-f3af1beba86a\">\n",
              "  <button class=\"colab-df-quickchart\" onclick=\"quickchart('df-419adf25-ef50-4057-bf58-f3af1beba86a')\"\n",
              "            title=\"Suggest charts.\"\n",
              "            style=\"display:none;\">\n",
              "\n",
              "<svg xmlns=\"http://www.w3.org/2000/svg\" height=\"24px\"viewBox=\"0 0 24 24\"\n",
              "     width=\"24px\">\n",
              "    <g>\n",
              "        <path d=\"M19 3H5c-1.1 0-2 .9-2 2v14c0 1.1.9 2 2 2h14c1.1 0 2-.9 2-2V5c0-1.1-.9-2-2-2zM9 17H7v-7h2v7zm4 0h-2V7h2v10zm4 0h-2v-4h2v4z\"/>\n",
              "    </g>\n",
              "</svg>\n",
              "  </button>\n",
              "\n",
              "<style>\n",
              "  .colab-df-quickchart {\n",
              "      --bg-color: #E8F0FE;\n",
              "      --fill-color: #1967D2;\n",
              "      --hover-bg-color: #E2EBFA;\n",
              "      --hover-fill-color: #174EA6;\n",
              "      --disabled-fill-color: #AAA;\n",
              "      --disabled-bg-color: #DDD;\n",
              "  }\n",
              "\n",
              "  [theme=dark] .colab-df-quickchart {\n",
              "      --bg-color: #3B4455;\n",
              "      --fill-color: #D2E3FC;\n",
              "      --hover-bg-color: #434B5C;\n",
              "      --hover-fill-color: #FFFFFF;\n",
              "      --disabled-bg-color: #3B4455;\n",
              "      --disabled-fill-color: #666;\n",
              "  }\n",
              "\n",
              "  .colab-df-quickchart {\n",
              "    background-color: var(--bg-color);\n",
              "    border: none;\n",
              "    border-radius: 50%;\n",
              "    cursor: pointer;\n",
              "    display: none;\n",
              "    fill: var(--fill-color);\n",
              "    height: 32px;\n",
              "    padding: 0;\n",
              "    width: 32px;\n",
              "  }\n",
              "\n",
              "  .colab-df-quickchart:hover {\n",
              "    background-color: var(--hover-bg-color);\n",
              "    box-shadow: 0 1px 2px rgba(60, 64, 67, 0.3), 0 1px 3px 1px rgba(60, 64, 67, 0.15);\n",
              "    fill: var(--button-hover-fill-color);\n",
              "  }\n",
              "\n",
              "  .colab-df-quickchart-complete:disabled,\n",
              "  .colab-df-quickchart-complete:disabled:hover {\n",
              "    background-color: var(--disabled-bg-color);\n",
              "    fill: var(--disabled-fill-color);\n",
              "    box-shadow: none;\n",
              "  }\n",
              "\n",
              "  .colab-df-spinner {\n",
              "    border: 2px solid var(--fill-color);\n",
              "    border-color: transparent;\n",
              "    border-bottom-color: var(--fill-color);\n",
              "    animation:\n",
              "      spin 1s steps(1) infinite;\n",
              "  }\n",
              "\n",
              "  @keyframes spin {\n",
              "    0% {\n",
              "      border-color: transparent;\n",
              "      border-bottom-color: var(--fill-color);\n",
              "      border-left-color: var(--fill-color);\n",
              "    }\n",
              "    20% {\n",
              "      border-color: transparent;\n",
              "      border-left-color: var(--fill-color);\n",
              "      border-top-color: var(--fill-color);\n",
              "    }\n",
              "    30% {\n",
              "      border-color: transparent;\n",
              "      border-left-color: var(--fill-color);\n",
              "      border-top-color: var(--fill-color);\n",
              "      border-right-color: var(--fill-color);\n",
              "    }\n",
              "    40% {\n",
              "      border-color: transparent;\n",
              "      border-right-color: var(--fill-color);\n",
              "      border-top-color: var(--fill-color);\n",
              "    }\n",
              "    60% {\n",
              "      border-color: transparent;\n",
              "      border-right-color: var(--fill-color);\n",
              "    }\n",
              "    80% {\n",
              "      border-color: transparent;\n",
              "      border-right-color: var(--fill-color);\n",
              "      border-bottom-color: var(--fill-color);\n",
              "    }\n",
              "    90% {\n",
              "      border-color: transparent;\n",
              "      border-bottom-color: var(--fill-color);\n",
              "    }\n",
              "  }\n",
              "</style>\n",
              "\n",
              "  <script>\n",
              "    async function quickchart(key) {\n",
              "      const quickchartButtonEl =\n",
              "        document.querySelector('#' + key + ' button');\n",
              "      quickchartButtonEl.disabled = true;  // To prevent multiple clicks.\n",
              "      quickchartButtonEl.classList.add('colab-df-spinner');\n",
              "      try {\n",
              "        const charts = await google.colab.kernel.invokeFunction(\n",
              "            'suggestCharts', [key], {});\n",
              "      } catch (error) {\n",
              "        console.error('Error during call to suggestCharts:', error);\n",
              "      }\n",
              "      quickchartButtonEl.classList.remove('colab-df-spinner');\n",
              "      quickchartButtonEl.classList.add('colab-df-quickchart-complete');\n",
              "    }\n",
              "    (() => {\n",
              "      let quickchartButtonEl =\n",
              "        document.querySelector('#df-419adf25-ef50-4057-bf58-f3af1beba86a button');\n",
              "      quickchartButtonEl.style.display =\n",
              "        google.colab.kernel.accessAllowed ? 'block' : 'none';\n",
              "    })();\n",
              "  </script>\n",
              "</div>\n",
              "    </div>\n",
              "  </div>\n"
            ]
          },
          "metadata": {},
          "execution_count": 143
        }
      ]
    },
    {
      "cell_type": "code",
      "source": [
        "df.groupby('Education').agg({\"Age\": \"median\"})  # agrupa dados por Education agregando pela mediana das Age"
      ],
      "metadata": {
        "colab": {
          "base_uri": "https://localhost:8080/",
          "height": 175
        },
        "id": "oCbvLtqUogWm",
        "outputId": "0cd5df22-0c6b-43f0-9417-478723c82688"
      },
      "execution_count": 144,
      "outputs": [
        {
          "output_type": "execute_result",
          "data": {
            "text/plain": [
              "            Age\n",
              "Education      \n",
              "Bachelors  28.0\n",
              "Masters    28.0\n",
              "PHD        28.0"
            ],
            "text/html": [
              "\n",
              "  <div id=\"df-6453a36a-7e16-4cb5-9147-34b64bb65b4e\" class=\"colab-df-container\">\n",
              "    <div>\n",
              "<style scoped>\n",
              "    .dataframe tbody tr th:only-of-type {\n",
              "        vertical-align: middle;\n",
              "    }\n",
              "\n",
              "    .dataframe tbody tr th {\n",
              "        vertical-align: top;\n",
              "    }\n",
              "\n",
              "    .dataframe thead th {\n",
              "        text-align: right;\n",
              "    }\n",
              "</style>\n",
              "<table border=\"1\" class=\"dataframe\">\n",
              "  <thead>\n",
              "    <tr style=\"text-align: right;\">\n",
              "      <th></th>\n",
              "      <th>Age</th>\n",
              "    </tr>\n",
              "    <tr>\n",
              "      <th>Education</th>\n",
              "      <th></th>\n",
              "    </tr>\n",
              "  </thead>\n",
              "  <tbody>\n",
              "    <tr>\n",
              "      <th>Bachelors</th>\n",
              "      <td>28.0</td>\n",
              "    </tr>\n",
              "    <tr>\n",
              "      <th>Masters</th>\n",
              "      <td>28.0</td>\n",
              "    </tr>\n",
              "    <tr>\n",
              "      <th>PHD</th>\n",
              "      <td>28.0</td>\n",
              "    </tr>\n",
              "  </tbody>\n",
              "</table>\n",
              "</div>\n",
              "    <div class=\"colab-df-buttons\">\n",
              "\n",
              "  <div class=\"colab-df-container\">\n",
              "    <button class=\"colab-df-convert\" onclick=\"convertToInteractive('df-6453a36a-7e16-4cb5-9147-34b64bb65b4e')\"\n",
              "            title=\"Convert this dataframe to an interactive table.\"\n",
              "            style=\"display:none;\">\n",
              "\n",
              "  <svg xmlns=\"http://www.w3.org/2000/svg\" height=\"24px\" viewBox=\"0 -960 960 960\">\n",
              "    <path d=\"M120-120v-720h720v720H120Zm60-500h600v-160H180v160Zm220 220h160v-160H400v160Zm0 220h160v-160H400v160ZM180-400h160v-160H180v160Zm440 0h160v-160H620v160ZM180-180h160v-160H180v160Zm440 0h160v-160H620v160Z\"/>\n",
              "  </svg>\n",
              "    </button>\n",
              "\n",
              "  <style>\n",
              "    .colab-df-container {\n",
              "      display:flex;\n",
              "      gap: 12px;\n",
              "    }\n",
              "\n",
              "    .colab-df-convert {\n",
              "      background-color: #E8F0FE;\n",
              "      border: none;\n",
              "      border-radius: 50%;\n",
              "      cursor: pointer;\n",
              "      display: none;\n",
              "      fill: #1967D2;\n",
              "      height: 32px;\n",
              "      padding: 0 0 0 0;\n",
              "      width: 32px;\n",
              "    }\n",
              "\n",
              "    .colab-df-convert:hover {\n",
              "      background-color: #E2EBFA;\n",
              "      box-shadow: 0px 1px 2px rgba(60, 64, 67, 0.3), 0px 1px 3px 1px rgba(60, 64, 67, 0.15);\n",
              "      fill: #174EA6;\n",
              "    }\n",
              "\n",
              "    .colab-df-buttons div {\n",
              "      margin-bottom: 4px;\n",
              "    }\n",
              "\n",
              "    [theme=dark] .colab-df-convert {\n",
              "      background-color: #3B4455;\n",
              "      fill: #D2E3FC;\n",
              "    }\n",
              "\n",
              "    [theme=dark] .colab-df-convert:hover {\n",
              "      background-color: #434B5C;\n",
              "      box-shadow: 0px 1px 3px 1px rgba(0, 0, 0, 0.15);\n",
              "      filter: drop-shadow(0px 1px 2px rgba(0, 0, 0, 0.3));\n",
              "      fill: #FFFFFF;\n",
              "    }\n",
              "  </style>\n",
              "\n",
              "    <script>\n",
              "      const buttonEl =\n",
              "        document.querySelector('#df-6453a36a-7e16-4cb5-9147-34b64bb65b4e button.colab-df-convert');\n",
              "      buttonEl.style.display =\n",
              "        google.colab.kernel.accessAllowed ? 'block' : 'none';\n",
              "\n",
              "      async function convertToInteractive(key) {\n",
              "        const element = document.querySelector('#df-6453a36a-7e16-4cb5-9147-34b64bb65b4e');\n",
              "        const dataTable =\n",
              "          await google.colab.kernel.invokeFunction('convertToInteractive',\n",
              "                                                    [key], {});\n",
              "        if (!dataTable) return;\n",
              "\n",
              "        const docLinkHtml = 'Like what you see? Visit the ' +\n",
              "          '<a target=\"_blank\" href=https://colab.research.google.com/notebooks/data_table.ipynb>data table notebook</a>'\n",
              "          + ' to learn more about interactive tables.';\n",
              "        element.innerHTML = '';\n",
              "        dataTable['output_type'] = 'display_data';\n",
              "        await google.colab.output.renderOutput(dataTable, element);\n",
              "        const docLink = document.createElement('div');\n",
              "        docLink.innerHTML = docLinkHtml;\n",
              "        element.appendChild(docLink);\n",
              "      }\n",
              "    </script>\n",
              "  </div>\n",
              "\n",
              "\n",
              "<div id=\"df-abec8e2e-3b9d-411a-932a-5c05516a5d1a\">\n",
              "  <button class=\"colab-df-quickchart\" onclick=\"quickchart('df-abec8e2e-3b9d-411a-932a-5c05516a5d1a')\"\n",
              "            title=\"Suggest charts.\"\n",
              "            style=\"display:none;\">\n",
              "\n",
              "<svg xmlns=\"http://www.w3.org/2000/svg\" height=\"24px\"viewBox=\"0 0 24 24\"\n",
              "     width=\"24px\">\n",
              "    <g>\n",
              "        <path d=\"M19 3H5c-1.1 0-2 .9-2 2v14c0 1.1.9 2 2 2h14c1.1 0 2-.9 2-2V5c0-1.1-.9-2-2-2zM9 17H7v-7h2v7zm4 0h-2V7h2v10zm4 0h-2v-4h2v4z\"/>\n",
              "    </g>\n",
              "</svg>\n",
              "  </button>\n",
              "\n",
              "<style>\n",
              "  .colab-df-quickchart {\n",
              "      --bg-color: #E8F0FE;\n",
              "      --fill-color: #1967D2;\n",
              "      --hover-bg-color: #E2EBFA;\n",
              "      --hover-fill-color: #174EA6;\n",
              "      --disabled-fill-color: #AAA;\n",
              "      --disabled-bg-color: #DDD;\n",
              "  }\n",
              "\n",
              "  [theme=dark] .colab-df-quickchart {\n",
              "      --bg-color: #3B4455;\n",
              "      --fill-color: #D2E3FC;\n",
              "      --hover-bg-color: #434B5C;\n",
              "      --hover-fill-color: #FFFFFF;\n",
              "      --disabled-bg-color: #3B4455;\n",
              "      --disabled-fill-color: #666;\n",
              "  }\n",
              "\n",
              "  .colab-df-quickchart {\n",
              "    background-color: var(--bg-color);\n",
              "    border: none;\n",
              "    border-radius: 50%;\n",
              "    cursor: pointer;\n",
              "    display: none;\n",
              "    fill: var(--fill-color);\n",
              "    height: 32px;\n",
              "    padding: 0;\n",
              "    width: 32px;\n",
              "  }\n",
              "\n",
              "  .colab-df-quickchart:hover {\n",
              "    background-color: var(--hover-bg-color);\n",
              "    box-shadow: 0 1px 2px rgba(60, 64, 67, 0.3), 0 1px 3px 1px rgba(60, 64, 67, 0.15);\n",
              "    fill: var(--button-hover-fill-color);\n",
              "  }\n",
              "\n",
              "  .colab-df-quickchart-complete:disabled,\n",
              "  .colab-df-quickchart-complete:disabled:hover {\n",
              "    background-color: var(--disabled-bg-color);\n",
              "    fill: var(--disabled-fill-color);\n",
              "    box-shadow: none;\n",
              "  }\n",
              "\n",
              "  .colab-df-spinner {\n",
              "    border: 2px solid var(--fill-color);\n",
              "    border-color: transparent;\n",
              "    border-bottom-color: var(--fill-color);\n",
              "    animation:\n",
              "      spin 1s steps(1) infinite;\n",
              "  }\n",
              "\n",
              "  @keyframes spin {\n",
              "    0% {\n",
              "      border-color: transparent;\n",
              "      border-bottom-color: var(--fill-color);\n",
              "      border-left-color: var(--fill-color);\n",
              "    }\n",
              "    20% {\n",
              "      border-color: transparent;\n",
              "      border-left-color: var(--fill-color);\n",
              "      border-top-color: var(--fill-color);\n",
              "    }\n",
              "    30% {\n",
              "      border-color: transparent;\n",
              "      border-left-color: var(--fill-color);\n",
              "      border-top-color: var(--fill-color);\n",
              "      border-right-color: var(--fill-color);\n",
              "    }\n",
              "    40% {\n",
              "      border-color: transparent;\n",
              "      border-right-color: var(--fill-color);\n",
              "      border-top-color: var(--fill-color);\n",
              "    }\n",
              "    60% {\n",
              "      border-color: transparent;\n",
              "      border-right-color: var(--fill-color);\n",
              "    }\n",
              "    80% {\n",
              "      border-color: transparent;\n",
              "      border-right-color: var(--fill-color);\n",
              "      border-bottom-color: var(--fill-color);\n",
              "    }\n",
              "    90% {\n",
              "      border-color: transparent;\n",
              "      border-bottom-color: var(--fill-color);\n",
              "    }\n",
              "  }\n",
              "</style>\n",
              "\n",
              "  <script>\n",
              "    async function quickchart(key) {\n",
              "      const quickchartButtonEl =\n",
              "        document.querySelector('#' + key + ' button');\n",
              "      quickchartButtonEl.disabled = true;  // To prevent multiple clicks.\n",
              "      quickchartButtonEl.classList.add('colab-df-spinner');\n",
              "      try {\n",
              "        const charts = await google.colab.kernel.invokeFunction(\n",
              "            'suggestCharts', [key], {});\n",
              "      } catch (error) {\n",
              "        console.error('Error during call to suggestCharts:', error);\n",
              "      }\n",
              "      quickchartButtonEl.classList.remove('colab-df-spinner');\n",
              "      quickchartButtonEl.classList.add('colab-df-quickchart-complete');\n",
              "    }\n",
              "    (() => {\n",
              "      let quickchartButtonEl =\n",
              "        document.querySelector('#df-abec8e2e-3b9d-411a-932a-5c05516a5d1a button');\n",
              "      quickchartButtonEl.style.display =\n",
              "        google.colab.kernel.accessAllowed ? 'block' : 'none';\n",
              "    })();\n",
              "  </script>\n",
              "</div>\n",
              "    </div>\n",
              "  </div>\n"
            ]
          },
          "metadata": {},
          "execution_count": 144
        }
      ]
    },
    {
      "cell_type": "code",
      "source": [
        "tabela = df.groupby(['Gender','Education']).agg({'Age': np.mean})  # agrupa: Education / Gender / idade média\n",
        "#tabela.reset_index(inplace=True)  # preenche todas as linhas da coluna\n",
        "print(tabela)"
      ],
      "metadata": {
        "colab": {
          "base_uri": "https://localhost:8080/"
        },
        "id": "FpVrVHouoiBa",
        "outputId": "bd48a505-1eb1-4518-c2f8-4e96effbf04c"
      },
      "execution_count": 147,
      "outputs": [
        {
          "output_type": "stream",
          "name": "stdout",
          "text": [
            "   Gender  Education        Age\n",
            "0  Female  Bachelors  29.396516\n",
            "1  Female    Masters  29.490566\n",
            "2  Female        PHD  29.420290\n",
            "3    Male  Bachelors  29.440443\n",
            "4    Male    Masters  29.143426\n",
            "5    Male        PHD  29.218182\n"
          ]
        }
      ]
    },
    {
      "cell_type": "markdown",
      "source": [
        "#Quartil\n",
        "\n",
        "![image.png](data:image/png;base64,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)"
      ],
      "metadata": {
        "id": "D8ll-Pjyoj0G"
      }
    },
    {
      "cell_type": "code",
      "source": [
        "dfo = sorted(df.V8005)  # ordena a coluna analisada\n",
        "n=len(dfo)  # tamanho da coluna\n",
        "\n",
        "Q1=int((n+3)/4)  # fórmula posição primeiro quartil\n",
        "Q3=int((3*n+1)/4)  # fórmula posição terceiro quartil\n",
        "\n",
        "print(\"A posição do primeiro quartil é: \", Q1, \"e do terceiro quartil é: \" ,Q3)  # aqui encontramos a posição\n",
        "print(\"O valor do primeiro quartil é: \", dfo[Q1], \"e do terceiro quartil é: \", dfo[Q3])  # aqui encontramos o valor associado àquela posição"
      ],
      "metadata": {
        "id": "k1cRBwnNokt4"
      },
      "execution_count": null,
      "outputs": []
    },
    {
      "cell_type": "code",
      "source": [
        "print(\"O valor de Q1 é: \", np.quantile(df.V8005, .99))   # usa a função da np para encontrar o valor do quartil\n",
        "print(\"O valor de Q3 é: : \", np.quantile(df.V8005, .75))  # usa a função da np para encontrar o valor do quartil\n",
        "import matplotlib.pyplot as plt\n",
        "plt.hist(x=df.V8005)\n",
        "plt.show()"
      ],
      "metadata": {
        "id": "yg9mAD4gorcK"
      },
      "execution_count": null,
      "outputs": []
    },
    {
      "cell_type": "markdown",
      "source": [
        ">Intervalo Interquartil"
      ],
      "metadata": {
        "id": "2Tsx2NoAothH"
      }
    },
    {
      "cell_type": "code",
      "source": [
        "k = Q3-Q1  # fórmula\n",
        "print(\"A posição do primeiro quartil é: \", Q1, \"e do terceiro quartil é: \" ,Q3,\n",
        "      \"\\n Portanto o intervalo interquartil é: \", k)"
      ],
      "metadata": {
        "id": "-TBmE9ivou6T"
      },
      "execution_count": null,
      "outputs": []
    },
    {
      "cell_type": "markdown",
      "source": [
        "#Percentil\n",
        "\n",
        "![image.png](data:image/png;base64,iVBORw0KGgoAAAANSUhEUgAAAJAAAAAzCAIAAAD3rBavAAAE90lEQVR4Ae1bbbHkKhDFQmvAAh6QgAYs4AAHOIiCKMBADMQBHnhVc6q62JAwCZO7O3kXfkwRQkPTh/6gw4g8yqMkIB7F7WA2D8AetgkGYAOwh0ngYewODRuAPUwCD2N3aNjfACzGmFLCTMurdM86AOsW3SnCZVm01vJVUkrWWq21EMI5d4q+6jQAq0Rya0MIIaXkvSci59yyLDlna60QnZLvJLt1Uf//wbz3Qoh5nrFUPPYtewDWJ7drVPpVmGYAxqL40goRhRCYOWOMlJIfL1WGhl0SV0/nZVmEEDFGEKeURtDRI8e/RjNNUwkYApB1XfsYGBrWJ7cLVM45IYS1NsYI7zVN0wX6P7sOwP6Uxw88KaWcc957rbW1FpF99zxvAIP9/WRH9HGG5fXR3kLlvTfGfChccCKEuFGAbwCD/b2F75NyTClhS57sf0s35CC89+VoMUYi+lDWMcbSgZXj99XfANY36CdUWuvutE0573kdRRQghNgAlnOGgflkv4YQhBCcSCw57Kt/F2DTNBHRLcs7CZhzDjq0C1jO2Tmnte4Tbs45hADX1T3ChrAFmHiVW/b7ZtajR6WUtZbfppQQYhljcs6Ak4g4x8M968pJwJjwCLB1XYUQnygZT3FLpQXYPM/3Osw2xxBNCYZzrgyFkSxQSp3Z8ncBlnOWUtbWsr2Wn3vbAgwOs+OIB9Vs/O6u58g/w8ewyDZ5ud2hcs43AnZyxiNO7m1vAQZJ3TtfYzT457qDMaZ0bPhOUXcD3o1d0tbLI5OYc24D1pjxk1f1AtHSAswY017k0aB97Uc57BKh2mwezfUbNYyI2BAdyWW3/e3O2qXa1TAgxIchnAvPhJG/DrBNjjnnHGPE99N1Xb33ZXSwC8DVxl0fhsCHgzRrrVLqzMi/DjAWXwhhehV8xQkhGGMQbbMcz0jwbZ+NMqG/c46ImFZrrZRKKSHQ5/a6cgkwfPI4sv+lpYFY+gxPzWRHy6EPSylJKZlXxIpSSj4n3ZtxAeubc1jt8GEStdZv98pJwKZpwq0YmHEp5Qa2TbLjLWDpVXaRiK+y+yqlFGN8u6icr9ythwbAf2BLnplgl7+jxhszHUdTXG3HPaeTVCEEIuJvlUy1LIuUUikFHWCXjA5YtdaaiKSUbakeahhPxhVsRjx677s/cvOAu5W7com7g19t3KhXgzzGqF6lNjwpJSJiy4RTCp9uobKAEFat7aQvAIaZvPfWWiJqb4TG2tqvkK3/h06C2buUrffew6zVgMGMM0IIo/iKh7W23Ppvg4MLgOEmifcesSIv7CcqJz3QT0yNMfu+h3GkVjJmjNncQhRCcNBERKXXxAgMZzkO6mcBg3HYGN96uF/esgsYIttSMkIIBmlzIQcjNAzMWcCQhB2AlXKv60eAMTwg2QBWwnMbYDVzo6WWwACslslXtxwBVvsw1rlS25BOaqShr53DvlpU38HcLmD46wPnP3GEZTOI8xmzjxiyPslxh7M+jAlGpSGBXcAQ1rP7xyMfigAnB/04MjWmGIA1hHPtFf5WhJCd9QlDKKVws2Ge5/JrUc55XVciUkoht17+yWV3+gHYrlguN+KuDj514re8CwMs0c6qxnOs64oEmDGmYQzRfwDGcntGZQD2DJyYywEYi+IZlQHYM3BiLgdgLIpnVAZgz8CJuRyAsSieURmAPQMn5nIAxqJ4RuU/sSSA4yU4CvEAAAAASUVORK5CYII=)"
      ],
      "metadata": {
        "id": "8tv4GCfioxTS"
      }
    },
    {
      "cell_type": "code",
      "source": [
        "n=len(dfo)  # tamanho da coluna\n",
        "p=int(input(\"Qual percentil quer calcular? \"))  # entrada informada pelo usuário\n",
        "\n",
        "ip=int((n+1)*p/100)  # fórmula posição percentil\n",
        "\n",
        "print(\"A posição do percentil é: \", ip, \"e o valor do percentil é: \" ,dfo[ip])  # dada a posição, informa o dado referente"
      ],
      "metadata": {
        "colab": {
          "base_uri": "https://localhost:8080/",
          "height": 245
        },
        "id": "o4toY5mKoz_b",
        "outputId": "9f269360-915c-4e81-99c1-81e0bb6e7caf"
      },
      "execution_count": 67,
      "outputs": [
        {
          "output_type": "error",
          "ename": "NameError",
          "evalue": "ignored",
          "traceback": [
            "\u001b[0;31m---------------------------------------------------------------------------\u001b[0m",
            "\u001b[0;31mNameError\u001b[0m                                 Traceback (most recent call last)",
            "\u001b[0;32m<ipython-input-67-d7be49d2a7d0>\u001b[0m in \u001b[0;36m<cell line: 1>\u001b[0;34m()\u001b[0m\n\u001b[0;32m----> 1\u001b[0;31m \u001b[0mn\u001b[0m\u001b[0;34m=\u001b[0m\u001b[0mlen\u001b[0m\u001b[0;34m(\u001b[0m\u001b[0mdfo\u001b[0m\u001b[0;34m)\u001b[0m  \u001b[0;31m# tamanho da coluna\u001b[0m\u001b[0;34m\u001b[0m\u001b[0;34m\u001b[0m\u001b[0m\n\u001b[0m\u001b[1;32m      2\u001b[0m \u001b[0mp\u001b[0m\u001b[0;34m=\u001b[0m\u001b[0mint\u001b[0m\u001b[0;34m(\u001b[0m\u001b[0minput\u001b[0m\u001b[0;34m(\u001b[0m\u001b[0;34m\"Qual percentil quer calcular? \"\u001b[0m\u001b[0;34m)\u001b[0m\u001b[0;34m)\u001b[0m  \u001b[0;31m# entrada informada pelo usuário\u001b[0m\u001b[0;34m\u001b[0m\u001b[0;34m\u001b[0m\u001b[0m\n\u001b[1;32m      3\u001b[0m \u001b[0;34m\u001b[0m\u001b[0m\n\u001b[1;32m      4\u001b[0m \u001b[0mip\u001b[0m\u001b[0;34m=\u001b[0m\u001b[0mint\u001b[0m\u001b[0;34m(\u001b[0m\u001b[0;34m(\u001b[0m\u001b[0mn\u001b[0m\u001b[0;34m+\u001b[0m\u001b[0;36m1\u001b[0m\u001b[0;34m)\u001b[0m\u001b[0;34m*\u001b[0m\u001b[0mp\u001b[0m\u001b[0;34m/\u001b[0m\u001b[0;36m100\u001b[0m\u001b[0;34m)\u001b[0m  \u001b[0;31m# fórmula posição percentil\u001b[0m\u001b[0;34m\u001b[0m\u001b[0;34m\u001b[0m\u001b[0m\n\u001b[1;32m      5\u001b[0m \u001b[0;34m\u001b[0m\u001b[0m\n",
            "\u001b[0;31mNameError\u001b[0m: name 'dfo' is not defined"
          ]
        }
      ]
    },
    {
      "cell_type": "code",
      "source": [
        "p=int(input(\"Qual percentil quer calcular? \"))  # entrada informada pelo usuário\n",
        "print('o valor do percentil é: ', np.percentile(df.V8005, p))  # usa a função da np para encontrar o valor do percentil"
      ],
      "metadata": {
        "id": "LZpaDjXao2hc"
      },
      "execution_count": null,
      "outputs": []
    },
    {
      "cell_type": "markdown",
      "source": [
        "#Medidas de dispersão"
      ],
      "metadata": {
        "id": "niP86Nf8o6B-"
      }
    },
    {
      "cell_type": "markdown",
      "source": [
        ">Amplitude"
      ],
      "metadata": {
        "id": "J1i1ykRWo-Pp"
      }
    },
    {
      "cell_type": "code",
      "source": [
        "k = df['V8005'].max()-df['V8005'].min()  # fórmula\n",
        "print(\"A maior idade é: \", df['V8005'].max(), \"e a menor: \", df['V8005'].min(),\n",
        "      \"\\n Portanto a amplitude é: \", k)"
      ],
      "metadata": {
        "id": "RKS9N_Ppo79t"
      },
      "execution_count": null,
      "outputs": []
    },
    {
      "cell_type": "markdown",
      "source": [
        ">Desvio médio absoluto\n",
        "\n",
        "![image.png](data:image/png;base64,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)"
      ],
      "metadata": {
        "id": "b7JUCQqfpAYu"
      }
    },
    {
      "cell_type": "code",
      "source": [
        "def somatorio(x): # criar uma função que precisa de uma entrada x\n",
        "    if x==1:\n",
        "        return 1  # para x=1 retorna a saída e encerra a função\n",
        "    else:  # caso x diferente de 1\n",
        "        return abs(x-k) + somatorio(x-1) # retorna o termo subtraído da média em valor absoluto e soma ao seu antecessor\n",
        "\n",
        "x = int(input(\"Calcular o somatório de 1 até: \"))  # construir a entrada x\n",
        "k = int(input(\"O valor médio dos dados é: \"))  # informar a média\n",
        "print(\"Resultado do desvio absoluto da média: \", somatorio(x)/x )  # print do desvio médio absoluto"
      ],
      "metadata": {
        "id": "d6T8ZH23pD3c"
      },
      "execution_count": null,
      "outputs": []
    },
    {
      "cell_type": "code",
      "source": [
        "x = df.V8005  # construir a entrada x\n",
        "k = df.V8005.mean()  # calcular a média\n",
        "n = len(df.V8005)  # tamanho da entrada\n",
        "\n",
        "def dm(x): # criar uma função que precisa de uma entrada x\n",
        "  aux = np.array(abs(x-k))  # auxiliar que monta um vetor com a entrada subtraída da média em valor absoluto\n",
        "  return aux.sum()/n  # saída da função: soma dos termos do vetor aux dividida por n\n",
        "\n",
        "print(\"Resultado do desvio absoluto da média: \", dm(x) )  # print do desvio médio absoluto"
      ],
      "metadata": {
        "id": "3aGum3UBpHMu"
      },
      "execution_count": null,
      "outputs": []
    },
    {
      "cell_type": "markdown",
      "source": [
        "#Variância e Desvio Padrão\n"
      ],
      "metadata": {
        "id": "HtotWTacpGtS"
      }
    },
    {
      "cell_type": "markdown",
      "source": [
        ">Variância\n",
        "\n",
        "![image.png](data:image/png;base64,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)"
      ],
      "metadata": {
        "id": "4Mkg7XpQpL9T"
      }
    },
    {
      "cell_type": "code",
      "source": [
        "x = df.V8005  # construir a entrada x\n",
        "k = df.V8005.mean()  # calcular a média\n",
        "n = len(df.V8005)  # tamanho da entrada\n",
        "\n",
        "def dmv(x): # criar uma função que precisa de uma entrada x\n",
        "  aux = np.array((x-k)**2)  # auxiliar que monta um vetor com a entrada subtraída da média elevada ao quadrado\n",
        "  return aux.sum()/(n-1)  # saída da função: soma dos termos do vetor aux dividida por (n-1)\n",
        "\n",
        "print(\"Resultado da variância: \", dmv(x) )  # informa o resultado da variância"
      ],
      "metadata": {
        "id": "g_WzrSWcpKfT"
      },
      "execution_count": null,
      "outputs": []
    },
    {
      "cell_type": "code",
      "source": [
        "df.var()"
      ],
      "metadata": {
        "id": "fnzHjRfepSf3"
      },
      "execution_count": null,
      "outputs": []
    },
    {
      "cell_type": "markdown",
      "source": [
        ">Desvio padrão\n",
        "\n",
        "![image.png](data:image/png;base64,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)"
      ],
      "metadata": {
        "id": "VMKMvu0DpR5p"
      }
    },
    {
      "cell_type": "code",
      "source": [
        "x = df.V8005  # construir a entrada x\n",
        "k = df.V8005.mean()  # calcular a média\n",
        "n = len(df.V8005)  # tamanho da entrada\n",
        "\n",
        "def dmv(x): # criar uma função que precisa de uma entrada x\n",
        "  aux = np.array((x-k)**2)  # auxiliar que monta um vetor com a entrada subtraída da média elevada ao quadrado\n",
        "  return aux.sum()/(n-1)  # saída da função: soma dos termos do vetor aux dividida por (n-1)\n",
        "\n",
        "print(\"Resultado do desvio padrão: \", np.sqrt(dmv(x)) )  # informa o resultado do desvio padrão"
      ],
      "metadata": {
        "id": "b_j1w80SpXmD"
      },
      "execution_count": null,
      "outputs": []
    },
    {
      "cell_type": "code",
      "source": [
        "df.std()"
      ],
      "metadata": {
        "id": "ROfDonhypan1"
      },
      "execution_count": null,
      "outputs": []
    },
    {
      "cell_type": "code",
      "source": [
        "df.describe()"
      ],
      "metadata": {
        "id": "5Gz48hm3pb3h"
      },
      "execution_count": null,
      "outputs": []
    },
    {
      "cell_type": "markdown",
      "source": [
        "#Gráfico de dispersão"
      ],
      "metadata": {
        "id": "k2xHMK5cpl1u"
      }
    },
    {
      "cell_type": "code",
      "source": [
        "plt.figure(figsize=(8,8))  # tamanho do gráfico\n",
        "\n",
        "sn.scatterplot(x=df.V8005,y=df.V4720)  #gráfico de dispersão (eixo x, eixo y)\n",
        "\n",
        "plt.ylabel('renda')  # nome do eixo y\n",
        "plt.xlabel('idade')  # nome do eixo x\n",
        "plt.show()  # exibir gráfico"
      ],
      "metadata": {
        "id": "3krkI74gpmz7"
      },
      "execution_count": null,
      "outputs": []
    },
    {
      "cell_type": "code",
      "source": [
        "from pandas.core.arrays import string_\n",
        "amostra = df.loc[(df.V8005>=18) & (df.V8005<=80) & (df.V4720>0)]  # seleciona uma amostra dos dados\n",
        "plt.figure(figsize=(8,8))  # tamanho do gráfico\n",
        "\n",
        "sn.scatterplot(x=amostra.V8005,y=amostra.V4720)  # gráfico de dispersão (eixo x, eixo y)\n",
        "\n",
        "plt.ylabel('renda')  # nome do eixo y\n",
        "plt.xlabel('idade')  # nome do eixo x\n",
        "plt.show()  # exibir gráfico"
      ],
      "metadata": {
        "id": "vlPk4eMJpqZq"
      },
      "execution_count": null,
      "outputs": []
    },
    {
      "cell_type": "code",
      "source": [
        "dado = amostra.groupby('V8005').agg({'V4720':'mean'})  # agrupa os dados da amostra\n",
        "dado.reset_index(inplace=True)  # preenche todas as linhas da coluna\n",
        "plt.figure(figsize=(10,5))  # tamanho do gráfico\n",
        "\n",
        "sn.scatterplot(x=dado.V8005,y=dado.V4720)  # gráfico de dispersão (eixo x, eixo y)\n",
        "\n",
        "plt.ylabel('renda média')  # nome do eixo y\n",
        "plt.xlabel('idade')  # nome do eixo x\n",
        "plt.show()  # exibir gráfico"
      ],
      "metadata": {
        "id": "rOE6HEfWpr9B"
      },
      "execution_count": null,
      "outputs": []
    },
    {
      "cell_type": "code",
      "source": [
        "dado = amostra.groupby('V8005').agg({'V4720':'std'})  # agrupa os dados da amostra\n",
        "dado.reset_index(inplace=True)  # preenche todas as linhas da coluna\n",
        "plt.figure(figsize=(10,5))  # tamanho do gráfico\n",
        "\n",
        "sn.scatterplot(x=dado.V8005,y=dado.V4720)  #gráfico de dispersão (eixo x, eixo y)\n",
        "\n",
        "plt.ylabel('desvio padrão - renda')  # nome do eixo y\n",
        "plt.xlabel('idade')  # nome do eixo x\n",
        "plt.show()  # exibir gráfico"
      ],
      "metadata": {
        "id": "PP-XJDQzptZK"
      },
      "execution_count": null,
      "outputs": []
    },
    {
      "cell_type": "code",
      "source": [
        "df.groupby('V0302').agg({'V4720':'mean'})  # agrupa os dados da amostra\n",
        "plt.figure(figsize=(5,5))  # tamanho do gráfico\n",
        "\n",
        "sn.scatterplot(x=df.V0302,y=df.V4720)  #gráfico de dispersão (eixo x, eixo y)\n",
        "\n",
        "plt.ylabel('renda média')  # nome do eixo y\n",
        "plt.xlabel('')  # nome do eixo x\n",
        "plt.show()  # exibir gráfico"
      ],
      "metadata": {
        "id": "oB8YMAoupu_2"
      },
      "execution_count": null,
      "outputs": []
    },
    {
      "cell_type": "code",
      "source": [
        "df.groupby('UF').agg({'V4720':'mean'})  # agrupa os dados da amostra\n",
        "plt.figure(figsize=(8,10))  # tamanho do gráfico\n",
        "\n",
        "sn.scatterplot(x=df.V4720,y=df.UF)  #gráfico de dispersão (eixo x, eixo y)\n",
        "\n",
        "plt.ylabel('')  # nome do eixo y\n",
        "plt.xlabel('renda média')  # nome do eixo x\n",
        "plt.show()  # exibir gráfico"
      ],
      "metadata": {
        "id": "GOw5dK-MpwhC"
      },
      "execution_count": null,
      "outputs": []
    },
    {
      "cell_type": "code",
      "source": [
        "df.groupby('UF').agg({'V8005':'mean'})  # agrupa os dados da amostra\n",
        "plt.figure(figsize=(8,10))  # tamanho do gráfico\n",
        "\n",
        "sn.scatterplot(x=df.V8005,y=df.UF)  #gráfico de dispersão (eixo x, eixo y)\n",
        "\n",
        "plt.ylabel('')  # nome do eixo y\n",
        "plt.xlabel('idade média')  # nome do eixo x\n",
        "plt.show()  # exibir gráfico"
      ],
      "metadata": {
        "id": "XctTf4ItpyY0"
      },
      "execution_count": null,
      "outputs": []
    },
    {
      "cell_type": "markdown",
      "source": [
        "#Coeficiente de variação - estabilidade\n",
        "\n",
        "![image.png](data:image/png;base64,iVBORw0KGgoAAAANSUhEUgAAAEsAAAAzCAIAAABQXWIRAAAChElEQVRoBe2YYa31IAyGawENWMADEtCABRzUAQ5QgAIMYAAH9cDN+ZqQ5Z6xsy3LTXe+7dfGWNeHl0IL9G+/4NsB+0N4f4kfDQVo2FqLMeK/q5Ry1CPpGtZalVLOOUQ0xgBAzvkQpHRC55wxhpGISClVa/0qQmvtIOy9p5QO4fUufrfIOQOAtba1dpSN+0ufpb33nLNSCgBOCChdwxgj60BE3nsAOKGkaA2XSDxdjy4zojUspQCA1hoRQwi8Z5wIRdEattZSSqf3+tusNCd0W34iWsOlo6fvH8LTQyfmw/9bw5QSp/MAYIwhot47IiqltNb8WGvVWp9I+f9M46mG3nulFCdKiAjw6hlCKKXwY62ViJxzRGSMQcQ/c/rQj9YJOYEYSVMpxVo77A7g0WKMmZVt1lrYvJaWh8ELb9YJjTFa69lvrLXLt6215ePsq6Ptm8PyernT4Eq/1hoAhBBmJowxy4FHxHNZ/8z+te0rhJwQzmbdK5cFGFFXa13SvjsncZYy4ezMh4gGIePxovrOJqRlRUM+DnHOsYsppaVKtVYmzDlba4XjTaunnDPvckop7/2vulNrrZRCRPl4U0IhE+wSN1Zm6SV2rzLCi8KvnWMZNR9/JJ3wI8DHDtIJW2vLsxkiKqUcin/RhIjI2ylnFK01Tja+hJCIODEeKdS5c2HRGnKMcaIfQthIszai8QaEvJxu5MkbePfYDzmLGqXcNs/72xtoyMWa9/7d+z0t0gk5/EIIXIIeWkWZXy5hKSXGyOGXUgKAGKP3flb0zPQUSkhE1tpRhfbevffOuaN491hpZuLsbBeq4U7v93R7CPeMkuw+j4ay9dnj3aPhnlGS3ef7NfwBmKgDgVfO/u8AAAAASUVORK5CYII=)"
      ],
      "metadata": {
        "id": "RxL73bqwpy5J"
      }
    },
    {
      "cell_type": "code",
      "source": [
        "cv_idade = df.V8005.std()/df.V8005.mean()  # calcular cv\n",
        "cv_salario = df.V4720.std()/df.V4720.mean()\n",
        "print(\"cv das idades: \", cv_idade , \"\\n cv das rendas: \",  cv_salario)   # comparar os cv"
      ],
      "metadata": {
        "id": "LtMtP9MIp1Fr"
      },
      "execution_count": null,
      "outputs": []
    },
    {
      "cell_type": "markdown",
      "source": [
        "#Coeficiente de Pearson - assimetria\n",
        "\n",
        "![image.png](data:image/png;base64,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)\n",
        "\n",
        "\n",
        "![image.png](data:image/png;base64,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)"
      ],
      "metadata": {
        "id": "9e1SdAa5p_Nq"
      }
    },
    {
      "cell_type": "code",
      "source": [
        "cp_idade = ((df.V8005.mean()-df.V8005.mode())/df.V8005.std()) # calcular cp\n",
        "cp_salario = ((df.V4720.mean()-df.V4720.mode())/df.V4720.std())\n",
        "print(\"cp das idades: \", cp_idade , \"\\n cp das rendas: \",  cp_salario)   # comparar os cp"
      ],
      "metadata": {
        "id": "K3dI53KZqAA7"
      },
      "execution_count": null,
      "outputs": []
    },
    {
      "cell_type": "code",
      "source": [
        "idade = df.V8005  # coluna analisada\n",
        "sn.kdeplot(data=idade, fill=True)  # tipo do gráfico com preenchimento de cor\n",
        "plt.ylabel('freq. pessoas')  # nome do eixo y\n",
        "plt.xlabel('idade')  # nome do eixo x\n",
        "plt.show()  # exibir gráfico"
      ],
      "metadata": {
        "id": "xQCGDOB6qIgh"
      },
      "execution_count": null,
      "outputs": []
    },
    {
      "cell_type": "code",
      "source": [
        "renda = df.V4720  # coluna analisada\n",
        "sn.kdeplot(data=renda, fill=True, clip=(1,10000))  # tipo do gráfico com preenchimento de cor e limite para os eixos\n",
        "plt.ylabel('freq. pessoas')  # nome do eixo y\n",
        "plt.xlabel('renda')  # nome do eixo x\n",
        "plt.show()  # exibir gráfico"
      ],
      "metadata": {
        "id": "XGhTXFMCqLBd"
      },
      "execution_count": null,
      "outputs": []
    },
    {
      "cell_type": "markdown",
      "source": [
        "#Curtose\n",
        "\n",
        "![image.png](data:image/png;base64,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)\n",
        "\n",
        "\n",
        "![image.png](data:image/png;base64,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)\n",
        "\n",
        "\n",
        "![image.png](data:image/png;base64,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)"
      ],
      "metadata": {
        "id": "I05QrxUOqM00"
      }
    },
    {
      "cell_type": "code",
      "source": [
        "# Ordena e salva em um novo DataFrame\n",
        "dfo = df.sort_values(by=\"V8005\")"
      ],
      "metadata": {
        "id": "AOshpt59qSWU"
      },
      "execution_count": null,
      "outputs": []
    },
    {
      "cell_type": "code",
      "source": [
        "n=len(dfo.V8005)\n",
        "\n",
        "Q1=np.quantile(df.V8005, .25)  # primeiro quartil\n",
        "Q3=np.quantile(df.V8005, .75)  # terceiro quartil\n",
        "ip90=np.percentile(df.V8005, 90)  # percentil 90\n",
        "ip10=np.percentile(df.V8005, 10)  # percentil 10\n",
        "\n",
        "k=((Q3-Q1)/2)/(ip90-ip10)  # fórmula\n",
        "\n",
        "print(\"A curtose é: \", k)"
      ],
      "metadata": {
        "id": "Q246LQatqVz6"
      },
      "execution_count": null,
      "outputs": []
    },
    {
      "cell_type": "code",
      "source": [
        "idade = df.V8005  # coluna analisada\n",
        "\n",
        "sn.kdeplot(idade, fill=True)  # dristribuição\n",
        "\n",
        "plt.ylabel('frequência pessoas')  # nome do eixo y\n",
        "plt.xlabel('idade')  # nome do eixo x\n",
        "\n",
        "plt.show()  # exibir gráfico"
      ],
      "metadata": {
        "id": "QipZUsI4qXg6"
      },
      "execution_count": null,
      "outputs": []
    },
    {
      "cell_type": "markdown",
      "source": [
        "> Faremos o mesmo agora para a coluna de rendas:"
      ],
      "metadata": {
        "id": "9z5nSSVmqemz"
      }
    },
    {
      "cell_type": "code",
      "source": [
        "dfo = df.sort_values(by=\"V4720\")"
      ],
      "metadata": {
        "id": "T6ntTfTsqgo0"
      },
      "execution_count": null,
      "outputs": []
    },
    {
      "cell_type": "code",
      "source": [
        "n=len(dfo.V4720)\n",
        "\n",
        "Q1=np.quantile(df.V4720, .25)  # primeiro quartil\n",
        "Q3=np.quantile(df.V4720, .75)  # terceiro quartil\n",
        "ip90=np.percentile(df.V4720, 90)  # percentil 90\n",
        "ip10=np.percentile(df.V4720, 10)  # percentil 10\n",
        "\n",
        "k=((Q3-Q1)/2)/(ip90-ip10)  # fórmula\n",
        "\n",
        "print(\"A curtose é: \", k)"
      ],
      "metadata": {
        "id": "9hnhCOxlqiWM"
      },
      "execution_count": null,
      "outputs": []
    },
    {
      "cell_type": "code",
      "source": [
        "renda = dfo.V4720  # coluna analisada\n",
        "\n",
        "sn.kdeplot(renda, fill=True, clip=(1,10000))  # quantidade de intervalos - não cumulativo\n",
        "\n",
        "plt.ylabel('frequência pessoas')  # nome do eixo y\n",
        "plt.xlabel('renda')  # nome do eixo x\n",
        "\n",
        "plt.show()  # exibir gráfico"
      ],
      "metadata": {
        "id": "SaYy7nDXqjzV"
      },
      "execution_count": null,
      "outputs": []
    },
    {
      "cell_type": "markdown",
      "source": [
        ">Comparando as amplitudes:"
      ],
      "metadata": {
        "id": "VFa2J2imqoSn"
      }
    },
    {
      "cell_type": "code",
      "source": [
        "i = df['V8005'].max()-df['V8005'].min()  # fórmula\n",
        "r = df['V4720'].max()-df['V4720'].min()  # fórmula\n",
        "print(\"A amplitude das idades é: \", i,\n",
        "      \"\\n e a amplitude das rendas é: \", r)"
      ],
      "metadata": {
        "id": "Nua3V2JVqmzL"
      },
      "execution_count": null,
      "outputs": []
    }
  ]
}